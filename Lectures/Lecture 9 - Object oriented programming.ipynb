{
 "cells": [
  {
   "cell_type": "markdown",
   "metadata": {
    "slideshow": {
     "slide_type": "slide"
    }
   },
   "source": [
    "# Computational Programming with Python\n",
    "### Lecture : Object oriented programming\n",
    "\n",
    "\n",
    "### Center for Mathematical Sciences, Lund University\n",
    "Lecturer: Claus Führer, Malin Christersson, Robert Klöfkorn\n"
   ]
  },
  {
   "cell_type": "markdown",
   "metadata": {
    "slideshow": {
     "slide_type": "slide"
    }
   },
   "source": [
    "# This lecture\n",
    "\n",
    "- Last lecture\n",
    "- Changing attributes\n",
    "- Inheritance\n",
    "- Objects that act like functions\n",
    "- Class attributes, static and class methods"
   ]
  },
  {
   "cell_type": "markdown",
   "metadata": {
    "slideshow": {
     "slide_type": "slide"
    }
   },
   "source": [
    "# Last lecture\n",
    "\n",
    "We created a data type called `RationalNumber` using the keyword `class`. \n",
    "\n",
    "In the definition of methods, the variable `self` referred to the instance of the class. \n",
    "\n",
    "We defined an addition operator by using the special method `__add__`, and a reverse addition operator using `__radd__`.\n",
    "\n",
    "We specified a string representation of an instance by using the special method `__repr__`."
   ]
  },
  {
   "cell_type": "code",
   "execution_count": 1,
   "metadata": {},
   "outputs": [],
   "source": [
    "from numpy import *\n",
    "from matplotlib.pyplot import *\n",
    "%matplotlib inline"
   ]
  },
  {
   "cell_type": "markdown",
   "metadata": {
    "slideshow": {
     "slide_type": "subslide"
    }
   },
   "source": [
    "## A rational number"
   ]
  },
  {
   "cell_type": "code",
   "execution_count": 2,
   "metadata": {},
   "outputs": [
    {
     "name": "stdout",
     "output_type": "stream",
     "text": [
      "5/6\n",
      "3/2\n"
     ]
    }
   ],
   "source": [
    "class RationalNumber:\n",
    "    def __init__(self, numerator, denominator): \n",
    "        if not isinstance(numerator, int) or not isinstance(denominator, int):\n",
    "            raise TypeError(\"numerator and denominator must be integers.\")\n",
    "        self.numerator = numerator\n",
    "        self.denominator = denominator\n",
    "    def __add__(self, other):\n",
    "        p1, q1 = self.numerator, self.denominator\n",
    "        if isinstance(other, RationalNumber):\n",
    "            p2, q2 = other.numerator, other.denominator\n",
    "        elif isinstance(other, int):\n",
    "            p2, q2 = other, 1\n",
    "        else:\n",
    "            raise TypeError(\"Wrong type!\")\n",
    "        return RationalNumber(p1*q2 + p2*q1, q1*q2)\n",
    "    def __radd__(self, other):\n",
    "        return self + other\n",
    "    def __repr__(self):\n",
    "        return f\"{self.numerator}/{self.denominator}\"\n",
    "    \n",
    "p = RationalNumber(1, 2)\n",
    "q = RationalNumber(1, 3)\n",
    "print(p+q)\n",
    "print(1+p)"
   ]
  },
  {
   "cell_type": "markdown",
   "metadata": {
    "slideshow": {
     "slide_type": "subslide"
    }
   },
   "source": [
    "## Everything can be changed\n",
    "\n",
    "By **default** all members in a Python class are **public**. Any member can be accessed from outside the class environment. Everything can be changed after creating an instance. \n",
    "\n",
    "In other programming languages such as C++ or Java there exist concepts for public, protected and private members in a class."
   ]
  },
  {
   "cell_type": "code",
   "execution_count": 3,
   "metadata": {},
   "outputs": [
    {
     "name": "stdout",
     "output_type": "stream",
     "text": [
      "2/3\n",
      "23/3\n"
     ]
    }
   ],
   "source": [
    "r = RationalNumber(2, 3)\n",
    "print(r)\n",
    "r.numerator = 23\n",
    "r.name = 'my favorite fraction' # a new attribute\n",
    "print(r)"
   ]
  },
  {
   "cell_type": "markdown",
   "metadata": {},
   "source": [
    "We can even delete an attribute."
   ]
  },
  {
   "cell_type": "code",
   "execution_count": 4,
   "metadata": {},
   "outputs": [],
   "source": [
    "r = RationalNumber(2, 3)\n",
    "del r.numerator\n",
    "# print(r)  # error"
   ]
  },
  {
   "cell_type": "markdown",
   "metadata": {
    "slideshow": {
     "slide_type": "subslide"
    }
   },
   "source": [
    "\n",
    "## A similar class\n",
    "\n",
    "Consider following class:\n",
    "\n"
   ]
  },
  {
   "cell_type": "code",
   "execution_count": 5,
   "metadata": {},
   "outputs": [
    {
     "name": "stdout",
     "output_type": "stream",
     "text": [
      "p = 1/4\n",
      "p = 2/4\n"
     ]
    }
   ],
   "source": [
    "class SimplifiedFraction:\n",
    "    # greatest_common_divisor = 0\n",
    "    def __init__(self, num, denom): \n",
    "        greatest_common_divisor = gcd(num, denom) # using the numpy function gcd()\n",
    "        self.num = int(num/greatest_common_divisor)\n",
    "        self.denom = int(denom/greatest_common_divisor)\n",
    "    \n",
    "    def __repr__(self):\n",
    "        return f\"{self.num}/{self.denom}\"\n",
    "        # return str(self.num) + \"/\" + str(self.denom)\n",
    "    \n",
    "p = SimplifiedFraction(3, 12)\n",
    "print(\"p =\", p)\n",
    "\n",
    "p.num = 2        # here the numerator is changed\n",
    "print(\"p =\", p)  # no longer a simplified fraction"
   ]
  },
  {
   "cell_type": "markdown",
   "metadata": {
    "slideshow": {
     "slide_type": "slide"
    }
   },
   "source": [
    "## Changing attributes\n",
    "\n",
    "We can __*protect*__ access to attributes. __*By convention*__ attributes that have a __*leading underscore*__ are meant for internal use only."
   ]
  },
  {
   "cell_type": "code",
   "execution_count": 6,
   "metadata": {},
   "outputs": [
    {
     "name": "stdout",
     "output_type": "stream",
     "text": [
      "p = 1/4\n"
     ]
    }
   ],
   "source": [
    "class SimplifiedFraction:\n",
    "    def __init__(self, num, denom): \n",
    "        greatest_common_divisor = gcd(num, denom)  \n",
    "        self._num = int(num/greatest_common_divisor)\n",
    "        self._denom = int(denom/greatest_common_divisor)\n",
    "    \n",
    "    def __repr__(self):\n",
    "        return f\"{self._num}/{self._denom}\"\n",
    "    \n",
    "p = SimplifiedFraction(3, 12)\n",
    "# p = SimplifiedFraction.__init__(p,3,12)\n",
    "print(\"p =\", p)"
   ]
  },
  {
   "cell_type": "markdown",
   "metadata": {
    "slideshow": {
     "slide_type": "subslide"
    }
   },
   "source": [
    "## Get and set\n",
    "\n",
    "We can provide *getter* and *setter* methods to replace direct access."
   ]
  },
  {
   "cell_type": "code",
   "execution_count": 7,
   "metadata": {},
   "outputs": [
    {
     "name": "stdout",
     "output_type": "stream",
     "text": [
      "p = 1/4\n",
      "1\n",
      "1\n",
      "p = 1/2\n"
     ]
    }
   ],
   "source": [
    "class SimplifiedFraction:\n",
    "    def __init__(self, num, denom): \n",
    "        greatest_common_divisor = gcd(num, denom)  \n",
    "        self._num = int(num/greatest_common_divisor)\n",
    "        self._denom = int(denom/greatest_common_divisor)\n",
    "        \n",
    "    def get_num(self):\n",
    "        return self._num\n",
    "    \n",
    "    def set_num(self, new_num):\n",
    "        self.__init__(new_num, self._denom)  # simplify the new fraction\n",
    "    \n",
    "    def __repr__(self):\n",
    "        return f\"{self._num}/{self._denom}\"\n",
    "    \n",
    "p = SimplifiedFraction(3, 12)\n",
    "\n",
    "print(\"p =\", p)\n",
    "print(p._num) # bad style, don't do it\n",
    "print(p.get_num()) # good style, do it liek this\n",
    "\n",
    "p.set_num(2)    # using the setter \n",
    "print(\"p =\", p)"
   ]
  },
  {
   "cell_type": "markdown",
   "metadata": {
    "slideshow": {
     "slide_type": "subslide"
    }
   },
   "source": [
    "## A triangle example\n",
    "\n",
    "![triangle](http://cmc.education/slides/notebookImages/triangle.svg)"
   ]
  },
  {
   "cell_type": "markdown",
   "metadata": {
    "slideshow": {
     "slide_type": "subslide"
    }
   },
   "source": [
    "## A class implementing a triangle"
   ]
  },
  {
   "cell_type": "code",
   "execution_count": 8,
   "metadata": {},
   "outputs": [
    {
     "name": "stdout",
     "output_type": "stream",
     "text": [
      "area = 0.5\n"
     ]
    }
   ],
   "source": [
    "class Triangle:\n",
    "    def __init__(self, A, B, C):\n",
    "        self.A = array(A)\n",
    "        self.B = array(B)\n",
    "        self.C = array(C)\n",
    "        self.a = self.C - self.B\n",
    "        self.b = self.C - self.A\n",
    "        self.c = self.B - self.A\n",
    "    def area(self):\n",
    "        return abs(cross(self.b, self.c))/2 # the numpy cross function\n",
    "    \n",
    "tr = Triangle([0, 0], [1, 0], [0, 1])\n",
    "print(\"area =\", tr.area())"
   ]
  },
  {
   "cell_type": "markdown",
   "metadata": {
    "slideshow": {
     "slide_type": "subslide"
    }
   },
   "source": [
    "## The `cross` function\n",
    "\n",
    "For vectors in $\\mathbb{R}^3$, the cross product is returned."
   ]
  },
  {
   "cell_type": "code",
   "execution_count": 9,
   "metadata": {},
   "outputs": [
    {
     "name": "stdout",
     "output_type": "stream",
     "text": [
      "[0 0 1]\n"
     ]
    }
   ],
   "source": [
    "a = array([1, 0, 0])\n",
    "b = array([0, 1, 0])\n",
    "print(cross(a, b))"
   ]
  },
  {
   "cell_type": "markdown",
   "metadata": {},
   "source": [
    "For vectors in $\\mathbb{R}^2$, the $z$ component is assumed to be zero, and the $z$ component of the  cross product is returned."
   ]
  },
  {
   "cell_type": "code",
   "execution_count": 10,
   "metadata": {},
   "outputs": [
    {
     "name": "stdout",
     "output_type": "stream",
     "text": [
      "1\n"
     ]
    }
   ],
   "source": [
    "a = array([1, 0])\n",
    "b = array([0, 1])\n",
    "print(cross(a, b))"
   ]
  },
  {
   "cell_type": "markdown",
   "metadata": {
    "slideshow": {
     "slide_type": "subslide"
    }
   },
   "source": [
    "## Altering an attribute\n",
    "\n",
    "In the triangle example, attributes depend on each other. Altering an attribute can cause data inconsistencies:"
   ]
  },
  {
   "cell_type": "code",
   "execution_count": 11,
   "metadata": {},
   "outputs": [
    {
     "name": "stdout",
     "output_type": "stream",
     "text": [
      "area = 0.5\n",
      "area = 0.5\n"
     ]
    }
   ],
   "source": [
    "tr = Triangle([0, 0], [1, 0], [0, 1])\n",
    "print(\"area =\", tr.area())\n",
    "tr.B = array([10, 0])\n",
    "print(\"area =\", tr.area())  # wrong area"
   ]
  },
  {
   "cell_type": "markdown",
   "metadata": {
    "slideshow": {
     "slide_type": "subslide"
    }
   },
   "source": [
    "## Using getter and setter methods for `B`"
   ]
  },
  {
   "cell_type": "code",
   "execution_count": 12,
   "metadata": {},
   "outputs": [],
   "source": [
    "class Triangle:\n",
    "    def __init__(self, A, B, C):\n",
    "        self._A = array(A)\n",
    "        self._B = array(B)\n",
    "        self._C = array(C)\n",
    "        self._a = self._C - self._B\n",
    "        self._b = self._C - self._A\n",
    "        self._c = self._B - self._A\n",
    "    def area(self):\n",
    "        return abs(cross(self._b, self._c))/2\n",
    "    def get_B(self):\n",
    "        return self._B\n",
    "    def set_B(self, B):\n",
    "        self._B = B\n",
    "        self._a = self._C - self._B\n",
    "        self._c = self._B - self._A\n",
    "        # or simply use init again\n",
    "        # self.__init__(self._A, B, self._C)"
   ]
  },
  {
   "cell_type": "markdown",
   "metadata": {},
   "source": [
    "Now we can use the methods `get_B` and `set_B` to access the attribute `B`. "
   ]
  },
  {
   "cell_type": "code",
   "execution_count": 13,
   "metadata": {},
   "outputs": [
    {
     "name": "stdout",
     "output_type": "stream",
     "text": [
      "area = 5.0\n"
     ]
    }
   ],
   "source": [
    "tr = Triangle([0, 0], [1, 0], [0, 1])\n",
    "tr.set_B(array([10, 0]))\n",
    "print(\"area =\", tr.area())  # correct area"
   ]
  },
  {
   "cell_type": "markdown",
   "metadata": {
    "slideshow": {
     "slide_type": "subslide"
    }
   },
   "source": [
    "## The `property` command\n",
    "\n",
    "We can bind the getter and setter methods to a property `B`. The property `B` is accessed directly but internally\n",
    "the getter and setter methods will use the hidden attribute `_B`."
   ]
  },
  {
   "cell_type": "markdown",
   "metadata": {
    "slideshow": {
     "slide_type": "subslide"
    }
   },
   "source": [
    "## Making a property `B`"
   ]
  },
  {
   "cell_type": "code",
   "execution_count": 14,
   "metadata": {
    "slideshow": {
     "slide_type": "notes"
    }
   },
   "outputs": [],
   "source": [
    "class Stock(object):\n",
    "\n",
    "    def __init__(self, stockName):\n",
    "\n",
    "        # '_' is just a convention and does nothing\n",
    "        self.__stockName  = stockName   # private now\n",
    "\n",
    "\n",
    "    @property # when you do Stock.name, it will call this function\n",
    "    def name(self):\n",
    "        print(\"In the getter, __stockName is %s\" % self.__stockName, file=sys.stderr)\n",
    "        return self.__stockName\n",
    "\n",
    "    @name.setter # when you do Stock.name = x, it will call this function\n",
    "    def name(self, name):\n",
    "        print(\"In the setter, name is %s will become %s\" % ( self.__stockName, name), file=sys.stderr)\n",
    "        self.__stockName = name\n"
   ]
  },
  {
   "cell_type": "code",
   "execution_count": 19,
   "metadata": {},
   "outputs": [],
   "source": [
    "class Triangle:\n",
    "    def __init__(self, A, B, C):\n",
    "        self._A = array(A)\n",
    "        self._B = array(B)\n",
    "        self._C = array(C)\n",
    "        self._a = self._C - self._B\n",
    "        self._b = self._C - self._A\n",
    "        self._c = self._B - self._A\n",
    "    def area(self):\n",
    "        return abs(cross(self._b, self._c))/2\n",
    "    def get_B(self):\n",
    "        return self._B\n",
    "    def set_B(self, B):\n",
    "        self._B = B\n",
    "        self._a = self._C - self._B\n",
    "        self._c = self._B - self._A\n",
    "    B = property(fget=get_B, fset=set_B) # bind the getter and setter to B"
   ]
  },
  {
   "cell_type": "markdown",
   "metadata": {
    "slideshow": {
     "slide_type": "subslide"
    }
   },
   "source": [
    "Now it's safe to alter the value of B."
   ]
  },
  {
   "cell_type": "code",
   "execution_count": 20,
   "metadata": {},
   "outputs": [
    {
     "name": "stdout",
     "output_type": "stream",
     "text": [
      "area = 5.0\n",
      "[10  0]\n"
     ]
    }
   ],
   "source": [
    "tr = Triangle([0, 0], [1, 0], [0, 1])\n",
    "tr.B = array([10, 0])      # method set_B is used\n",
    "print(\"area =\", tr.area())\n",
    "print(tr.B)                 # method get_B is used"
   ]
  },
  {
   "cell_type": "markdown",
   "metadata": {
    "slideshow": {
     "slide_type": "subslide"
    }
   },
   "source": [
    "## A common mistake &hyphen; underscore forgotten"
   ]
  },
  {
   "cell_type": "code",
   "execution_count": 17,
   "metadata": {},
   "outputs": [],
   "source": [
    "class Triangle:\n",
    "    def __init__(self, A, B, C):\n",
    "        self._A = array(A)\n",
    "        self._B = array(B)\n",
    "        self._C = array(C)\n",
    "        self._a = self._C - self._B\n",
    "        self._b = self._C - self._A\n",
    "        self._c = self._B - self._A\n",
    "    def area(self):\n",
    "        return abs(cross(self._b, self._c))/2\n",
    "    def get_B(self):\n",
    "        return self.B           # should be self._B otherwise we get a RecursionError\n",
    "    def set_B(self, B):\n",
    "        self._B = B\n",
    "        self._a = self._C - self._B\n",
    "        self._c = self._B - self._A\n",
    "    B = property(fget=get_B, fset=set_B)"
   ]
  },
  {
   "cell_type": "markdown",
   "metadata": {},
   "source": [
    "What happens if we try to run:"
   ]
  },
  {
   "cell_type": "code",
   "execution_count": 18,
   "metadata": {
    "scrolled": true
   },
   "outputs": [
    {
     "ename": "RecursionError",
     "evalue": "maximum recursion depth exceeded",
     "output_type": "error",
     "traceback": [
      "\u001b[0;31m---------------------------------------------------------------------------\u001b[0m",
      "\u001b[0;31mRecursionError\u001b[0m                            Traceback (most recent call last)",
      "\u001b[0;32m<ipython-input-18-442a58d9101a>\u001b[0m in \u001b[0;36m<module>\u001b[0;34m\u001b[0m\n\u001b[1;32m      1\u001b[0m \u001b[0mtr\u001b[0m \u001b[0;34m=\u001b[0m \u001b[0mTriangle\u001b[0m\u001b[0;34m(\u001b[0m\u001b[0;34m[\u001b[0m\u001b[0;36m0\u001b[0m\u001b[0;34m,\u001b[0m \u001b[0;36m0\u001b[0m\u001b[0;34m]\u001b[0m\u001b[0;34m,\u001b[0m \u001b[0;34m[\u001b[0m\u001b[0;36m1\u001b[0m\u001b[0;34m,\u001b[0m \u001b[0;36m0\u001b[0m\u001b[0;34m]\u001b[0m\u001b[0;34m,\u001b[0m \u001b[0;34m[\u001b[0m\u001b[0;36m0\u001b[0m\u001b[0;34m,\u001b[0m \u001b[0;36m1\u001b[0m\u001b[0;34m]\u001b[0m\u001b[0;34m)\u001b[0m\u001b[0;34m\u001b[0m\u001b[0;34m\u001b[0m\u001b[0m\n\u001b[0;32m----> 2\u001b[0;31m \u001b[0mprint\u001b[0m\u001b[0;34m(\u001b[0m\u001b[0mtr\u001b[0m\u001b[0;34m.\u001b[0m\u001b[0mB\u001b[0m\u001b[0;34m)\u001b[0m\u001b[0;34m\u001b[0m\u001b[0;34m\u001b[0m\u001b[0m\n\u001b[0m",
      "\u001b[0;32m<ipython-input-17-6b48137fefc8>\u001b[0m in \u001b[0;36mget_B\u001b[0;34m(self)\u001b[0m\n\u001b[1;32m     10\u001b[0m         \u001b[0;32mreturn\u001b[0m \u001b[0mabs\u001b[0m\u001b[0;34m(\u001b[0m\u001b[0mcross\u001b[0m\u001b[0;34m(\u001b[0m\u001b[0mself\u001b[0m\u001b[0;34m.\u001b[0m\u001b[0m_b\u001b[0m\u001b[0;34m,\u001b[0m \u001b[0mself\u001b[0m\u001b[0;34m.\u001b[0m\u001b[0m_c\u001b[0m\u001b[0;34m)\u001b[0m\u001b[0;34m)\u001b[0m\u001b[0;34m/\u001b[0m\u001b[0;36m2\u001b[0m\u001b[0;34m\u001b[0m\u001b[0;34m\u001b[0m\u001b[0m\n\u001b[1;32m     11\u001b[0m     \u001b[0;32mdef\u001b[0m \u001b[0mget_B\u001b[0m\u001b[0;34m(\u001b[0m\u001b[0mself\u001b[0m\u001b[0;34m)\u001b[0m\u001b[0;34m:\u001b[0m\u001b[0;34m\u001b[0m\u001b[0;34m\u001b[0m\u001b[0m\n\u001b[0;32m---> 12\u001b[0;31m         \u001b[0;32mreturn\u001b[0m \u001b[0mself\u001b[0m\u001b[0;34m.\u001b[0m\u001b[0mB\u001b[0m           \u001b[0;31m# should be self._B\u001b[0m\u001b[0;34m\u001b[0m\u001b[0;34m\u001b[0m\u001b[0m\n\u001b[0m\u001b[1;32m     13\u001b[0m     \u001b[0;32mdef\u001b[0m \u001b[0mset_B\u001b[0m\u001b[0;34m(\u001b[0m\u001b[0mself\u001b[0m\u001b[0;34m,\u001b[0m \u001b[0mB\u001b[0m\u001b[0;34m)\u001b[0m\u001b[0;34m:\u001b[0m\u001b[0;34m\u001b[0m\u001b[0;34m\u001b[0m\u001b[0m\n\u001b[1;32m     14\u001b[0m         \u001b[0mself\u001b[0m\u001b[0;34m.\u001b[0m\u001b[0m_B\u001b[0m \u001b[0;34m=\u001b[0m \u001b[0mB\u001b[0m\u001b[0;34m\u001b[0m\u001b[0;34m\u001b[0m\u001b[0m\n",
      "... last 1 frames repeated, from the frame below ...\n",
      "\u001b[0;32m<ipython-input-17-6b48137fefc8>\u001b[0m in \u001b[0;36mget_B\u001b[0;34m(self)\u001b[0m\n\u001b[1;32m     10\u001b[0m         \u001b[0;32mreturn\u001b[0m \u001b[0mabs\u001b[0m\u001b[0;34m(\u001b[0m\u001b[0mcross\u001b[0m\u001b[0;34m(\u001b[0m\u001b[0mself\u001b[0m\u001b[0;34m.\u001b[0m\u001b[0m_b\u001b[0m\u001b[0;34m,\u001b[0m \u001b[0mself\u001b[0m\u001b[0;34m.\u001b[0m\u001b[0m_c\u001b[0m\u001b[0;34m)\u001b[0m\u001b[0;34m)\u001b[0m\u001b[0;34m/\u001b[0m\u001b[0;36m2\u001b[0m\u001b[0;34m\u001b[0m\u001b[0;34m\u001b[0m\u001b[0m\n\u001b[1;32m     11\u001b[0m     \u001b[0;32mdef\u001b[0m \u001b[0mget_B\u001b[0m\u001b[0;34m(\u001b[0m\u001b[0mself\u001b[0m\u001b[0;34m)\u001b[0m\u001b[0;34m:\u001b[0m\u001b[0;34m\u001b[0m\u001b[0;34m\u001b[0m\u001b[0m\n\u001b[0;32m---> 12\u001b[0;31m         \u001b[0;32mreturn\u001b[0m \u001b[0mself\u001b[0m\u001b[0;34m.\u001b[0m\u001b[0mB\u001b[0m           \u001b[0;31m# should be self._B\u001b[0m\u001b[0;34m\u001b[0m\u001b[0;34m\u001b[0m\u001b[0m\n\u001b[0m\u001b[1;32m     13\u001b[0m     \u001b[0;32mdef\u001b[0m \u001b[0mset_B\u001b[0m\u001b[0;34m(\u001b[0m\u001b[0mself\u001b[0m\u001b[0;34m,\u001b[0m \u001b[0mB\u001b[0m\u001b[0;34m)\u001b[0m\u001b[0;34m:\u001b[0m\u001b[0;34m\u001b[0m\u001b[0;34m\u001b[0m\u001b[0m\n\u001b[1;32m     14\u001b[0m         \u001b[0mself\u001b[0m\u001b[0;34m.\u001b[0m\u001b[0m_B\u001b[0m \u001b[0;34m=\u001b[0m \u001b[0mB\u001b[0m\u001b[0;34m\u001b[0m\u001b[0;34m\u001b[0m\u001b[0m\n",
      "\u001b[0;31mRecursionError\u001b[0m: maximum recursion depth exceeded"
     ]
    }
   ],
   "source": [
    "tr = Triangle([0, 0], [1, 0], [0, 1])\n",
    "print(tr.B) "
   ]
  },
  {
   "cell_type": "markdown",
   "metadata": {
    "slideshow": {
     "slide_type": "subslide"
    }
   },
   "source": [
    "## A triangle has three corners\n",
    "\n",
    "Python allows us to delete an attribute. If so, we won't have a triangle any more. To prohibit deletion:"
   ]
  },
  {
   "cell_type": "code",
   "execution_count": 22,
   "metadata": {},
   "outputs": [
    {
     "name": "stderr",
     "output_type": "stream",
     "text": [
      "Traceback (most recent call last):\n",
      "  File \"<stdin>\", line 23, in <module>\n",
      "  File \"<stdin>\", line 19, in del_Pt\n",
      "Exception: A triangle point cannot be deleted.\n"
     ]
    }
   ],
   "source": [
    "%%script python --no-raise-error\n",
    "from numpy import *\n",
    "class Triangle:\n",
    "    def __init__(self, A, B, C):\n",
    "        self._A = array(A)\n",
    "        self._B = array(B)\n",
    "        self._C = array(C)\n",
    "        self._a = self._C - self._B\n",
    "        self._b = self._C - self._A\n",
    "        self._c = self._B - self._A\n",
    "    def area(self):\n",
    "        return abs(cross(self._b, self._c))/2\n",
    "    def get_B(self):\n",
    "        return self._B \n",
    "    def set_B(self, B):\n",
    "        self._B = B\n",
    "        self._a = self._C - self._B\n",
    "        self._c = self._B - self._A\n",
    "    def del_Pt(self):\n",
    "        raise Exception(\"A triangle point cannot be deleted.\")\n",
    "    B = property(fget=get_B, fset=set_B, fdel=del_Pt)\n",
    "    \n",
    "tr = Triangle([0, 0], [1, 0], [0, 1])\n",
    "del tr.B"
   ]
  },
  {
   "cell_type": "markdown",
   "metadata": {
    "slideshow": {
     "slide_type": "slide"
    }
   },
   "source": [
    "# Inheritance\n",
    "\n",
    "#### Example &hyphen; lines\n",
    "\n",
    "A line can be defined by two points $A$ and $B$. \n",
    "\n",
    "We will define a parent class, or **base class**, `Line`.\n",
    "\n",
    "Then we will define two child classes, or **derived classes**, `DashedLine` and `NonVerticalLine`.\n",
    "\n",
    "To make a class that is a child class of som parent class, the parent class name is written inside parenthesis:\n",
    "\n",
    "```python\n",
    "class ChildClass(ParentClass):\n",
    "    ...\n",
    "```"
   ]
  },
  {
   "cell_type": "markdown",
   "metadata": {
    "slideshow": {
     "slide_type": "subslide"
    }
   },
   "source": [
    "## Defining the base class"
   ]
  },
  {
   "cell_type": "code",
   "execution_count": 23,
   "metadata": {},
   "outputs": [
    {
     "data": {
      "image/png": "[encoded data removed]",
      "text/plain": [
       "<Figure size 432x288 with 1 Axes>"
      ]
     },
     "metadata": {
      "needs_background": "light"
     },
     "output_type": "display_data"
    }
   ],
   "source": [
    "class Line:\n",
    "    def __init__(self, A, B):\n",
    "        self.A = array(A)\n",
    "        self.B = array(B)   \n",
    "    def plot(self):\n",
    "        grid()\n",
    "        plot([self.A[0], self.B[0]], [self.A[1], self.B[1]])\n",
    "        \n",
    "L = Line([1, 1], [5, 3])\n",
    "L.plot()"
   ]
  },
  {
   "cell_type": "markdown",
   "metadata": {
    "slideshow": {
     "slide_type": "subslide"
    }
   },
   "source": [
    "## Defining a derived class `DashedLine`\n",
    "\n",
    "A `DashedLine` inherits all data attributes and all methods from `Line` but the plot method is redefined, **overriding** the method of the base class."
   ]
  },
  {
   "cell_type": "code",
   "execution_count": 24,
   "metadata": {},
   "outputs": [
    {
     "name": "stdout",
     "output_type": "stream",
     "text": [
      "dl.A = [1 1], dl.B = [5 3]\n"
     ]
    },
    {
     "data": {
      "image/png": "[encoded data removed]",
      "text/plain": [
       "<Figure size 432x288 with 1 Axes>"
      ]
     },
     "metadata": {
      "needs_background": "light"
     },
     "output_type": "display_data"
    }
   ],
   "source": [
    "class DashedLine(Line):\n",
    "    def plot(self):  # override the plot method\n",
    "        plot([self.A[0], self.B[0]], [self.A[1], self.B[1]], '--')\n",
    "        \n",
    "dl = DashedLine([1, 1], [5, 3])  \n",
    "print(f\"dl.A = {dl.A}, dl.B = {dl.B}\")\n",
    "dl.plot()  "
   ]
  },
  {
   "cell_type": "markdown",
   "metadata": {
    "slideshow": {
     "slide_type": "subslide"
    }
   },
   "source": [
    "## Using `super()` \n",
    "\n",
    "We can make another derived class `NonVerticalLine`. It has the same attributes as `Line`, but also the attributes `slope` and `y_intercept`. \n",
    "\n",
    "To call the `__init__` method of the parent class, we refer to the parent class by using `super()`."
   ]
  },
  {
   "cell_type": "code",
   "execution_count": 25,
   "metadata": {},
   "outputs": [
    {
     "name": "stdout",
     "output_type": "stream",
     "text": [
      "L.A = [-1 -1], L.B = [4 1], L.slope = 0.4, L.y_intercept = -0.6\n"
     ]
    },
    {
     "data": {
      "image/png": "[encoded data removed]",
      "text/plain": [
       "<Figure size 432x288 with 1 Axes>"
      ]
     },
     "metadata": {
      "needs_background": "light"
     },
     "output_type": "display_data"
    }
   ],
   "source": [
    "class NonVerticalLine(Line):\n",
    "    def __init__(self, A, B):     # override the init method \n",
    "        super().__init__(A, B) \n",
    "        self.slope = (B[1]-A[1])/(B[0]-A[0]) # may raise a ZeroDivisionError\n",
    "        self.y_intercept = A[1] - self.slope*A[0]\n",
    "        \n",
    "L = NonVerticalLine([-1, -1], [4, 1])\n",
    "print(f\"L.A = {L.A}, L.B = {L.B}, L.slope = {L.slope}, L.y_intercept = {L.y_intercept}\")\n",
    "L.plot()"
   ]
  },
  {
   "cell_type": "markdown",
   "metadata": {
    "slideshow": {
     "slide_type": "subslide"
    }
   },
   "source": [
    "## Adding a linear function as a method\n",
    "\n",
    "We can add the function $f(x) = mx +c$, where $m$ is the slope and $c$ the $y$-intercept, as a method for the class `NonVerticalLine`."
   ]
  },
  {
   "cell_type": "code",
   "execution_count": 26,
   "metadata": {},
   "outputs": [
    {
     "name": "stdout",
     "output_type": "stream",
     "text": [
      "f(100) = 200.0\n"
     ]
    }
   ],
   "source": [
    "class NonVerticalLine(Line):\n",
    "    def __init__(self, A, B):\n",
    "        super().__init__(A, B) \n",
    "        self.slope = (B[1]-A[1])/(B[0]-A[0])    \n",
    "        self.y_intercept = A[1] - self.slope*A[0]\n",
    "        \n",
    "    def f(self, x):\n",
    "        return self.slope*x + self.y_intercept\n",
    "    \n",
    "L = NonVerticalLine([0, 0], [2, 4])\n",
    "print(\"f(100) =\", L.f(100))"
   ]
  },
  {
   "cell_type": "markdown",
   "metadata": {
    "slideshow": {
     "slide_type": "subslide"
    }
   },
   "source": [
    "## `isinstance` and `issubclass`\n",
    "\n",
    "A non-vertical line is also a line."
   ]
  },
  {
   "cell_type": "code",
   "execution_count": 27,
   "metadata": {},
   "outputs": [
    {
     "name": "stdout",
     "output_type": "stream",
     "text": [
      "True\n",
      "True\n",
      "False\n"
     ]
    }
   ],
   "source": [
    "L = NonVerticalLine([1, 2], [2, 4])\n",
    "\n",
    "print(isinstance(L, Line))\n",
    "print(isinstance(L, NonVerticalLine))\n",
    "print(isinstance(L, DashedLine))"
   ]
  },
  {
   "cell_type": "markdown",
   "metadata": {},
   "source": [
    "We can check if a class is a derived class of another class"
   ]
  },
  {
   "cell_type": "code",
   "execution_count": 28,
   "metadata": {},
   "outputs": [
    {
     "name": "stdout",
     "output_type": "stream",
     "text": [
      "True\n",
      "False\n"
     ]
    }
   ],
   "source": [
    "print(issubclass(NonVerticalLine, Line))  # NonVerticalLine is a subclass of Line\n",
    "print(issubclass(Line, NonVerticalLine))  # Line is not a subclass of NonVerticalLine"
   ]
  },
  {
   "cell_type": "markdown",
   "metadata": {
    "slideshow": {
     "slide_type": "slide"
    }
   },
   "source": [
    "# Objects that act like functions\n",
    "\n",
    "Recall that the `quad` function can only be used on functions with **one** single parameter. "
   ]
  },
  {
   "cell_type": "code",
   "execution_count": 29,
   "metadata": {},
   "outputs": [
    {
     "name": "stdout",
     "output_type": "stream",
     "text": [
      "(3.9999999999999996, 4.4408920985006255e-14)\n"
     ]
    }
   ],
   "source": [
    "from scipy.integrate import quad\n",
    "\n",
    "def f(x):\n",
    "    return 2*sin(0.5*x)\n",
    "\n",
    "def g(x, A, omega):\n",
    "    return A*sin(omega*x)\n",
    "\n",
    "a = quad(f, 0, pi) # works\n",
    "print(a)\n",
    "\n",
    "# b = quad(g, 0, pi) # doesn't work"
   ]
  },
  {
   "cell_type": "markdown",
   "metadata": {
    "slideshow": {
     "slide_type": "subslide"
    }
   },
   "source": [
    "## Objects that act like functions (cont)\n",
    "\n",
    "We can make a class that has a `value` method corresponding to a function value."
   ]
  },
  {
   "cell_type": "code",
   "execution_count": 30,
   "metadata": {},
   "outputs": [
    {
     "name": "stdout",
     "output_type": "stream",
     "text": [
      "1*sin(1x)\n",
      "2*sin(0.5x)\n",
      "(2.0, 2.220446049250313e-14)\n",
      "(3.9999999999999996, 4.4408920985006255e-14)\n"
     ]
    }
   ],
   "source": [
    "class Sin:\n",
    "    def __init__(self, A, omega):\n",
    "        self.A = A\n",
    "        self.omega = omega\n",
    "    \n",
    "    def value(self, x):\n",
    "        return self.A*sin(self.omega*x)\n",
    "    \n",
    "    def __repr__(self):\n",
    "        return f\"{self.A}*sin({self.omega}x)\"\n",
    "    \n",
    "sin1 = Sin(1, 1)\n",
    "sin2 = Sin(2, 0.5)\n",
    "print(sin1)\n",
    "print(sin2)\n",
    "\n",
    "a = quad(sin1.value, 0, pi)\n",
    "b = quad(sin2.value, 0, pi)\n",
    "\n",
    "print(a)\n",
    "print(b)"
   ]
  },
  {
   "cell_type": "markdown",
   "metadata": {
    "slideshow": {
     "slide_type": "subslide"
    }
   },
   "source": [
    "## The special method `__call__`\n",
    "\n",
    "Using `__call__`, we can call an instance just like we would call a function."
   ]
  },
  {
   "cell_type": "code",
   "execution_count": 32,
   "metadata": {},
   "outputs": [
    {
     "name": "stdout",
     "output_type": "stream",
     "text": [
      "1.0\n",
      "2.0\n",
      "(2.0, 2.220446049250313e-14)\n",
      "(3.9999999999999996, 4.4408920985006255e-14)\n"
     ]
    }
   ],
   "source": [
    "from numpy import *\n",
    "from scipy.integrate import quad\n",
    "class Sin:\n",
    "    def __init__(self, A, omega):\n",
    "        self.A = A\n",
    "        self.omega = omega\n",
    "    \n",
    "    def __call__(self, x):  # easier to use than the previous value method \n",
    "        return self.A*sin(self.omega*x)\n",
    "    \n",
    "    def __repr__(self):\n",
    "        return f\"{self.A}*sin({self.omega}x)\"\n",
    "    \n",
    "sin1 = Sin(1, 1)\n",
    "sin2 = Sin(2, 0.5)\n",
    "print(sin1(pi/2))   # print sin at position pi/2, here __call__ is executed\n",
    "print(sin2(pi))\n",
    "\n",
    "a = quad(sin1, 0, pi)  # sin1.__call__ is used\n",
    "b = quad(sin2, 0, pi)\n",
    "\n",
    "print(a)\n",
    "print(b)"
   ]
  },
  {
   "cell_type": "markdown",
   "metadata": {
    "slideshow": {
     "slide_type": "subslide"
    }
   },
   "source": [
    "## Arithmetic operators for functions\n",
    "\n",
    "In mathematics we can add functions.\n",
    "\n",
    "$$\n",
    "f(x) = \\sin(x) \\\\\n",
    "g(x) = \\cos(x) \\\\\n",
    "h(x) = f(x) + g(x)\n",
    "$$\n",
    "\n",
    "In Python this is not directly possible:"
   ]
  },
  {
   "cell_type": "code",
   "execution_count": 33,
   "metadata": {},
   "outputs": [
    {
     "name": "stderr",
     "output_type": "stream",
     "text": [
      "Traceback (most recent call last):\n",
      "  File \"<stdin>\", line 4, in <module>\n",
      "TypeError: unsupported operand type(s) for +: 'numpy.ufunc' and 'numpy.ufunc'\n"
     ]
    }
   ],
   "source": [
    "%%script python --no-raise-error\n",
    "from numpy import *\n",
    "f = sin\n",
    "g = cos\n",
    "h = f + g  # error"
   ]
  },
  {
   "cell_type": "markdown",
   "metadata": {},
   "source": [
    "With the concept of classes, we can program an elegant work-around."
   ]
  },
  {
   "cell_type": "code",
   "execution_count": 34,
   "metadata": {
    "slideshow": {
     "slide_type": "subslide"
    }
   },
   "outputs": [
    {
     "data": {
      "text/plain": [
       "[<matplotlib.lines.Line2D at 0x7fc88f08bac0>,\n",
       " <matplotlib.lines.Line2D at 0x7fc88f08b940>,\n",
       " <matplotlib.lines.Line2D at 0x7fc88f08b910>]"
      ]
     },
     "execution_count": 34,
     "metadata": {},
     "output_type": "execute_result"
    },
    {
     "data": {
      "image/png": "[encoded data removed]",
      "text/plain": [
       "<Figure size 432x288 with 1 Axes>"
      ]
     },
     "metadata": {
      "needs_background": "light"
     },
     "output_type": "display_data"
    }
   ],
   "source": [
    "class Function:                 # encapsulate a function\n",
    "    def __init__(self, f):\n",
    "        self.f = f \n",
    "    def __call__(self, x):\n",
    "        return self.f(x)\n",
    "    def __add__(self, g):\n",
    "        def sum(x):\n",
    "            return self(x)+g(x)\n",
    "        return type(self)(sum)  # return an instance of the same class\n",
    "    \n",
    "f = Function(sin)\n",
    "g = Function(cos)\n",
    "h = f + g\n",
    "x = linspace(-pi, pi)\n",
    "plot(x, f(x), '--', x, g(x), '--', x, h(x))"
   ]
  },
  {
   "cell_type": "markdown",
   "metadata": {
    "slideshow": {
     "slide_type": "slide"
    }
   },
   "source": [
    "# Class attributes, static and class methods\n",
    "\n",
    "In following class, `nr_of_fractions` is a **class data attribute**, `num` and `denom` are **instance data attributes**."
   ]
  },
  {
   "cell_type": "code",
   "execution_count": 36,
   "metadata": {},
   "outputs": [
    {
     "name": "stdout",
     "output_type": "stream",
     "text": [
      "0\n",
      "2\n",
      "2\n",
      "1\n",
      "2\n"
     ]
    }
   ],
   "source": [
    "class SimplifiedFraction:\n",
    "    nr_of_fractions = 0  # class attribute, or static attribute\n",
    "    \n",
    "    def __init__(self, num, denom): \n",
    "        greatest_common_divisor = gcd(num, denom)\n",
    "        self.num = int(num/greatest_common_divisor)\n",
    "        self.denom = int(denom/greatest_common_divisor)\n",
    "        SimplifiedFraction.nr_of_fractions += 1    # changing the class attribute\n",
    "    \n",
    "    def __repr__(self):\n",
    "        return f\"{self.num}/{self.denom}\"\n",
    "\n",
    "print(SimplifiedFraction.nr_of_fractions)  # using the class attribute\n",
    "p = SimplifiedFraction(2, 5)\n",
    "q = SimplifiedFraction(4, 12)\n",
    "print(q.nr_of_fractions)        # using the class attribute\n",
    "print(p.nr_of_fractions)        # which is the same for both instances \n",
    "print(q.num)  \n",
    "print(p.num)  # different for each instance"
   ]
  },
  {
   "cell_type": "markdown",
   "metadata": {
    "slideshow": {
     "slide_type": "subslide"
    }
   },
   "source": [
    "## Making a static method\n",
    "\n",
    "Instead of using the numpy gcd function, we could write one using Euclid's algorithm:"
   ]
  },
  {
   "cell_type": "code",
   "execution_count": 37,
   "metadata": {},
   "outputs": [
    {
     "name": "stdout",
     "output_type": "stream",
     "text": [
      "120 = 4*25 + 20\n",
      "25 = 1*20 + 5\n",
      "20 = 4*5 + 0\n",
      "5\n",
      "--------------------\n",
      "25 = 0*120 + 25\n",
      "120 = 4*25 + 20\n",
      "25 = 1*20 + 5\n",
      "20 = 4*5 + 0\n",
      "5\n"
     ]
    }
   ],
   "source": [
    "def my_gcd(a, b):\n",
    "    while b != 0:\n",
    "        print(f\"{a} = {a//b}*{b} + {a%b}\")\n",
    "        a, b = b, a%b\n",
    "    return a\n",
    "\n",
    "print(my_gcd(120, 25))\n",
    "print(20*\"-\")\n",
    "print(my_gcd(25, 120))     "
   ]
  },
  {
   "cell_type": "markdown",
   "metadata": {
    "slideshow": {
     "slide_type": "subslide"
    }
   },
   "source": [
    "## Making a static method (cont)\n",
    "\n",
    "In following class, `gcd` is a **static method**. It is in the namespace of `SimplifiedFraction`."
   ]
  },
  {
   "cell_type": "code",
   "execution_count": 39,
   "metadata": {},
   "outputs": [
    {
     "name": "stdout",
     "output_type": "stream",
     "text": [
      "5\n",
      "1\n"
     ]
    }
   ],
   "source": [
    "class SimplifiedFraction:\n",
    "    \n",
    "    @staticmethod           # a decorator to make it a static method\n",
    "    def gcd(a, b):  \n",
    "        while b != 0:\n",
    "            a, b = b, a%b\n",
    "        return a \n",
    "    \n",
    "    def __init__(self, num, denom): \n",
    "        greatest_common_divisor = SimplifiedFraction.gcd(num, denom)\n",
    "        self.num = int(num/greatest_common_divisor)\n",
    "        self.denom = int(denom/greatest_common_divisor)\n",
    "    \n",
    "    #def gcd2(self, a, b):\n",
    "    #    return gcd(a,b)\n",
    "    \n",
    "    def __repr__(self):\n",
    "        return f\"{self.num}/{self.denom}\"\n",
    "     \n",
    "print(SimplifiedFraction.gcd(120, 25))  # calling the static method inside the class namespace\n",
    "\n",
    "r = SimplifiedFraction(2, 3)\n",
    "print(r.gcd(4, 5))                      # calling the static method by accessing the instance\n"
   ]
  },
  {
   "cell_type": "markdown",
   "metadata": {
    "slideshow": {
     "slide_type": "subslide"
    }
   },
   "source": [
    "## Making a class method\n",
    "\n",
    "A vertical line can be defined by one point only. We could add a method for making a vertical line."
   ]
  },
  {
   "cell_type": "code",
   "execution_count": 40,
   "metadata": {},
   "outputs": [
    {
     "data": {
      "image/png": "[encoded data removed]",
      "text/plain": [
       "<Figure size 432x288 with 1 Axes>"
      ]
     },
     "metadata": {
      "needs_background": "light"
     },
     "output_type": "display_data"
    }
   ],
   "source": [
    "class Line:\n",
    "    # clsVar = 1\n",
    "    def __init__(self, A, B):\n",
    "        self.A = array(A)\n",
    "        self.B = array(B)   \n",
    "    def plot(self):\n",
    "        grid()\n",
    "        plot([self.A[0], self.B[0]], [self.A[1], self.B[1]])\n",
    "        \n",
    "    @classmethod\n",
    "    def make_vertical_line(cls, A):  # the parameter cls refers to the class Line\n",
    "        # cls.clsVar += 1\n",
    "        B = array([A[0], A[1]+1])\n",
    "        return cls(A, B)\n",
    "        \n",
    "L1 = Line([1, 1], [5, 3])\n",
    "L2 = Line.make_vertical_line([2, 1])\n",
    "L1.plot()\n",
    "L2.plot()"
   ]
  },
  {
   "cell_type": "markdown",
   "metadata": {
    "slideshow": {
     "slide_type": "subslide"
    }
   },
   "source": [
    "## Summary methods\n",
    "\n",
    "- Instance methods needs an object and can access the object through a parameter `self`.\n",
    "- Class methods are in the namespace of a class and can access the class through a parameter `cls`.\n",
    "- Static methods are in the namespace of a class but cannot access either the class or an instance.\n",
    "\n",
    "The words `self` and `cls` are not reserved words but conventions."
   ]
  }
 ],
 "metadata": {
  "celltoolbar": "Slideshow",
  "kernelspec": {
   "display_name": "Python 3",
   "language": "python",
   "name": "python3"
  },
  "language_info": {
   "codemirror_mode": {
    "name": "ipython",
    "version": 3
   },
   "file_extension": ".py",
   "mimetype": "text/x-python",
   "name": "python",
   "nbconvert_exporter": "python",
   "pygments_lexer": "ipython3",
   "version": "3.8.3"
  },
  "rise": {
   "autolaunch": true,
   "footer": "<h3>&nbsp;&nbsp;&nbsp;&nbsp;C. Führer, M. Christersson, R. Klöfkorn,  Lund University, Sweden</h3>",
   "theme": "simple",
   "transition": "slide"
  }
 },
 "nbformat": 4,
 "nbformat_minor": 2
}
