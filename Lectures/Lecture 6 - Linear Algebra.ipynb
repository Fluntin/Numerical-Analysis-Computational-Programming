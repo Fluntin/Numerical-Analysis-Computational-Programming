{
 "cells": [
  {
   "cell_type": "markdown",
   "metadata": {
    "slideshow": {
     "slide_type": "slide"
    }
   },
   "source": [
    "# Computational Programming with Python\n",
    "### Lecture 6: Linear Algebra\n",
    "\n",
    "### Center for Mathematical Sciences, Lund University\n",
    "Lecturer: Claus Führer, Malin Christersson, Robert Klöfkorn\n"
   ]
  },
  {
   "cell_type": "markdown",
   "metadata": {
    "slideshow": {
     "slide_type": "slide"
    }
   },
   "source": [
    "## This lecture\n",
    "\n",
    "- NumPy arrays &hyphen; vectors\n",
    "- NumPy arrays &hyphen; matrices\n",
    "- Linear transformations &hyphen; rotation matrix in the plane"
   ]
  },
  {
   "cell_type": "markdown",
   "metadata": {
    "slideshow": {
     "slide_type": "slide"
    }
   },
   "source": [
    "## NumPy arrays &hyphen; vectors\n",
    "### The array type\n",
    "\n",
    "Lists are almost like vectors but operations on lists are **not** linear algebra operations."
   ]
  },
  {
   "cell_type": "code",
   "execution_count": 1,
   "metadata": {},
   "outputs": [
    {
     "name": "stdout",
     "output_type": "stream",
     "text": [
      "L1 + L2 = [1, 2, 3, 4]\n",
      "3*L1 = [1, 2, 1, 2, 1, 2]\n"
     ]
    }
   ],
   "source": [
    "L1 = [1, 2]\n",
    "L2 = [3, 4]\n",
    "print(\"L1 + L2 =\", L1 + L2)\n",
    "print(\"3*L1 =\", 3*L1)"
   ]
  },
  {
   "cell_type": "markdown",
   "metadata": {},
   "source": [
    "#### Definition\n",
    "An **array** represents a vector or a matrix in linear algebra. It is often initialised from a list or another vector. Operations `+`, `*`, `/`, `-` are all **elementwise**. `dot`is used for the scalar product."
   ]
  },
  {
   "cell_type": "markdown",
   "metadata": {
    "slideshow": {
     "slide_type": "subslide"
    }
   },
   "source": [
    "## Vector usage\n",
    "\n",
    "#### Example"
   ]
  },
  {
   "cell_type": "code",
   "execution_count": 2,
   "metadata": {},
   "outputs": [
    {
     "name": "stdout",
     "output_type": "stream",
     "text": [
      "vec = [3 4]\n",
      "2*vec = [6 8]\n",
      "vec*vec = [ 9 16]\n",
      "vec/2 = [1.5 2. ]\n",
      "vec/vec = [1. 1.]\n",
      "||vec|| = 5.0\n",
      "scalar product = 25\n"
     ]
    }
   ],
   "source": [
    "from numpy import *\n",
    "from scipy.linalg import norm\n",
    "\n",
    "vec = array([3, 4]) # a vector in the plane\n",
    "\n",
    "print(\"vec =\", vec)\n",
    "print(\"2*vec =\", 2*vec)\n",
    "print(\"vec*vec =\", vec*vec)\n",
    "print(\"vec/2 =\", vec/2) \n",
    "print(\"vec/vec =\", vec/vec) \n",
    "\n",
    "print(\"||vec|| =\", norm(vec))\n",
    "print(\"scalar product =\", dot(vec, vec))"
   ]
  },
  {
   "cell_type": "markdown",
   "metadata": {
    "slideshow": {
     "slide_type": "subslide"
    }
   },
   "source": [
    "## Vectors are similar to lists"
   ]
  },
  {
   "cell_type": "code",
   "execution_count": 3,
   "metadata": {},
   "outputs": [
    {
     "name": "stdout",
     "output_type": "stream",
     "text": [
      "L1 = [1, 2, 3]\n",
      "v1 = [1 2 3]\n",
      "<class 'list'>\n",
      "<class 'numpy.ndarray'>\n"
     ]
    }
   ],
   "source": [
    "L1 = [1, 2, 3]\n",
    "\n",
    "v1 = array(L1)\n",
    "\n",
    "print(\"L1 =\", L1)\n",
    "print(\"v1 =\", v1)\n",
    "print(type(L1))\n",
    "print(type(v1))"
   ]
  },
  {
   "cell_type": "markdown",
   "metadata": {
    "slideshow": {
     "slide_type": "subslide"
    }
   },
   "source": [
    "## Vectors are similar to lists (cont)\n",
    "\n",
    "- Acess vectors via their indices"
   ]
  },
  {
   "cell_type": "code",
   "execution_count": 4,
   "metadata": {},
   "outputs": [
    {
     "name": "stdout",
     "output_type": "stream",
     "text": [
      "1\n"
     ]
    }
   ],
   "source": [
    "v = array([1, 2, 3])\n",
    "\n",
    "print(v[0])"
   ]
  },
  {
   "cell_type": "markdown",
   "metadata": {},
   "source": [
    "- The *length* of a vector is still obtained by the function `len`"
   ]
  },
  {
   "cell_type": "code",
   "execution_count": 5,
   "metadata": {},
   "outputs": [
    {
     "name": "stdout",
     "output_type": "stream",
     "text": [
      "3\n"
     ]
    }
   ],
   "source": [
    "print(len(v))"
   ]
  },
  {
   "cell_type": "markdown",
   "metadata": {
    "slideshow": {
     "slide_type": "subslide"
    }
   },
   "source": [
    "## Vectors are similar to lists (cont)\n",
    "\n",
    "- Parts of vectors using slices"
   ]
  },
  {
   "cell_type": "code",
   "execution_count": 6,
   "metadata": {},
   "outputs": [
    {
     "name": "stdout",
     "output_type": "stream",
     "text": [
      "[1 2]\n"
     ]
    }
   ],
   "source": [
    "v = array([1, 2, 3])\n",
    "print(v[:2])"
   ]
  },
  {
   "cell_type": "markdown",
   "metadata": {},
   "source": [
    "- Replace parts of vectors using slices"
   ]
  },
  {
   "cell_type": "code",
   "execution_count": 7,
   "metadata": {},
   "outputs": [
    {
     "name": "stdout",
     "output_type": "stream",
     "text": [
      "[10 20  3]\n"
     ]
    }
   ],
   "source": [
    "v[:2] = [10, 20]\n",
    "print(v)"
   ]
  },
  {
   "cell_type": "markdown",
   "metadata": {
    "slideshow": {
     "slide_type": "subslide"
    }
   },
   "source": [
    "## Vectors are not lists!\n",
    "\n",
    "Operations are not the same:\n",
    "\n",
    "- Operations `+` and `*` are different\n",
    "- More operations are defined: `-`, `/`\n",
    "- Numpy functions act elementwise on vectors: `sin`, `exp`, `sqrt`, etc.\n",
    "- Scalar product with `dot`\n",
    "- Vectors have a **fixed size**: no `append` method"
   ]
  },
  {
   "cell_type": "markdown",
   "metadata": {
    "slideshow": {
     "slide_type": "subslide"
    }
   },
   "source": [
    "## Vectors are not lists! (cont)\n",
    "\n",
    "Two names are bound to the same list:"
   ]
  },
  {
   "cell_type": "code",
   "execution_count": 8,
   "metadata": {},
   "outputs": [
    {
     "name": "stdout",
     "output_type": "stream",
     "text": [
      "[10, 2]\n"
     ]
    }
   ],
   "source": [
    "L1 = [1, 2]\n",
    "L2 = L1\n",
    "L1[0] = 10\n",
    "print(L2)"
   ]
  },
  {
   "cell_type": "markdown",
   "metadata": {},
   "source": [
    "To make an actual copy, you can use the `copy` method, or make a slice."
   ]
  },
  {
   "cell_type": "code",
   "execution_count": 9,
   "metadata": {},
   "outputs": [
    {
     "name": "stdout",
     "output_type": "stream",
     "text": [
      "L2 = [1, 2]\n",
      "L3 = [1, 2]\n"
     ]
    }
   ],
   "source": [
    "L1 = [1, 2]\n",
    "L2 = L1.copy()\n",
    "L3 = L1[:]  # a slice of the entire list\n",
    "L1[0] = 10\n",
    "print(\"L2 =\", L2)\n",
    "print(\"L3 =\", L3)"
   ]
  },
  {
   "cell_type": "markdown",
   "metadata": {
    "slideshow": {
     "slide_type": "subslide"
    }
   },
   "source": [
    "## Vectors are not lists! (cont)\n",
    "\n",
    "- Vector slices, on the other hand, are **views**:"
   ]
  },
  {
   "cell_type": "code",
   "execution_count": 10,
   "metadata": {},
   "outputs": [
    {
     "name": "stdout",
     "output_type": "stream",
     "text": [
      "now L1 =  [1, 2, 3]\n",
      "now v1 =  [10  2  3]\n"
     ]
    }
   ],
   "source": [
    "L1 = [1, 2, 3]\n",
    "\n",
    "v1 = array([1, 2, 3])\n",
    "\n",
    "L2 = L1[:2]\n",
    "L2[0] = 10\n",
    "print(\"now L1 = \", L1)\n",
    "\n",
    "v2 = v1[:2]\n",
    "v2[0] = 10\n",
    "print(\"now v1 = \", v1)"
   ]
  },
  {
   "cell_type": "markdown",
   "metadata": {
    "slideshow": {
     "slide_type": "subslide"
    }
   },
   "source": [
    "## Vectors are not lists! (cont)\n",
    "\n",
    "- Only **one type** throughout the whole vector"
   ]
  },
  {
   "cell_type": "code",
   "execution_count": 11,
   "metadata": {},
   "outputs": [
    {
     "name": "stdout",
     "output_type": "stream",
     "text": [
      "[2. 0. 3.]\n",
      "[ 7.  6. 11.]\n",
      "<class 'numpy.float64'>\n"
     ]
    }
   ],
   "source": [
    "\n",
    "v1 = array([1., 2., 3.]) # don't forget the dots!\n",
    "v2 = array([2, 0, 1.])   # one dot is enough\n",
    "\n",
    "print(v1*v2)  # what about v1/v2\n",
    "\n",
    "print(3*v1 + 2*v2)\n",
    "\n",
    "print(type(v2[0]))"
   ]
  },
  {
   "cell_type": "markdown",
   "metadata": {
    "slideshow": {
     "slide_type": "subslide"
    }
   },
   "source": [
    "## More examples"
   ]
  },
  {
   "cell_type": "code",
   "execution_count": 12,
   "metadata": {},
   "outputs": [
    {
     "name": "stdout",
     "output_type": "stream",
     "text": [
      "scalar product: 5.0\n",
      "v1 = [10.  2.  3.]\n",
      "v1 = [0. 1. 3.]\n"
     ]
    }
   ],
   "source": [
    "v1 = array([1., 2., 3.])\n",
    "v2 = array([2, 0, 1.]) \n",
    "\n",
    "print(\"scalar product:\", dot(v1, v2))\n",
    "\n",
    "# access\n",
    "v1[0] = 10\n",
    "print(\"v1 =\", v1)\n",
    "\n",
    "# slices\n",
    "v1[:2] = [0, 1]\n",
    "print(\"v1 =\", v1)\n",
    "#v1[0:2] = [1, 2, 3]  # error"
   ]
  },
  {
   "cell_type": "markdown",
   "metadata": {
    "slideshow": {
     "slide_type": "subslide"
    }
   },
   "source": [
    "## Creating vectors &hyphen; `linspace`\n",
    "\n",
    "The `linspace` function is convenient for creating equally spaced arrays."
   ]
  },
  {
   "cell_type": "code",
   "execution_count": 13,
   "metadata": {},
   "outputs": [
    {
     "name": "stdout",
     "output_type": "stream",
     "text": [
      "0.0\n",
      "10.0\n"
     ]
    }
   ],
   "source": [
    "xs = linspace(0, 10, 200) # 200 points between 0 and 10\n",
    "print(xs[0])   # the first point is 0\n",
    "print(xs[-1])  # the last point is 10"
   ]
  },
  {
   "cell_type": "code",
   "execution_count": 14,
   "metadata": {},
   "outputs": [
    {
     "data": {
      "text/plain": [
       "[<matplotlib.lines.Line2D at 0x617c4c410>]"
      ]
     },
     "execution_count": 14,
     "metadata": {},
     "output_type": "execute_result"
    },
    {
     "data": {
      "image/png": "[encoded data removed]",
      "text/plain": [
       "<Figure size 432x288 with 1 Axes>"
      ]
     },
     "metadata": {
      "needs_background": "light"
     },
     "output_type": "display_data"
    }
   ],
   "source": [
    "from matplotlib.pyplot import *\n",
    "%matplotlib inline\n",
    "plot(xs, sin(xs))"
   ]
  },
  {
   "cell_type": "markdown",
   "metadata": {
    "slideshow": {
     "slide_type": "subslide"
    }
   },
   "source": [
    "## Creating vectors &hyphen; `zeros`, `ones`, `full`\n",
    "\n",
    "Some handy functions to quickly create vectors:"
   ]
  },
  {
   "cell_type": "code",
   "execution_count": 15,
   "metadata": {},
   "outputs": [
    {
     "name": "stdout",
     "output_type": "stream",
     "text": [
      "v1 = [0. 0. 0. 0. 0.]\n",
      "v2 = [1. 1. 1.]\n",
      "v3 = [3.14 3.14 3.14 3.14]\n"
     ]
    }
   ],
   "source": [
    "v1 = zeros(5)\n",
    "print(\"v1 =\", v1)\n",
    "\n",
    "v2 = ones(3)\n",
    "print(\"v2 =\", v2)\n",
    "\n",
    "v3 = full(4, 3.14)  # fill it with the value 3.14\n",
    "print(\"v3 =\", v3)"
   ]
  },
  {
   "cell_type": "markdown",
   "metadata": {
    "slideshow": {
     "slide_type": "subslide"
    }
   },
   "source": [
    "## Creating vectors using `dtype`"
   ]
  },
  {
   "cell_type": "code",
   "execution_count": 16,
   "metadata": {},
   "outputs": [
    {
     "name": "stdout",
     "output_type": "stream",
     "text": [
      "v1 = [0.+0.j 0.+0.j 0.+0.j 0.+0.j 0.+0.j]\n",
      "v2 = [1 1 1]\n",
      "v3 = ['hello' 'hello' 'hello' 'hello']\n"
     ]
    }
   ],
   "source": [
    "v1 = zeros(5, dtype = complex)\n",
    "print(\"v1 =\", v1)\n",
    "\n",
    "v2 = ones(3, dtype = int) \n",
    "print(\"v2 =\", v2)\n",
    "\n",
    "v3 = full(4, \"hello\")\n",
    "print(\"v3 =\", v3)"
   ]
  },
  {
   "cell_type": "markdown",
   "metadata": {
    "slideshow": {
     "slide_type": "subslide"
    }
   },
   "source": [
    "## Creating random vectors\n",
    "\n",
    "Fill a vector with a random numbers in the interval [0, 1)."
   ]
  },
  {
   "cell_type": "code",
   "execution_count": 17,
   "metadata": {},
   "outputs": [
    {
     "name": "stdout",
     "output_type": "stream",
     "text": [
      "[0.46945472 0.86997364 0.36514081 0.88495116 0.53373261]\n"
     ]
    }
   ],
   "source": [
    "v1 = random.random(5)\n",
    "print(v1) "
   ]
  },
  {
   "cell_type": "markdown",
   "metadata": {},
   "source": [
    "We can also \"shuffle\" the values in an array."
   ]
  },
  {
   "cell_type": "code",
   "execution_count": 18,
   "metadata": {},
   "outputs": [
    {
     "name": "stdout",
     "output_type": "stream",
     "text": [
      "[50 10 30 60 20 80 40]\n"
     ]
    }
   ],
   "source": [
    "v2 = array([10, 20, 30, 40, 50, 60, 80])\n",
    "random.shuffle(v2)\n",
    "print(v2)"
   ]
  },
  {
   "cell_type": "markdown",
   "metadata": {
    "slideshow": {
     "slide_type": "subslide"
    }
   },
   "source": [
    "## Concatenating vectors\n",
    "\n",
    "Since the `+` operation is redefined, we need a means to concatenate vectors. \n",
    "\n",
    "The command `hstack([v1, v2, ..., vn]) ` concatenates the vectors \n",
    "$v1, v2, \\ldots, vn$."
   ]
  },
  {
   "cell_type": "code",
   "execution_count": 19,
   "metadata": {},
   "outputs": [
    {
     "name": "stdout",
     "output_type": "stream",
     "text": [
      "[1 2 3 4 5 6 7 8 9]\n"
     ]
    }
   ],
   "source": [
    "v1 = [1, 2, 3]\n",
    "v2 = [4, 5]\n",
    "v3 = [6, 7, 8, 9]\n",
    "\n",
    "v = hstack([v1, v2, v3])\n",
    "print(v)"
   ]
  },
  {
   "cell_type": "markdown",
   "metadata": {
    "slideshow": {
     "slide_type": "subslide"
    }
   },
   "source": [
    "## Functions and arrays\n",
    "\n",
    "As long as `+`, `-`, `*`, `/` and standard mathematical Numpy functions are used, a function value can be calculated elementwise."
   ]
  },
  {
   "cell_type": "code",
   "execution_count": 20,
   "metadata": {},
   "outputs": [
    {
     "data": {
      "text/plain": [
       "[<matplotlib.lines.Line2D at 0x617d64d10>]"
      ]
     },
     "execution_count": 20,
     "metadata": {},
     "output_type": "execute_result"
    },
    {
     "data": {
      "image/png": "[encoded data removed]",
      "text/plain": [
       "<Figure size 432x288 with 1 Axes>"
      ]
     },
     "metadata": {
      "needs_background": "light"
     },
     "output_type": "display_data"
    }
   ],
   "source": [
    "def my_func(x, A, omega):\n",
    "    return A*sin(omega*x)/x\n",
    "\n",
    "x = linspace(-100, 100, 200) # using an even number of values to avoid zero\n",
    "y = my_func(x, 2, 0.5)\n",
    "plot(x, y)"
   ]
  },
  {
   "cell_type": "markdown",
   "metadata": {
    "slideshow": {
     "slide_type": "subslide"
    }
   },
   "source": [
    "## Vectorized functions\n",
    "\n",
    "Note that **not all functions** may be applied to vectors. For instance this one:"
   ]
  },
  {
   "cell_type": "code",
   "execution_count": null,
   "metadata": {},
   "outputs": [],
   "source": [
    "def const(x):\n",
    "    return 1\n",
    "\n",
    "x = linspace(-100, 100, 50)\n",
    "y = const(x) \n",
    "\n",
    "# what is the value of y?"
   ]
  },
  {
   "cell_type": "markdown",
   "metadata": {},
   "source": [
    "We will see later how to automatically *vectorize* a function so that it works on vectors."
   ]
  },
  {
   "cell_type": "markdown",
   "metadata": {
    "slideshow": {
     "slide_type": "slide"
    }
   },
   "source": [
    "## NumPy arrays &hyphen; matrices\n",
    "\n",
    "#### Definition\n",
    "Matrices are represented by arrays of lists of **rows**, which are lists as well."
   ]
  },
  {
   "cell_type": "code",
   "execution_count": 21,
   "metadata": {},
   "outputs": [
    {
     "name": "stdout",
     "output_type": "stream",
     "text": [
      "[[1. 0.]\n",
      " [0. 1.]]\n"
     ]
    }
   ],
   "source": [
    "# An identity matrix\n",
    "id_matrix = array([[1., 0.], [0., 1.]])\n",
    "\n",
    "# Python allows this:\n",
    "id_matrix = array([[1., 0],\n",
    "                   [0., 1.]])\n",
    "\n",
    "# which is more readable\n",
    "\n",
    "print(id_matrix)"
   ]
  },
  {
   "cell_type": "markdown",
   "metadata": {
    "slideshow": {
     "slide_type": "subslide"
    }
   },
   "source": [
    "## Accessing matrix entries\n",
    "\n",
    "Matrix elements are accessed with **two** indices."
   ]
  },
  {
   "cell_type": "code",
   "execution_count": 22,
   "metadata": {},
   "outputs": [
    {
     "name": "stdout",
     "output_type": "stream",
     "text": [
      "1.0\n",
      "3.0\n"
     ]
    }
   ],
   "source": [
    "M = array([[1., 2.], [3., 4.]])\n",
    "\n",
    "print(M[0, 0]) # first row, first column\n",
    "\n",
    "print(M[-1, 0]) # last row, first column"
   ]
  },
  {
   "cell_type": "markdown",
   "metadata": {},
   "source": [
    "Compare this to accessing list elements."
   ]
  },
  {
   "cell_type": "code",
   "execution_count": 23,
   "metadata": {},
   "outputs": [
    {
     "name": "stdout",
     "output_type": "stream",
     "text": [
      "1.0\n",
      "3.0\n"
     ]
    }
   ],
   "source": [
    "L = [[1., 2.], [3., 4.]]\n",
    "\n",
    "print(L[0][0])\n",
    "\n",
    "print(L[-1][0])"
   ]
  },
  {
   "cell_type": "markdown",
   "metadata": {
    "slideshow": {
     "slide_type": "subslide"
    }
   },
   "source": [
    "## Creating matrices &hyphen; `eye`, `zeros`, `full`\n",
    "\n",
    "- `eye(n)` is the identity matrix of size $n$.\n",
    "- `zeros([n, m])` fills an $n\\times m$ matrix with zeroes\n",
    "- `full([n, m], value)`fills an $n\\times m$ matrix with `value`"
   ]
  },
  {
   "cell_type": "code",
   "execution_count": 24,
   "metadata": {},
   "outputs": [
    {
     "name": "stdout",
     "output_type": "stream",
     "text": [
      "[[1. 0.]\n",
      " [0. 1.]]\n",
      "[[0. 0. 0.]\n",
      " [0. 0. 0.]]\n",
      "[[7 7 7]\n",
      " [7 7 7]]\n"
     ]
    }
   ],
   "source": [
    "id_matrix = eye(2)\n",
    "M0 = zeros([2, 3])     # using a list [2, 3]\n",
    "M1 = full((2, 3), 7)   # using a tuple (2, 3)\n",
    "\n",
    "print(id_matrix)\n",
    "print(M0)\n",
    "print(M1)"
   ]
  },
  {
   "cell_type": "markdown",
   "metadata": {
    "slideshow": {
     "slide_type": "subslide"
    }
   },
   "source": [
    "## Creating random matrices"
   ]
  },
  {
   "cell_type": "code",
   "execution_count": 25,
   "metadata": {},
   "outputs": [
    {
     "name": "stdout",
     "output_type": "stream",
     "text": [
      "[[0.42659452 0.18372894 0.0637453  0.24758315]\n",
      " [0.28014874 0.08892508 0.89727563 0.83911236]\n",
      " [0.41798941 0.68363103 0.06227991 0.15197138]]\n"
     ]
    }
   ],
   "source": [
    "M1 = random.random((3, 4))\n",
    "print(M1)"
   ]
  },
  {
   "cell_type": "markdown",
   "metadata": {
    "slideshow": {
     "slide_type": "subslide"
    }
   },
   "source": [
    "## Shape\n",
    "\n",
    "The **shape** of a matrix is the tuple of its dimensions. The shape of an $n\\times m$ matrix is (n,m). It is given by the *attribute* `shape`:"
   ]
  },
  {
   "cell_type": "code",
   "execution_count": 26,
   "metadata": {},
   "outputs": [
    {
     "name": "stdout",
     "output_type": "stream",
     "text": [
      "(3, 3)\n",
      "(4,)\n"
     ]
    }
   ],
   "source": [
    "M = eye(3) \n",
    "print(M.shape)\n",
    "V = array([1., 2., 1., 4.])\n",
    "print(V.shape)               # tuple with one element"
   ]
  },
  {
   "cell_type": "markdown",
   "metadata": {},
   "source": [
    "#### Tip\n",
    "`zeros(A.shape)` returns a matrix with the same shape as A containing only zeros."
   ]
  },
  {
   "cell_type": "markdown",
   "metadata": {
    "slideshow": {
     "slide_type": "subslide"
    }
   },
   "source": [
    "## Transpose\n",
    "\n",
    "The transpose of a matrix $A_{ij}$ is a matrix $B$ such that\n",
    "\n",
    "$$B_{ij} = A_{ji}.$$\n",
    "\n",
    "By transposing a matrix you switch the two shape elements."
   ]
  },
  {
   "cell_type": "code",
   "execution_count": 27,
   "metadata": {},
   "outputs": [
    {
     "name": "stdout",
     "output_type": "stream",
     "text": [
      "A.shape = (2, 3)\n",
      "B.shape = (3, 2)\n",
      "B = [[1 4]\n",
      " [2 5]\n",
      " [3 6]]\n"
     ]
    }
   ],
   "source": [
    "A = array([[1, 2, 3],\n",
    "           [4, 5, 6]])\n",
    "print(\"A.shape =\", A.shape)\n",
    "\n",
    "B = A.T   # A transpose\n",
    "print(\"B.shape =\", B.shape)\n",
    "print(\"B =\", B)"
   ]
  },
  {
   "cell_type": "markdown",
   "metadata": {
    "slideshow": {
     "slide_type": "subslide"
    }
   },
   "source": [
    "## 1D vectors and 2D row/column matrices\n",
    "\n",
    "(here D stands for *tensor dimension*, i.e. the length of `shape`)"
   ]
  },
  {
   "cell_type": "code",
   "execution_count": 28,
   "metadata": {},
   "outputs": [
    {
     "name": "stdout",
     "output_type": "stream",
     "text": [
      "v.shape =  (3,)\n",
      "Mcol.shape =  (3, 1)\n",
      "Mrow.shape =  (1, 3)\n"
     ]
    }
   ],
   "source": [
    "v = array([1, 2, 3])\n",
    "Mcol = array([[1], \n",
    "              [2], \n",
    "              [3]])\n",
    "Mrow = array([[1, 2, 3]])\n",
    "\n",
    "print(\"v.shape = \", v.shape)\n",
    "print(\"Mcol.shape = \", Mcol.shape)\n",
    "print(\"Mrow.shape = \", Mrow.shape)"
   ]
  },
  {
   "cell_type": "markdown",
   "metadata": {},
   "source": [
    "Transposing a 1D vector doesn't change it"
   ]
  },
  {
   "cell_type": "markdown",
   "metadata": {
    "slideshow": {
     "slide_type": "subslide"
    }
   },
   "source": [
    "## Matrix multiplication\n",
    "\n",
    "We can use the `dot` function for matrix multiplication.\n",
    "\n",
    "If $A$ is a $n\\times m$ matrix and $B$ a $m \\times p$ matrix, then $AB$ is a $n\\times p$ matrix."
   ]
  },
  {
   "cell_type": "code",
   "execution_count": 29,
   "metadata": {},
   "outputs": [
    {
     "name": "stdout",
     "output_type": "stream",
     "text": [
      "[[ 2  1  0  4]\n",
      " [ 3  4  7 14]]\n"
     ]
    }
   ],
   "source": [
    "A = array([[1, 0, 0],        # n = 2, m = 3\n",
    "           [2, -1, 3]])\n",
    "B = array([[2, 1, 0, 4],     # m = 3, p = 4\n",
    "           [1, 1, -1, 0],\n",
    "           [0, 1, 2, 2]])\n",
    "\n",
    "  \n",
    "\n",
    "AB = dot(A, B)\n",
    "print(AB)\n",
    "# BA = dot(B, A)  # error"
   ]
  },
  {
   "cell_type": "markdown",
   "metadata": {
    "slideshow": {
     "slide_type": "subslide"
    }
   },
   "source": [
    "## Matrix vector multiplication\n",
    "\n",
    "A matrix can be multipled with a vector using `dot`. The multiplication is matrix multiplication, as if the vector was a column or row matrix. The result is a vector.\n",
    "\n",
    "$$ \n",
    "\\left(\n",
    "\\begin{array}{rr}\n",
    "1 & 2\n",
    "\\end{array}\n",
    "\\right)\n",
    "\\left(\n",
    "\\begin{array}{rr}\n",
    "1 & 0 \\\\\n",
    "4 & -1\n",
    "\\end{array}\n",
    "\\right) \n",
    "= \n",
    "\\left(\n",
    "\\begin{array}{rr}\n",
    "9 & -2\n",
    "\\end{array}\n",
    "\\right)\n",
    "$$\n",
    "\n",
    "$$\n",
    "\\left(\n",
    "\\begin{array}{rr}\n",
    "1 & 0 \\\\\n",
    "4 & -1\n",
    "\\end{array}\n",
    "\\right) \n",
    "\\left(\n",
    "\\begin{array}{rr}\n",
    "1 \\\\\n",
    "2\n",
    "\\end{array}\n",
    "\\right)\n",
    "= \n",
    "\\left(\n",
    "\\begin{array}{rr}\n",
    "1 \\\\\n",
    "2\n",
    "\\end{array}\n",
    "\\right)\n",
    "$$"
   ]
  },
  {
   "cell_type": "code",
   "execution_count": 30,
   "metadata": {},
   "outputs": [
    {
     "name": "stdout",
     "output_type": "stream",
     "text": [
      "[ 9 -2]\n",
      "[1 2]\n",
      "vA.shape = (2,)  Av.shape =  (2,)\n"
     ]
    }
   ],
   "source": [
    "A = array([[1, 0],\n",
    "           [4, -1]])\n",
    "v = array([1, 2])\n",
    "\n",
    "vA = dot(v, A)\n",
    "Av = dot(A, v)\n",
    "\n",
    "print(vA)\n",
    "print(Av)\n",
    "print(\"vA.shape =\", vA.shape, \" Av.shape = \", Av.shape)"
   ]
  },
  {
   "cell_type": "markdown",
   "metadata": {
    "slideshow": {
     "slide_type": "subslide"
    }
   },
   "source": [
    "## Dot product\n",
    "\n",
    "vector vector, `dot(x, y)`, scalar product\n",
    "\n",
    "matrix matrix, `dot(A, B)`, matrix multiplication\n",
    "\n",
    "matrix vector, `dot(A, x)`, matrix multiplication, treating vector as column matrix\n",
    "\n",
    "vector matrix, `dot(x, A)`, matrix multiplication, treating vector as row matrix"
   ]
  },
  {
   "cell_type": "markdown",
   "metadata": {
    "slideshow": {
     "slide_type": "slide"
    }
   },
   "source": [
    "## Linear transformations ‐ rotation matrix in the plane\n",
    "\n",
    "### Definition\n",
    "\n",
    "A **linear transformation** in the plane is a function $f:\\mathbb{R}^2 \\mapsto \\mathbb{R}^2$  such that\n",
    "\n",
    "\n",
    "$f(a\\mathbf{u} + b\\mathbf{v}) = af\n",
    "(\\mathbf{u}) + bf(\\mathbf{v}) \\text{ for all }a, b\\in\\mathbb{R} \\text{ and } \\mathbf{u}, \\mathbf{v} \\in \\mathbb{R}^2$"
   ]
  },
  {
   "cell_type": "markdown",
   "metadata": {
    "slideshow": {
     "slide_type": "subslide"
    }
   },
   "source": [
    "## Matrices and linear transformations\n",
    "\n",
    "Let $x= (x_1, x_2) \\in \\mathbb{R}^2$ and $y= (y_1, y_2) \\in \\mathbb{R}^2$. Let $y = f(x)$ be the function defined by\n",
    "\n",
    "$$\n",
    "\\begin{cases}\n",
    "y_1 = ax_1 + bx_1 \\\\\n",
    "y_2 = cx_1 + dx_2\n",
    "\\end{cases}\n",
    "$$\n",
    "\n",
    "for some numbers $a, b, c, d$. Then matrix multiplication can be used to describe $f$.\n",
    "Let \n",
    "\n",
    "$$A = \n",
    "\\left(\n",
    "\\begin{array}{rr}\n",
    "a & b \\\\\n",
    "c & d\n",
    "\\end{array}\n",
    "\\right),\n",
    "x = \n",
    "\\left(\n",
    "\\begin{array}{rr}\n",
    "x_1 \\\\\n",
    "x_2\n",
    "\\end{array}\n",
    "\\right),\n",
    "y = \n",
    "\\left(\n",
    "\\begin{array}{rr}\n",
    "y_1 \\\\\n",
    "y_2\n",
    "\\end{array}\n",
    "\\right),\n",
    "\\text{ then }\n",
    "\\left(\n",
    "\\begin{array}{rr}\n",
    "y_1 \\\\\n",
    "y_2\n",
    "\\end{array}\n",
    "\\right)\n",
    "=\n",
    "\\left(\n",
    "\\begin{array}{rr}\n",
    "a & b \\\\\n",
    "c & d\n",
    "\\end{array}\n",
    "\\right)\n",
    "\\left(\n",
    "\\begin{array}{rr}\n",
    "x_1 \\\\\n",
    "x_2\n",
    "\\end{array}\n",
    "\\right)\n",
    "$$\n",
    "\n",
    "$A$ is a **transformation matrix** of $f$, $y = f(x) = Ax$"
   ]
  },
  {
   "cell_type": "markdown",
   "metadata": {
    "slideshow": {
     "slide_type": "subslide"
    }
   },
   "source": [
    "## Finding the transformation matrix of a rotation in the plane\n",
    "\n",
    "Let $\\mathbf{e_1}, \\mathbf{e_2}$ be two basis vectors and let $A$ be a transformation matrix that rotates a vector $\\mathbf{u} = x\\mathbf{e_1} + y\\mathbf{e_2}$ an angle $\\alpha $. To find $A$ it suffices to consider the basis vectors.\n",
    "\n",
    "![rotated basis](http://cmc.education/slides/notebookImages/rotatedBasis.svg)\n",
    "\n",
    "Now $ A\\mathbf{u} = xA\\mathbf{e_1} + yA\\mathbf{e_1}.$"
   ]
  },
  {
   "cell_type": "markdown",
   "metadata": {
    "slideshow": {
     "slide_type": "subslide"
    }
   },
   "source": [
    "### Rotate a point"
   ]
  },
  {
   "cell_type": "code",
   "execution_count": 31,
   "metadata": {},
   "outputs": [
    {
     "data": {
      "text/plain": [
       "[<matplotlib.lines.Line2D at 0x617e45950>]"
      ]
     },
     "execution_count": 31,
     "metadata": {},
     "output_type": "execute_result"
    },
    {
     "data": {
      "image/png": "[encoded data removed]",
      "text/plain": [
       "<Figure size 432x288 with 1 Axes>"
      ]
     },
     "metadata": {
      "needs_background": "light"
     },
     "output_type": "display_data"
    }
   ],
   "source": [
    "from matplotlib.pyplot import *\n",
    "%matplotlib inline\n",
    "alpha = pi/2\n",
    "A = array([[cos(alpha), -sin(alpha)],\n",
    "           [sin(alpha), cos(alpha)]])\n",
    "x = 3\n",
    "y = 3\n",
    "P = array([x, y]) # a vector\n",
    "AP = dot(A, P)    # a vector\n",
    "plot(x, y, 'bo')\n",
    "xlim(-5, 5)\n",
    "ylim(-5, 5)\n",
    "grid()\n",
    "plot(*AP, 'ro')  # unpack to get x and y"
   ]
  },
  {
   "cell_type": "markdown",
   "metadata": {
    "slideshow": {
     "slide_type": "subslide"
    }
   },
   "source": [
    "### Rotate many points"
   ]
  },
  {
   "cell_type": "code",
   "execution_count": 32,
   "metadata": {},
   "outputs": [
    {
     "data": {
      "text/plain": [
       "[<matplotlib.lines.Line2D at 0x617f0d750>]"
      ]
     },
     "execution_count": 32,
     "metadata": {},
     "output_type": "execute_result"
    },
    {
     "data": {
      "image/png": "[encoded data removed]",
      "text/plain": [
       "<Figure size 432x288 with 1 Axes>"
      ]
     },
     "metadata": {
      "needs_background": "light"
     },
     "output_type": "display_data"
    }
   ],
   "source": [
    "alpha = pi/2\n",
    "A = array([[cos(alpha), -sin(alpha)],\n",
    "           [sin(alpha), cos(alpha)]])\n",
    "x = linspace(-10, 10, 200)\n",
    "y = sin(3*x)\n",
    "M = array([x, y]) # 2 times 200 matrix\n",
    "AM = dot(A, M)    # 2 times 200 matrix\n",
    "plot(x, y)\n",
    "grid()\n",
    "plot(*AM)  # unpack to get a x-list and a y-list"
   ]
  }
 ],
 "metadata": {
  "celltoolbar": "Slideshow",
  "kernelspec": {
   "display_name": "Python 3",
   "language": "python",
   "name": "python3"
  },
  "language_info": {
   "codemirror_mode": {
    "name": "ipython",
    "version": 3
   },
   "file_extension": ".py",
   "mimetype": "text/x-python",
   "name": "python",
   "nbconvert_exporter": "python",
   "pygments_lexer": "ipython3",
   "version": "3.8.3"
  },
  "rise": {
   "autolaunch": true,
   "footer": " ",
   "theme": "simple",
   "transition": "slide"
  }
 },
 "nbformat": 4,
 "nbformat_minor": 2
}
