{
 "cells": [
  {
   "cell_type": "markdown",
   "metadata": {
    "slideshow": {
     "slide_type": "slide"
    }
   },
   "source": [
    "# Computational Programming with Python\n",
    "### Lecture 2: Strings, Booleans, Functions and Plots\n",
    "\n",
    "### Center for Mathematical Sciences, Lund University\n",
    "Lecturer: Claus Führer, Malin Christersson, Robert Klöfkorn\n"
   ]
  },
  {
   "cell_type": "markdown",
   "metadata": {
    "slideshow": {
     "slide_type": "slide"
    }
   },
   "source": [
    "## This lecture\n",
    "\n",
    "- More about lists and operators\n",
    "- Calculating sums\n",
    "- Conditional statements\n",
    "- More about for loops\n",
    "- String formatting\n",
    "- Functions\n",
    "- Modules\n",
    "- More about plots\n",
    "- Fixed point iterations"
   ]
  },
  {
   "cell_type": "markdown",
   "metadata": {
    "slideshow": {
     "slide_type": "slide"
    }
   },
   "source": [
    "## Revision &hyphen; lists\n",
    "\n",
    "Given a list `L` you can use the *function* `len(L)` to find the length of the list."
   ]
  },
  {
   "cell_type": "code",
   "execution_count": 1,
   "metadata": {},
   "outputs": [
    {
     "name": "stdout",
     "output_type": "stream",
     "text": [
      "The length is 4\n"
     ]
    }
   ],
   "source": [
    "L = [4, 9, -1, 2]\n",
    "print(\"The length is\", len(L))"
   ]
  },
  {
   "cell_type": "markdown",
   "metadata": {},
   "source": [
    "You can also use the *method* `append` by using dot notation after the name of the list."
   ]
  },
  {
   "cell_type": "code",
   "execution_count": 2,
   "metadata": {},
   "outputs": [
    {
     "name": "stdout",
     "output_type": "stream",
     "text": [
      "L = [4, 9, -1, 2, 11]\n"
     ]
    }
   ],
   "source": [
    "L.append(11)\n",
    "print(\"L =\", L)"
   ]
  },
  {
   "cell_type": "markdown",
   "metadata": {
    "slideshow": {
     "slide_type": "slide"
    }
   },
   "source": [
    "## Some more functions\n",
    "\n",
    "Given a list `lst`:\n",
    "\n",
    "- `sum(lst)`\n",
    "- `max(lst)`\n",
    "- `min(lst)`"
   ]
  },
  {
   "cell_type": "code",
   "execution_count": 3,
   "metadata": {},
   "outputs": [
    {
     "name": "stdout",
     "output_type": "stream",
     "text": [
      "The sum is 14\n",
      "The minimum value is -1\n",
      "The maximum value is 9\n"
     ]
    }
   ],
   "source": [
    "L = [4, 9, -1, 2]\n",
    "print(\"The sum is\", sum(L))\n",
    "print(\"The minimum value is\", min(L))\n",
    "print(\"The maximum value is\",max(L))"
   ]
  },
  {
   "cell_type": "markdown",
   "metadata": {
    "slideshow": {
     "slide_type": "slide"
    }
   },
   "source": [
    "## Some more methods\n",
    "\n",
    "Given a list `lst`:\n",
    "\n",
    "- `lst.reverse()`\n",
    "- `lst.sort()`\n"
   ]
  },
  {
   "cell_type": "code",
   "execution_count": 4,
   "metadata": {},
   "outputs": [
    {
     "name": "stdout",
     "output_type": "stream",
     "text": [
      "L = [4, 9, -1, 2]\n",
      "L = [2, -1, 9, 4]\n",
      "L = [-1, 2, 4, 9]\n"
     ]
    }
   ],
   "source": [
    "L = [4, 9, -1, 2]\n",
    "print(\"L =\", L)\n",
    "L.reverse()\n",
    "print(\"L =\", L)\n",
    "L.sort()\n",
    "print(\"L =\", L)"
   ]
  },
  {
   "cell_type": "markdown",
   "metadata": {
    "slideshow": {
     "slide_type": "slide"
    }
   },
   "source": [
    "## Programming example\n",
    "\n",
    "How do we calculate \n",
    "\n",
    "$$ \\sum_{i=0}^{100}i$$\n",
    "\n",
    "using a for loop? using a list?\n"
   ]
  },
  {
   "cell_type": "code",
   "execution_count": 5,
   "metadata": {},
   "outputs": [
    {
     "name": "stdout",
     "output_type": "stream",
     "text": [
      "5050\n"
     ]
    }
   ],
   "source": [
    "print (sum(list(range(101))))"
   ]
  },
  {
   "cell_type": "markdown",
   "metadata": {
    "slideshow": {
     "slide_type": "slide"
    }
   },
   "source": [
    "##  Conditional expressions\n",
    "Book p. 20, 22, 37\n",
    "\n",
    "### Definition\n",
    "A *conditional expression* is an expression that may have the *Boolean* value *True* or *False*."
   ]
  },
  {
   "cell_type": "markdown",
   "metadata": {
    "slideshow": {
     "slide_type": "slide"
    }
   },
   "source": [
    "## Comparison operators\n",
    "\n",
    "Comparison operators act on numerical operands and yield a Boolean value (`True` or `False`).\n",
    "\n",
    "`==` &nbsp;&nbsp;&nbsp;&nbsp;&nbsp;(equal to)\n",
    "\n",
    "`!=` &nbsp;&nbsp;&nbsp;&nbsp;&nbsp;(not equal to)\n",
    "\n",
    "`<`  &nbsp;&nbsp;&nbsp;&nbsp;&nbsp;&nbsp;&nbsp;(less than)\n",
    "\n",
    "`>`  &nbsp;&nbsp;&nbsp;&nbsp;&nbsp;&nbsp;&nbsp;(greater than)\n",
    "\n",
    "`<=` &nbsp;&nbsp;&nbsp;&nbsp;&nbsp;(less than or equal to)\n",
    "\n",
    "`>=` &nbsp;&nbsp;&nbsp;&nbsp;&nbsp;(greater than or equal to)"
   ]
  },
  {
   "cell_type": "markdown",
   "metadata": {
    "slideshow": {
     "slide_type": "slide"
    }
   },
   "source": [
    "## Boolean variables\n",
    "\n",
    "We can assign Boolean values to variables in different ways."
   ]
  },
  {
   "cell_type": "code",
   "execution_count": 5,
   "metadata": {},
   "outputs": [
    {
     "name": "stdout",
     "output_type": "stream",
     "text": [
      "b = True\n",
      "c = False\n",
      "<class 'bool'>\n"
     ]
    }
   ],
   "source": [
    "a = True\n",
    "b = 0 < 3 < 6\n",
    "c = 3*15 == 10\n",
    "print(\"b =\", b)\n",
    "print(\"c =\", c)\n",
    "print(type(c))"
   ]
  },
  {
   "cell_type": "markdown",
   "metadata": {
    "slideshow": {
     "slide_type": "slide"
    }
   },
   "source": [
    "## Boolean operators\n",
    "\n",
    "Boolean operators (`and`, `or`, `not`) act on Boolean operands and yield a Boolean value."
   ]
  },
  {
   "cell_type": "code",
   "execution_count": 6,
   "metadata": {},
   "outputs": [
    {
     "name": "stdout",
     "output_type": "stream",
     "text": [
      "True\n",
      "False\n",
      "True\n"
     ]
    }
   ],
   "source": [
    "print(not 3 > 5)\n",
    "print(36 % 6 == 0 and 36 < 0)\n",
    "print(36 % 6 == 0 or 36 < 0)"
   ]
  },
  {
   "cell_type": "markdown",
   "metadata": {
    "slideshow": {
     "slide_type": "slide"
    }
   },
   "source": [
    "\n",
    "## Conditional expressions examples"
   ]
  },
  {
   "cell_type": "code",
   "execution_count": 8,
   "metadata": {},
   "outputs": [
    {
     "data": {
      "text/plain": [
       "False"
      ]
     },
     "execution_count": 8,
     "metadata": {},
     "output_type": "execute_result"
    }
   ],
   "source": [
    "3 < 4 == 1"
   ]
  },
  {
   "cell_type": "code",
   "execution_count": 9,
   "metadata": {},
   "outputs": [
    {
     "data": {
      "text/plain": [
       "True"
      ]
     },
     "execution_count": 9,
     "metadata": {},
     "output_type": "execute_result"
    }
   ],
   "source": [
    "2 != 3 < 4 or False"
   ]
  },
  {
   "cell_type": "code",
   "execution_count": 10,
   "metadata": {},
   "outputs": [
    {
     "data": {
      "text/plain": [
       "True"
      ]
     },
     "execution_count": 10,
     "metadata": {},
     "output_type": "execute_result"
    }
   ],
   "source": [
    "not False or True and False"
   ]
  },
  {
   "cell_type": "markdown",
   "metadata": {},
   "source": [
    "The priority of Boolean operators can be compared with arithmetic operators, addition ( &rarr; `or`), multiplication ( &rarr; `and`), and sign change (&rarr; `not`)."
   ]
  },
  {
   "cell_type": "markdown",
   "metadata": {
    "slideshow": {
     "slide_type": "slide"
    }
   },
   "source": [
    "## Conditional statements\n",
    "\n",
    "### `if` statement\n",
    "A conditional statememt delimits a *block* that will be executed if the condition is true. An *optional* block, started with the keyword `else` will be executed if the condition is not fulfilled.\n",
    "\n",
    "### Example\n",
    "\n",
    "$$ |x| = \\begin{cases}\n",
    "x \\text{ if } x \\ge 0 \\\\\n",
    "-x \\text{ else}\n",
    "\\end{cases}$$"
   ]
  },
  {
   "cell_type": "code",
   "execution_count": null,
   "metadata": {},
   "outputs": [],
   "source": [
    "x = -5\n",
    "if x >= 0:\n",
    "    print(x)\n",
    "else:\n",
    "    print(-x)"
   ]
  },
  {
   "cell_type": "markdown",
   "metadata": {
    "slideshow": {
     "slide_type": "slide"
    }
   },
   "source": [
    "### One branch"
   ]
  },
  {
   "cell_type": "code",
   "execution_count": null,
   "metadata": {},
   "outputs": [],
   "source": [
    "age = 18\n",
    "if age%2 == 0:\n",
    "    print(\"It's an even number\")"
   ]
  },
  {
   "cell_type": "markdown",
   "metadata": {},
   "source": [
    "### Two branches"
   ]
  },
  {
   "cell_type": "code",
   "execution_count": null,
   "metadata": {},
   "outputs": [],
   "source": [
    "if age%2 == 0:\n",
    "    print(\"It's an even number\")\n",
    "else:\n",
    "    print(\"It's an odd number\")"
   ]
  },
  {
   "cell_type": "markdown",
   "metadata": {},
   "source": [
    "### Several branches"
   ]
  },
  {
   "cell_type": "code",
   "execution_count": null,
   "metadata": {},
   "outputs": [],
   "source": [
    "if age < 18:\n",
    "    print(\"You are a child.\")\n",
    "elif age < 65:\n",
    "    print(\"You are an adult.\")\n",
    "else:\n",
    "    print(\"You may retire.\")"
   ]
  },
  {
   "cell_type": "markdown",
   "metadata": {
    "slideshow": {
     "slide_type": "slide"
    }
   },
   "source": [
    "## Error messages\n",
    "\n",
    "By using Boolean expressions you can check for potential errors:"
   ]
  },
  {
   "cell_type": "code",
   "execution_count": 6,
   "metadata": {},
   "outputs": [
    {
     "ename": "ZeroDivisionError",
     "evalue": "Don't divide by zero!",
     "output_type": "error",
     "traceback": [
      "\u001b[1;31m---------------------------------------------------------------------------\u001b[0m",
      "\u001b[1;31mZeroDivisionError\u001b[0m                         Traceback (most recent call last)",
      "\u001b[1;32mc:\\Users\\villi\\Documents\\Villim\\University_Courses\\LUND_Courses\\NUMA01 - Beräkningsprogrammering med Python\\Lectures\\unit02.ipynb Cell 33\u001b[0m in \u001b[0;36m<cell line: 3>\u001b[1;34m()\u001b[0m\n\u001b[0;32m      <a href='vscode-notebook-cell:/c%3A/Users/villi/Documents/Villim/University_Courses/LUND_Courses/NUMA01%20-%20Ber%C3%A4kningsprogrammering%20med%20Python/Lectures/unit02.ipynb#X44sZmlsZQ%3D%3D?line=3'>4</a>\u001b[0m     frac \u001b[39m=\u001b[39m num\u001b[39m/\u001b[39mdenom\n\u001b[0;32m      <a href='vscode-notebook-cell:/c%3A/Users/villi/Documents/Villim/University_Courses/LUND_Courses/NUMA01%20-%20Ber%C3%A4kningsprogrammering%20med%20Python/Lectures/unit02.ipynb#X44sZmlsZQ%3D%3D?line=4'>5</a>\u001b[0m \u001b[39melse\u001b[39;00m:\n\u001b[1;32m----> <a href='vscode-notebook-cell:/c%3A/Users/villi/Documents/Villim/University_Courses/LUND_Courses/NUMA01%20-%20Ber%C3%A4kningsprogrammering%20med%20Python/Lectures/unit02.ipynb#X44sZmlsZQ%3D%3D?line=5'>6</a>\u001b[0m     \u001b[39mraise\u001b[39;00m \u001b[39mZeroDivisionError\u001b[39;00m(\u001b[39m\"\u001b[39m\u001b[39mDon\u001b[39m\u001b[39m'\u001b[39m\u001b[39mt divide by zero!\u001b[39m\u001b[39m\"\u001b[39m)\n",
      "\u001b[1;31mZeroDivisionError\u001b[0m: Don't divide by zero!"
     ]
    }
   ],
   "source": [
    "denom = 0\n",
    "num = 3\n",
    "if not denom == 0:\n",
    "    frac = num/denom\n",
    "else:\n",
    "    raise ZeroDivisionError(\"Don't divide by zero!\")"
   ]
  },
  {
   "cell_type": "markdown",
   "metadata": {
    "slideshow": {
     "slide_type": "slide"
    }
   },
   "source": [
    "## The full `for` statement &hyphen; `break`\n",
    "\n",
    "`break` gets out of the for loop before all elements of the list are used.\n",
    "\n",
    "In the following example we possibly don't use all values of the list `x_values`."
   ]
  },
  {
   "cell_type": "code",
   "execution_count": null,
   "metadata": {},
   "outputs": [],
   "source": [
    "for x in x_values:\n",
    "    if x > treshold:\n",
    "        break\n",
    "    print(x)"
   ]
  },
  {
   "cell_type": "markdown",
   "metadata": {},
   "source": [
    "We say, the list was not exhausted."
   ]
  },
  {
   "cell_type": "markdown",
   "metadata": {
    "slideshow": {
     "slide_type": "slide"
    }
   },
   "source": [
    "## The full `for` statement &hyphen; `else`\n",
    "\n",
    "`else` checks if the loop was not *broken* by the `break` keyword."
   ]
  },
  {
   "cell_type": "code",
   "execution_count": null,
   "metadata": {},
   "outputs": [],
   "source": [
    "for x in x_values:\n",
    "    if x > treshold:\n",
    "        break\n",
    "    print(x)\n",
    "else:\n",
    "    print(\"all the x are below the threshold\")"
   ]
  },
  {
   "cell_type": "markdown",
   "metadata": {},
   "source": [
    "If we did not break, the else-block is executed."
   ]
  },
  {
   "cell_type": "markdown",
   "metadata": {
    "slideshow": {
     "slide_type": "slide"
    }
   },
   "source": [
    "## Basic string formatting\n",
    "Book p. 43\n",
    "\n",
    "- Using keywords:"
   ]
  },
  {
   "cell_type": "code",
   "execution_count": 12,
   "metadata": {},
   "outputs": [
    {
     "name": "stdout",
     "output_type": "stream",
     "text": [
      "I'm a string.\n",
      "I'm a 10.\n"
     ]
    }
   ],
   "source": [
    "str1 = \"I'm a {something}.\".format(something = \"string\")\n",
    "str2 = \"I'm a {something}.\".format(something = 10)\n",
    "print(str1)\n",
    "print(str2)"
   ]
  },
  {
   "cell_type": "markdown",
   "metadata": {},
   "source": [
    "- Using positional arguments:"
   ]
  },
  {
   "cell_type": "code",
   "execution_count": 13,
   "metadata": {},
   "outputs": [
    {
     "name": "stdout",
     "output_type": "stream",
     "text": [
      "Two strings, a and b.\n"
     ]
    }
   ],
   "source": [
    "print(\"Two strings, {} and {}.\".format(\"a\", \"b\"))"
   ]
  },
  {
   "cell_type": "markdown",
   "metadata": {
    "slideshow": {
     "slide_type": "slide"
    }
   },
   "source": [
    "## f-strings\n",
    "\n",
    "An elegant alternative in modern Python is the use of f-strings."
   ]
  },
  {
   "cell_type": "code",
   "execution_count": 14,
   "metadata": {},
   "outputs": [
    {
     "name": "stdout",
     "output_type": "stream",
     "text": [
      "\n",
      "We use 33.45 g sugar and 2 g salt.\n",
      "In total 35.45 g.\n"
     ]
    }
   ],
   "source": [
    "quantity = 33.45\n",
    "other_quantity = 2\n",
    "text = f\"\"\"\n",
    "We use {quantity} g sugar and {other_quantity} g salt.\n",
    "In total {quantity + other_quantity} g.\"\"\"\n",
    "print(text)"
   ]
  },
  {
   "cell_type": "markdown",
   "metadata": {},
   "source": [
    "To enable this interpretation of the text enclosed in {...} the string has to prefixed by the letter 'f'.\n",
    "\n",
    "This feature is not (yet) included in the course book."
   ]
  },
  {
   "cell_type": "markdown",
   "metadata": {
    "slideshow": {
     "slide_type": "slide"
    }
   },
   "source": [
    "## Old string formatting\n",
    "\n",
    "- for strings"
   ]
  },
  {
   "cell_type": "code",
   "execution_count": null,
   "metadata": {},
   "outputs": [],
   "source": [
    "course_code = \"NUMA01\"\n",
    "print(\"This course’s code is %s\" % course_code)"
   ]
  },
  {
   "cell_type": "markdown",
   "metadata": {},
   "source": [
    "- for integers"
   ]
  },
  {
   "cell_type": "code",
   "execution_count": null,
   "metadata": {},
   "outputs": [],
   "source": [
    "nb_students = 16\n",
    "print(\"There are %d students\" % nb_students)"
   ]
  },
  {
   "cell_type": "markdown",
   "metadata": {},
   "source": [
    " - for floats"
   ]
  },
  {
   "cell_type": "code",
   "execution_count": null,
   "metadata": {},
   "outputs": [],
   "source": [
    "average_grade = 3.4\n",
    "print(\"Average grade: %f\" % average_grade)"
   ]
  },
  {
   "cell_type": "markdown",
   "metadata": {
    "slideshow": {
     "slide_type": "slide"
    }
   },
   "source": [
    "\n",
    "## Formatting numbers using f-strings\n",
    "\n",
    "We can right-align numbers at some position which is written after a colon."
   ]
  },
  {
   "cell_type": "code",
   "execution_count": 15,
   "metadata": {},
   "outputs": [
    {
     "name": "stdout",
     "output_type": "stream",
     "text": [
      "number      square\n",
      "------------------\n",
      "    -2          4\n",
      "    -1          1\n",
      "     0          0\n",
      "     1          1\n",
      "     2          4\n"
     ]
    }
   ],
   "source": [
    "print(\"number      square\")\n",
    "print(\"------------------\")\n",
    "for i in range(-2, 3):\n",
    "    print(f\"{i:6} {i*i:10}\")"
   ]
  },
  {
   "cell_type": "markdown",
   "metadata": {
    "slideshow": {
     "slide_type": "slide"
    }
   },
   "source": [
    "## Alignment and decimals\n",
    "\n",
    "We can add `.2f`to show two decimals:"
   ]
  },
  {
   "cell_type": "code",
   "execution_count": 16,
   "metadata": {},
   "outputs": [
    {
     "name": "stdout",
     "output_type": "stream",
     "text": [
      "number      square\n",
      "------------------\n",
      " -2.00       4.00\n",
      " -1.00       1.00\n",
      "  0.00       0.00\n",
      "  1.00       1.00\n",
      "  2.00       4.00\n"
     ]
    }
   ],
   "source": [
    "print(\"number      square\")\n",
    "print(\"------------------\")\n",
    "for i in range(-2, 3):\n",
    "    print(f\"{i:6.2f} {i*i:10.2f}\")"
   ]
  },
  {
   "cell_type": "markdown",
   "metadata": {
    "slideshow": {
     "slide_type": "slide"
    }
   },
   "source": [
    "## Decimals and scientific notation\n",
    "\n",
    "More examples"
   ]
  },
  {
   "cell_type": "code",
   "execution_count": 17,
   "metadata": {},
   "outputs": [
    {
     "name": "stdout",
     "output_type": "stream",
     "text": [
      "five decimals: 33.45000\n",
      "scientific notation with two decimals: 3.35e+01\n"
     ]
    }
   ],
   "source": [
    "quantity = 33.45\n",
    "print(f\"five decimals: {quantity:0.5f}\")\n",
    "print(f\"scientific notation with two decimals: {quantity:0.2e}\")"
   ]
  },
  {
   "cell_type": "markdown",
   "metadata": {
    "slideshow": {
     "slide_type": "slide"
    }
   },
   "source": [
    "## Basics on functions\n",
    "\n",
    "Consider the following mathematical function:\n",
    "\n",
    "$$ f(x) = 2x +1 $$\n",
    "\n",
    "The Python equivalent is:"
   ]
  },
  {
   "cell_type": "code",
   "execution_count": null,
   "metadata": {},
   "outputs": [],
   "source": [
    "def f(x):\n",
    "    return 2*x + 1"
   ]
  },
  {
   "cell_type": "markdown",
   "metadata": {},
   "source": [
    "- the keyword `def` tells Python we are defining a function\n",
    "- f is the name of the function\n",
    "- x is the *parameter*, or *input* of the function\n",
    "- what follows `return` is the *output* of the function"
   ]
  },
  {
   "cell_type": "markdown",
   "metadata": {
    "slideshow": {
     "slide_type": "slide"
    }
   },
   "source": [
    "## Calling a function\n",
    "\n",
    "Once the function is defined:"
   ]
  },
  {
   "cell_type": "code",
   "execution_count": 18,
   "metadata": {
    "scrolled": true
   },
   "outputs": [],
   "source": [
    "def f(x):\n",
    "    return 2*x + 1"
   ]
  },
  {
   "cell_type": "markdown",
   "metadata": {},
   "source": [
    "it may now be called using:"
   ]
  },
  {
   "cell_type": "code",
   "execution_count": 19,
   "metadata": {},
   "outputs": [
    {
     "name": "stdout",
     "output_type": "stream",
     "text": [
      "3\n",
      "5\n"
     ]
    }
   ],
   "source": [
    "a = f(1)\n",
    "print(a)\n",
    "print(f(2))"
   ]
  },
  {
   "cell_type": "markdown",
   "metadata": {},
   "source": [
    "The **parameter** $x$ is replaced by the **argument** 2."
   ]
  },
  {
   "cell_type": "markdown",
   "metadata": {
    "slideshow": {
     "slide_type": "slide"
    }
   },
   "source": [
    "## Writing scripts\n",
    "\n",
    "Collect a sequence of commands in a file with the file extension `.py`, e.g. `smartscripts.py`."
   ]
  },
  {
   "cell_type": "code",
   "execution_count": null,
   "metadata": {},
   "outputs": [],
   "source": [
    "def f(x):\n",
    "    return 2*x + 1\n",
    "\n",
    "z = []\n",
    "for x in range(10):\n",
    "    if f(x) > pi: \n",
    "        z.append(x)\n",
    "    else: \n",
    "        z.append(-1)\n",
    "print(z)"
   ]
  },
  {
   "cell_type": "markdown",
   "metadata": {},
   "source": [
    "From IPython: `run smartscript.py`."
   ]
  },
  {
   "cell_type": "markdown",
   "metadata": {
    "slideshow": {
     "slide_type": "slide"
    }
   },
   "source": [
    "## Example &hyphen; collecting functions\n",
    "\n",
    "Create a **module** by collecting functions into a single file, e.g. `smartfunctions.py` as:"
   ]
  },
  {
   "cell_type": "code",
   "execution_count": null,
   "metadata": {},
   "outputs": [],
   "source": [
    "def g(x):\n",
    "    return x**2 + 4 * x - 5\n",
    "\n",
    "def h(x): \n",
    "    return 1/f(x)\n",
    "\n",
    "def f(x):\n",
    "    return 2 * x + 1"
   ]
  },
  {
   "cell_type": "markdown",
   "metadata": {},
   "source": [
    "- These functions can be used by an external script or directly in the IPython environment.\n",
    "- Functions within the module can depend on each other.\n",
    "- Grouping functions with a common theme or purpose gives modules that can be shared and used by others."
   ]
  },
  {
   "cell_type": "markdown",
   "metadata": {
    "slideshow": {
     "slide_type": "slide"
    }
   },
   "source": [
    "## Using modules\n",
    "\n",
    "Modules need to be imported"
   ]
  },
  {
   "cell_type": "code",
   "execution_count": null,
   "metadata": {},
   "outputs": [],
   "source": [
    "import smartfunctions \n",
    "print(smartfunctions.f(2))"
   ]
  },
  {
   "cell_type": "code",
   "execution_count": null,
   "metadata": {},
   "outputs": [],
   "source": [
    "import smartfunctions as sf\n",
    "print(sf.f(2))"
   ]
  },
  {
   "cell_type": "code",
   "execution_count": null,
   "metadata": {},
   "outputs": [],
   "source": [
    "from smartfunctions import g \n",
    "print(g(1))"
   ]
  },
  {
   "cell_type": "code",
   "execution_count": null,
   "metadata": {},
   "outputs": [],
   "source": [
    "from smartfunctions import * \n",
    "print(h(2)*f(2))"
   ]
  },
  {
   "cell_type": "markdown",
   "metadata": {
    "slideshow": {
     "slide_type": "slide"
    }
   },
   "source": [
    "## More about plots\n",
    "\n",
    "- You have already used the command `plot`. It needs a list of $x$ values and a list of $y$ values. If a single list, $y$ is given, the list `list(range(len(y)))` is assumed as $x$ values.\n",
    "- You may use the keyword argument `label` to give your curves a name, and then show them using `legend`."
   ]
  },
  {
   "cell_type": "code",
   "execution_count": 21,
   "metadata": {
    "slideshow": {
     "slide_type": "slide"
    }
   },
   "outputs": [
    {
     "data": {
      "image/png": "[encoded data removed]",
      "text/plain": [
       "<Figure size 432x288 with 1 Axes>"
      ]
     },
     "metadata": {
      "needs_background": "light"
     },
     "output_type": "display_data"
    }
   ],
   "source": [
    "from numpy import *\n",
    "from matplotlib.pyplot import *\n",
    "x_vals = [.2*n for n in range(20)] \n",
    "y1 = [sin(.3*x) for x in x_vals] \n",
    "y2 = [sin(2*x) for x in x_vals] \n",
    "plot(x_vals ,y1, label='0.3') \n",
    "plot(x_vals, y2, label='2')\n",
    "legend ()\n",
    "show() # not always needed."
   ]
  },
  {
   "cell_type": "markdown",
   "metadata": {
    "slideshow": {
     "slide_type": "slide"
    }
   },
   "source": [
    "## Plots using numpy arrays\n",
    "\n",
    "The numpy function\n",
    "\n",
    "`linspace(start, stop, number_of_points)` \n",
    "\n",
    "can be used to create evenly spaced points as a numpy array.\n",
    "\n",
    "You can use *element wise* operations on numpy arrays."
   ]
  },
  {
   "cell_type": "code",
   "execution_count": 22,
   "metadata": {
    "slideshow": {
     "slide_type": "slide"
    }
   },
   "outputs": [
    {
     "data": {
      "image/png": "[encoded data removed]",
      "text/plain": [
       "<Figure size 432x288 with 1 Axes>"
      ]
     },
     "metadata": {
      "needs_background": "light"
     },
     "output_type": "display_data"
    }
   ],
   "source": [
    "x = linspace(0, pi, 20) # this is a numpy array of values\n",
    "y1 = sin(.3*x) # the function is applied for each value in the array\n",
    "y2 = sin(2*x)\n",
    "plot(x ,y1, label='0.3') \n",
    "plot(x, y2, label='2')\n",
    "legend ()\n",
    "show() # not always needed."
   ]
  },
  {
   "cell_type": "markdown",
   "metadata": {
    "slideshow": {
     "slide_type": "slide"
    }
   },
   "source": [
    "## A plot with more key words\n",
    "\n",
    "Here is an example with more keywords:"
   ]
  },
  {
   "cell_type": "code",
   "execution_count": 23,
   "metadata": {},
   "outputs": [
    {
     "data": {
      "text/plain": [
       "[<matplotlib.lines.Line2D at 0x1143a3a10>]"
      ]
     },
     "execution_count": 23,
     "metadata": {},
     "output_type": "execute_result"
    },
    {
     "data": {
      "image/png": "[encoded data removed]",
      "text/plain": [
       "<Figure size 432x288 with 1 Axes>"
      ]
     },
     "metadata": {
      "needs_background": "light"
     },
     "output_type": "display_data"
    }
   ],
   "source": [
    "plot(x, y2, \n",
    "     color='green',\n",
    "     linestyle='dashed', \n",
    "     marker='o', \n",
    "     markerfacecolor='blue', \n",
    "     markersize=12,\n",
    "     linewidth=6)"
   ]
  },
  {
   "cell_type": "markdown",
   "metadata": {
    "slideshow": {
     "slide_type": "slide"
    }
   },
   "source": [
    "## Fixed point iterations\n",
    "\n",
    "A recursive equation can be written as \n",
    "\n",
    "\\begin{cases}\n",
    "a_0 = c \\\\\n",
    "a_{n+1} = f(a_n), n \\ge 0\n",
    "\\end{cases}"
   ]
  },
  {
   "cell_type": "code",
   "execution_count": null,
   "metadata": {},
   "outputs": [],
   "source": [
    "a = c              # some initial value c\n",
    "for i in range(n): # for some n\n",
    "    a = f(a)       # where f is some function"
   ]
  },
  {
   "cell_type": "markdown",
   "metadata": {},
   "source": [
    "A number $x_0$ such that $f(x_0)=x_0$ is called a *fixed point*. \n",
    "\n",
    "A fixed point can be **repelling** or **attracting**. If the initial value $c$ is \"close to\" an attracting fixed point, the sequence will converge to that fixed point.\n",
    "\n",
    "See [www.geogebra.org/m/hszvjjge](www.geogebra.org/m/hszvjjge)"
   ]
  }
 ],
 "metadata": {
  "celltoolbar": "Slideshow",
  "kernelspec": {
   "display_name": "Python 3.10.6 64-bit",
   "language": "python",
   "name": "python3"
  },
  "language_info": {
   "codemirror_mode": {
    "name": "ipython",
    "version": 3
   },
   "file_extension": ".py",
   "mimetype": "text/x-python",
   "name": "python",
   "nbconvert_exporter": "python",
   "pygments_lexer": "ipython3",
   "version": "3.10.6"
  },
  "rise": {
   "autolaunch": true,
   "footer": " ",
   "start_slideshow_at": "beginning",
   "theme": "simple",
   "transition": "slide"
  },
  "vscode": {
   "interpreter": {
    "hash": "094b53954a6577eb15ab92a1bc5ea980b0c4349ba38913e2c0bcc6ac196eff0c"
   }
  }
 },
 "nbformat": 4,
 "nbformat_minor": 2
}
