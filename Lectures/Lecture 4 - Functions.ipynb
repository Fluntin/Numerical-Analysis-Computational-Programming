{
 "cells": [
  {
   "cell_type": "markdown",
   "metadata": {
    "slideshow": {
     "slide_type": "slide"
    }
   },
   "source": [
    "# Computational Programming with Python\n",
    "### Lecture 4: Functions\n",
    "\n",
    "### Center for Mathematical Sciences, Lund University\n",
    "Lecturer: Claus Führer, Malin Christersson, Robert Klöfkorn\n"
   ]
  },
  {
   "cell_type": "markdown",
   "metadata": {
    "slideshow": {
     "slide_type": "slide"
    }
   },
   "source": [
    "## This lecture\n",
    "\n",
    "- Basic features of functions, passing arguments\n",
    "- Scope of variables\n",
    "- Default arguments\n",
    "- Docstring\n",
    "- Parameters and arguments\n",
    "- Return or no return\n",
    "- Anonymous functions\n",
    "- Functions as arguments, example: Numerical differentiation"
   ]
  },
  {
   "cell_type": "markdown",
   "metadata": {
    "slideshow": {
     "slide_type": "slide"
    }
   },
   "source": [
    "## Basic features\n",
    "\n",
    "Comparing functions in mathematics and functions in Python"
   ]
  },
  {
   "cell_type": "code",
   "execution_count": 1,
   "metadata": {},
   "outputs": [],
   "source": [
    "from numpy import*\n",
    "from matplotlib.pyplot import *\n",
    "%matplotlib inline"
   ]
  },
  {
   "cell_type": "markdown",
   "metadata": {
    "slideshow": {
     "slide_type": "subslide"
    }
   },
   "source": [
    "## Functions in mathematics\n",
    "\n",
    "A function is written as a map, that uniquely assigns an element $y$ from the range $R$ to every element $x$ of the domain $D$.\n",
    "\n",
    "$$f:x \\mapsto y$$\n",
    "\n",
    "$f$ is the function, $x$ is its argument, $y$ is its (return) value\n",
    "\n",
    "There can be several arguments of different type. Consider:\n",
    "\n",
    "$$ f(g, a, b) = \\int_a^b g(x) dx $$\n",
    "\n",
    "The arguments are not interchangeable. Position matters."
   ]
  },
  {
   "cell_type": "markdown",
   "metadata": {
    "slideshow": {
     "slide_type": "subslide"
    }
   },
   "source": [
    "## Functions in Python\n",
    "\n",
    "Definition of a function:\n",
    "\n",
    "```python\n",
    "def f(x1, x2, x3):\n",
    "    # some computations\n",
    "    y = .... #\n",
    "    return y\n",
    "```\n",
    "\n",
    "Evaluation (call) of a function:\n",
    "\n",
    "```python\n",
    "f(17, 18, -2)\n",
    "f([1, 2, 3], {'tol': 1.e-10}, 'ro')\n",
    "...\n",
    "```\n",
    "\n",
    "Wording:\n",
    "\n",
    "`x1, x2, x3` are called **parameters** (needed for definition)\n",
    "\n",
    "`17, 18, -2` are called **arguments** (needed for evaluation)"
   ]
  },
  {
   "cell_type": "markdown",
   "metadata": {
    "slideshow": {
     "slide_type": "subslide"
    }
   },
   "source": [
    "## Passing arguments\n",
    "\n",
    "Consider:"
   ]
  },
  {
   "cell_type": "code",
   "execution_count": 2,
   "metadata": {},
   "outputs": [],
   "source": [
    "def subtract(x1, x2):\n",
    "    return x1 - x2"
   ]
  },
  {
   "cell_type": "markdown",
   "metadata": {},
   "source": [
    "Passing arguments by position: (Position matters.)"
   ]
  },
  {
   "cell_type": "code",
   "execution_count": 3,
   "metadata": {},
   "outputs": [
    {
     "data": {
      "text/plain": [
       "-1"
      ]
     },
     "execution_count": 3,
     "metadata": {},
     "output_type": "execute_result"
    }
   ],
   "source": [
    "subtract(1, 2) "
   ]
  },
  {
   "cell_type": "markdown",
   "metadata": {},
   "source": [
    "Passing arguments by keywords: (Position doesn't matter)"
   ]
  },
  {
   "cell_type": "code",
   "execution_count": 4,
   "metadata": {},
   "outputs": [
    {
     "data": {
      "text/plain": [
       "-1"
      ]
     },
     "execution_count": 4,
     "metadata": {},
     "output_type": "execute_result"
    }
   ],
   "source": [
    "subtract(x2=2, x1=1) "
   ]
  },
  {
   "cell_type": "markdown",
   "metadata": {
    "slideshow": {
     "slide_type": "subslide"
    }
   },
   "source": [
    "## Passing arguments (cont)\n",
    "\n",
    "Positional arguments come first, then keyword arguments."
   ]
  },
  {
   "cell_type": "code",
   "execution_count": 5,
   "metadata": {},
   "outputs": [
    {
     "name": "stdout",
     "output_type": "stream",
     "text": [
      "sum1 = 10\n"
     ]
    }
   ],
   "source": [
    "def add(x1, x2, x3, x4):\n",
    "    return sum([x1, x2, x3, x4])\n",
    "\n",
    "sum1 = add(1, 2, 3, 4) \n",
    "print(\"sum1 =\", sum1)"
   ]
  },
  {
   "cell_type": "code",
   "execution_count": 6,
   "metadata": {},
   "outputs": [
    {
     "name": "stdout",
     "output_type": "stream",
     "text": [
      "sum2 = 10\n"
     ]
    }
   ],
   "source": [
    "sum2 = add(1, 2, x4 = 4, x3 = 3) # this works\n",
    "print(\"sum2 =\", sum2)"
   ]
  },
  {
   "cell_type": "code",
   "execution_count": null,
   "metadata": {},
   "outputs": [],
   "source": [
    "sum3 = add(1, 2, x3 = 3, 4)  # this doesn't work"
   ]
  },
  {
   "cell_type": "markdown",
   "metadata": {
    "slideshow": {
     "slide_type": "slide"
    }
   },
   "source": [
    "## Scope of variables\n",
    "\n",
    "Variables defined inside the function are said to belong to the function’s **scope**. They are unknown outside the function. "
   ]
  },
  {
   "cell_type": "code",
   "execution_count": 7,
   "metadata": {},
   "outputs": [
    {
     "name": "stdout",
     "output_type": "stream",
     "text": [
      "40.0\n"
     ]
    }
   ],
   "source": [
    "def mult2(x):\n",
    "    c = 2.   # a local variable\n",
    "    return c*x\n",
    "\n",
    "print(mult2(20)) \n",
    "\n",
    "# print(c) # doesn't work"
   ]
  },
  {
   "cell_type": "markdown",
   "metadata": {
    "slideshow": {
     "slide_type": "subslide"
    }
   },
   "source": [
    "## Parameters and global variables\n",
    "\n",
    "Compare:\n",
    "\n",
    "a is a parameter of the function:\n",
    "```python\n",
    "def multiply(x, a):\n",
    "    return a*x\n",
    "```\n",
    "\n",
    "a is referenced from outside of the  functions scope, a is a **global** variable:\n",
    "```python\n",
    "a = 3\n",
    "def multiply(x):\n",
    "    return a*x\n",
    "```"
   ]
  },
  {
   "cell_type": "markdown",
   "metadata": {
    "slideshow": {
     "slide_type": "subslide"
    }
   },
   "source": [
    "## Changing argument values inside a function\n",
    "\n",
    "Example:"
   ]
  },
  {
   "cell_type": "code",
   "execution_count": 8,
   "metadata": {},
   "outputs": [
    {
     "name": "stdout",
     "output_type": "stream",
     "text": [
      "my_nr = 10 my_interval = [0, 7]\n"
     ]
    }
   ],
   "source": [
    "def myfunc(nr, interval):\n",
    "    nr = 0\n",
    "    interval[0] = 0\n",
    "    \n",
    "my_nr = 10\n",
    "my_interval = [-5, 7]\n",
    "myfunc(my_nr, my_interval)\n",
    "print(f\"my_nr = {my_nr} my_interval = {my_interval}\")"
   ]
  },
  {
   "cell_type": "markdown",
   "metadata": {
    "slideshow": {
     "slide_type": "subslide"
    }
   },
   "source": [
    "## Global variables"
   ]
  },
  {
   "cell_type": "code",
   "execution_count": 9,
   "metadata": {},
   "outputs": [
    {
     "name": "stdout",
     "output_type": "stream",
     "text": [
      "result = 20 a = 3\n"
     ]
    }
   ],
   "source": [
    "a = 3\n",
    "def multiply(x):\n",
    "    a = 4\n",
    "    return a*x\n",
    "\n",
    "print(f\"result = {multiply(5)} a = {a}\")"
   ]
  },
  {
   "cell_type": "markdown",
   "metadata": {},
   "source": [
    "Inside the function above, `a` is a local variable that is assigned a value. "
   ]
  },
  {
   "cell_type": "code",
   "execution_count": 10,
   "metadata": {},
   "outputs": [
    {
     "name": "stdout",
     "output_type": "stream",
     "text": [
      "This is the value of the global variable a: 3\n"
     ]
    }
   ],
   "source": [
    "a = 3\n",
    "def print_a():\n",
    "    print(\"This is the value of the global variable a:\", a)\n",
    "    \n",
    "print_a()"
   ]
  },
  {
   "cell_type": "markdown",
   "metadata": {},
   "source": [
    "You can access the value of a global variable but following code doesn't work:\n",
    "\n",
    "```python\n",
    "a = 3\n",
    "def multiply(x):\n",
    "    a = a + 1  # doesn't work\n",
    "    return a*x\n",
    "```"
   ]
  },
  {
   "cell_type": "markdown",
   "metadata": {
    "slideshow": {
     "slide_type": "subslide"
    }
   },
   "source": [
    "## Default arguments\n",
    "\n",
    "#### Example &hyphen; Free fall due to gravity\n",
    "\n",
    "The force $F$ is proportional to the mass $m$, $F = mg$,\n",
    "where $g$ is the acceleration of gravity. \n",
    "\n",
    "On earth $g \\approx 9,8 \\text{ m}/\\text{s}^2$."
   ]
  },
  {
   "cell_type": "code",
   "execution_count": 11,
   "metadata": {},
   "outputs": [
    {
     "name": "stdout",
     "output_type": "stream",
     "text": [
      "On earth, the force is 490.0 Newton.\n",
      "On the mooon, the force is 81.2 Newton.\n"
     ]
    }
   ],
   "source": [
    "def F(m, g = 9.8):\n",
    "    return m*g\n",
    "\n",
    "F1 = F(50)\n",
    "F2 = F(50, 1.625)\n",
    "print(f\"On earth, the force is {F1:0.1f} Newton.\")\n",
    "print(f\"On the mooon, the force is {F2:0.1f} Newton.\")"
   ]
  },
  {
   "cell_type": "markdown",
   "metadata": {},
   "source": [
    "In the definition of the function, mandatory parameters must precede optional parameters (those with default values). Why?"
   ]
  },
  {
   "cell_type": "markdown",
   "metadata": {
    "slideshow": {
     "slide_type": "subslide"
    }
   },
   "source": [
    "## Arguments, Parameters - Summary\n",
    "\n",
    "Make sure that you understood the difference\n",
    "\n",
    "- between arguments and parameters\n",
    "- between function definition and function evaluation (call)\n",
    "- between positional arguments and keyword arguments\n",
    "\n",
    "and that you know how to use default arguments."
   ]
  },
  {
   "cell_type": "markdown",
   "metadata": {
    "slideshow": {
     "slide_type": "slide"
    }
   },
   "source": [
    "## Docstring\n",
    "\n",
    "All functions (and everything else) should be documented carefully.\n",
    "\n",
    "A docstring is the leading comment in a function (or class):\n",
    "\n",
    "```python\n",
    "def newton(f, x0): \n",
    "    \"\"\"\n",
    "    Newton’s method for computing a zero of a function on input:\n",
    "    f (function) given function f(x)\n",
    "    x0 (float) initial guess \n",
    "    on return:\n",
    "    y (float) the approximated zero of f \n",
    "    \"\"\"\n",
    "...\n",
    "```\n",
    "\n",
    "`help(newton)` in Python or `newton?` in IPython displays the docstring as a help text."
   ]
  },
  {
   "cell_type": "markdown",
   "metadata": {
    "slideshow": {
     "slide_type": "slide"
    }
   },
   "source": [
    "## Return or no return\n",
    "\n",
    "Functions without a return statement can be used for displaying information. "
   ]
  },
  {
   "cell_type": "code",
   "execution_count": 12,
   "metadata": {},
   "outputs": [
    {
     "name": "stdout",
     "output_type": "stream",
     "text": [
      "a = 5\n",
      "b = hi\n",
      "c = [10, 20, 20]\n"
     ]
    }
   ],
   "source": [
    "def show_info(a, b, c):\n",
    "    print(\"a =\", a)\n",
    "    print(\"b =\", b)\n",
    "    print(\"c =\", c)\n",
    "    \n",
    "show_info(5, \"hi\", [10, 20, 20])"
   ]
  },
  {
   "cell_type": "markdown",
   "metadata": {
    "slideshow": {
     "slide_type": "subslide"
    }
   },
   "source": [
    "Functions that return a value, can be evaluated without using an assignment."
   ]
  },
  {
   "cell_type": "code",
   "execution_count": 13,
   "metadata": {},
   "outputs": [
    {
     "name": "stdout",
     "output_type": "stream",
     "text": [
      "Hello World!\n",
      "huh?\n"
     ]
    }
   ],
   "source": [
    "def add_numbers(a, b, c):\n",
    "    print(\"Hello World!\")\n",
    "    return a + b + c\n",
    "\n",
    "add_numbers(10, 20, 30)\n",
    "print(\"huh?\")"
   ]
  },
  {
   "cell_type": "markdown",
   "metadata": {
    "slideshow": {
     "slide_type": "subslide"
    }
   },
   "source": [
    "## The `return` statement\n",
    "\n",
    "The `return` statement returns a **single** object!\n",
    "\n",
    "```python\n",
    "def myfunc(x):\n",
    "    return 1, 2, 3, 4, 5, 6\n",
    "```\n",
    "\n",
    "What is the object returned here? Which type does it have?\n",
    "\n",
    "Statements after the `return` statement are ignored.\n",
    "\n",
    "```python\n",
    "def myfunc(x):\n",
    "    return 1, 2, 3\n",
    "    z = 25  # ignored\n",
    "```"
   ]
  },
  {
   "cell_type": "markdown",
   "metadata": {
    "slideshow": {
     "slide_type": "subslide"
    }
   },
   "source": [
    "## No return\n",
    "\n",
    "A function without a return statement returns `None`."
   ]
  },
  {
   "cell_type": "code",
   "execution_count": 14,
   "metadata": {},
   "outputs": [
    {
     "name": "stdout",
     "output_type": "stream",
     "text": [
      "Hello World!\n",
      "<class 'NoneType'>\n",
      "True\n"
     ]
    }
   ],
   "source": [
    "def show_message():\n",
    "    print(\"Hello World!\")\n",
    "    \n",
    "a = show_message()\n",
    "print(type(a))\n",
    "print(a is None)"
   ]
  },
  {
   "cell_type": "markdown",
   "metadata": {
    "slideshow": {
     "slide_type": "slide"
    }
   },
   "source": [
    "## Anonymous functions &hyphen; the `lambda` keyword\n",
    "\n",
    "With $\\lambda$-functions one has a handy tool making one-line function definitions:"
   ]
  },
  {
   "cell_type": "code",
   "execution_count": 15,
   "metadata": {},
   "outputs": [
    {
     "name": "stdout",
     "output_type": "stream",
     "text": [
      "33.5\n",
      "1\n"
     ]
    }
   ],
   "source": [
    "f = lambda x: 3*x**2 + 2*x + 0.5\n",
    "\n",
    "print(f(3))\n",
    "\n",
    "g = lambda x, y: 3*x - 2*y\n",
    "\n",
    "print(g(1, 1))"
   ]
  },
  {
   "cell_type": "markdown",
   "metadata": {
    "slideshow": {
     "slide_type": "subslide"
    }
   },
   "source": [
    "Example for a common application, compute $\\int_0^1x^2+5dx$."
   ]
  },
  {
   "cell_type": "code",
   "execution_count": 16,
   "metadata": {},
   "outputs": [
    {
     "name": "stdout",
     "output_type": "stream",
     "text": [
      "5.333333333333333\n"
     ]
    }
   ],
   "source": [
    "import scipy.integrate as si\n",
    "result, error = si.quad(lambda x: x**2+5, 0, 1)\n",
    "print(result)"
   ]
  },
  {
   "cell_type": "markdown",
   "metadata": {},
   "source": [
    "Note that the `quad` function assumes that the first argument is a function with **one** parameter."
   ]
  },
  {
   "cell_type": "markdown",
   "metadata": {
    "slideshow": {
     "slide_type": "slide"
    }
   },
   "source": [
    "## Functions as arguments\n",
    "\n",
    "### Example &hyphen; Numerical differentiation\n",
    "\n",
    "\n",
    "Let \n",
    "\n",
    "$$ f(x) = x^3 + x^2,$$\n",
    "\n",
    "then\n",
    "\n",
    "$$ f'(x) = 3x^2 + 2x$$\n",
    "\n",
    "and \n",
    "\n",
    "$$f'(1) = 5.$$"
   ]
  },
  {
   "cell_type": "markdown",
   "metadata": {
    "slideshow": {
     "slide_type": "subslide"
    }
   },
   "source": [
    "###  Approximating the derivative\n",
    "\n",
    "We can use some approximation to find the derivative.\n",
    "\n",
    "Example 1:\n",
    "\n",
    "$$f'(x) \\approx \\frac{f(x+h)-f(x)}{h} $$\n",
    "\n",
    "Example 2:\n",
    "\n",
    "$$f'(x) \\approx \\frac{f(x+h)-f(x-h)}{2h} $$\n",
    "\n",
    "Where $h$ is some small number."
   ]
  },
  {
   "cell_type": "markdown",
   "metadata": {
    "slideshow": {
     "slide_type": "subslide"
    }
   },
   "source": [
    "### Using Python"
   ]
  },
  {
   "cell_type": "code",
   "execution_count": 17,
   "metadata": {},
   "outputs": [
    {
     "name": "stdout",
     "output_type": "stream",
     "text": [
      "Using derivative1, f'(1) = 5.004000999999647\n",
      "Using derivative2, f'(1) = 5.000000999999754\n"
     ]
    }
   ],
   "source": [
    "def f(x):\n",
    "    return x**3 + x**2\n",
    "\n",
    "def derivative1(f, x, h = 1e-3): # using a default value for h\n",
    "    return (f(x+h)-f(x))/h\n",
    "\n",
    "def derivative2(f, x, h = 1e-3):\n",
    "    return (f(x+h)-f(x-h))/(2*h)\n",
    "\n",
    "print(f\"Using derivative1, f'(1) = {derivative1(f, 1)}\")\n",
    "print(f\"Using derivative2, f'(1) = {derivative2(f, 1)}\")"
   ]
  },
  {
   "cell_type": "markdown",
   "metadata": {
    "slideshow": {
     "slide_type": "subslide"
    }
   },
   "source": [
    "## Making $h$ smaller"
   ]
  },
  {
   "cell_type": "code",
   "execution_count": 18,
   "metadata": {},
   "outputs": [
    {
     "name": "stdout",
     "output_type": "stream",
     "text": [
      "   h               f'(1)                 error\n",
      "--------------------------------------------------------\n",
      " 0.001       5.004000999999647      0.004000999999647092\n",
      "0.0001       5.000400009995687    0.00040000999568690077\n",
      " 1e-05      5.0000400001248835     4.000012488347693e-05\n",
      " 1e-06      5.0000039997222245    3.9997222245347075e-06\n",
      " 1e-07       5.000000404820071     4.048200707984506e-07\n",
      " 1e-08       4.999999969612645    -3.038735485461075e-08\n",
      " 1e-09       5.000000413701855    4.1370185499545187e-07\n",
      " 1e-10       5.000000413701855    4.1370185499545187e-07\n",
      " 1e-11       5.000000413701855    4.1370185499545187e-07\n",
      " 1e-12       5.000444502911705    0.00044450291170505807\n",
      " 1e-13       4.996003610813204     -0.003996389186795568\n"
     ]
    }
   ],
   "source": [
    "print(\"   h               f'(1)                 error\")\n",
    "print(56*\"-\")\n",
    "for i in range(3,14):\n",
    "    h = 10**(-i)\n",
    "    fprime = derivative1(f, 1, h)\n",
    "    print(f\"{h:6} {fprime:23} {fprime-5:25}\")"
   ]
  },
  {
   "cell_type": "markdown",
   "metadata": {
    "slideshow": {
     "slide_type": "subslide"
    }
   },
   "source": [
    "### Plotting the derivative function"
   ]
  },
  {
   "cell_type": "code",
   "execution_count": 19,
   "metadata": {},
   "outputs": [
    {
     "data": {
      "image/png": "[encoded data removed]",
      "text/plain": [
       "<Figure size 432x288 with 1 Axes>"
      ]
     },
     "metadata": {
      "needs_background": "light"
     },
     "output_type": "display_data"
    }
   ],
   "source": [
    "x = linspace(-2, 2, 100)\n",
    "plot(x, f(x), label = \"f(x)\")\n",
    "plot(x, derivative1(f, x), label = \"f'(x)\")\n",
    "ylim(-2, 3)\n",
    "legend()\n",
    "grid()    # for clarity"
   ]
  },
  {
   "cell_type": "markdown",
   "metadata": {
    "slideshow": {
     "slide_type": "subslide"
    }
   },
   "source": [
    "## Functions returning functions\n",
    "\n",
    "Instead of using the special case of a third degree polynomial function\n",
    "$$f(x) = x^3 +x^2,$$\n",
    "\n",
    "we will now handle any third degree polynomial function\n",
    "\n",
    "$$f(x) = ax^3 +bx^2+cx +d.$$\n",
    "\n",
    "```python\n",
    "def f(x, a, b, c, d):\n",
    "    return a*x**3+b*x**2+c*x+d\n",
    "```\n",
    "\n",
    "This is a generalization. Code made for general cases is reusable."
   ]
  },
  {
   "cell_type": "markdown",
   "metadata": {
    "slideshow": {
     "slide_type": "subslide"
    }
   },
   "source": [
    "### The derivative function\n",
    "\n",
    "The function\n",
    "\n",
    "```python\n",
    "def derivative1(f, x, h = 1e-3):\n",
    "    return (f(x+h)-f(x))/h\n",
    "```\n",
    "should remain the same function, if we want to avoid \"special cases\". However, we cannot use it for our new function f:\n",
    "\n",
    "```python\n",
    "def f(x, a, b, c, d):\n",
    "    return a*x**3+b*x**2+c*x+d\n",
    "```\n",
    "Why not?"
   ]
  },
  {
   "cell_type": "markdown",
   "metadata": {
    "slideshow": {
     "slide_type": "subslide"
    }
   },
   "source": [
    "### Using global arguments\n",
    "\n",
    "We can define a new function, with **one parameter**, using global variables."
   ]
  },
  {
   "cell_type": "code",
   "execution_count": 20,
   "metadata": {},
   "outputs": [
    {
     "name": "stdout",
     "output_type": "stream",
     "text": [
      "5.004000999999647\n"
     ]
    }
   ],
   "source": [
    "a = b = 1  # assigning the same value to multiple variables\n",
    "c = d = 0 \n",
    "\n",
    "def new_f(x): \n",
    "    return a*x**3+b*x**2+c*x+d  # a, b, c, d are accessed from the global scope\n",
    "\n",
    "def derivative1(f, x, h = 1e-3): \n",
    "    return (f(x+h)-f(x))/h\n",
    "\n",
    "der = derivative1(new_f, 1)\n",
    "print(der)"
   ]
  },
  {
   "cell_type": "markdown",
   "metadata": {
    "slideshow": {
     "slide_type": "subslide"
    }
   },
   "source": [
    "### Avoid global arguments, make a function that returns a function"
   ]
  },
  {
   "cell_type": "code",
   "execution_count": 21,
   "metadata": {},
   "outputs": [
    {
     "name": "stdout",
     "output_type": "stream",
     "text": [
      "newf(1) = 2\n",
      "der = 5.004000999999647\n"
     ]
    }
   ],
   "source": [
    "def f(x, a, b, c, d): \n",
    "    return a*x**3+b*x**2+c*x+d\n",
    "\n",
    "def derivative1(f, x, h = 1e-3): \n",
    "    return (f(x+h)-f(x))/h\n",
    "\n",
    "def make_one_parameter_func(f, a, b, c, d):\n",
    "    def newf(x):\n",
    "        return f(x, a, b, c, d)\n",
    "    return newf  # a function is returned\n",
    "\n",
    "newf = make_one_parameter_func(f, 1, 1, 0, 0)\n",
    "print(\"newf(1) =\", newf(1))  \n",
    "der = derivative1(newf, 1)\n",
    "print(\"der =\", der)"
   ]
  },
  {
   "cell_type": "markdown",
   "metadata": {
    "slideshow": {
     "slide_type": "subslide"
    }
   },
   "source": [
    "## Partial application\n",
    "\n",
    "The process of fixing the number of arguments by letting a function return a function, is called a **partial application**. Sometimes the word **closure** is used."
   ]
  },
  {
   "cell_type": "markdown",
   "metadata": {
    "slideshow": {
     "slide_type": "subslide"
    }
   },
   "source": [
    "### A partial application for other functions\n",
    "\n",
    "The partial application\n",
    "\n",
    "```python\n",
    "def make_one_parameter_func(f, a, b, c, d):\n",
    "    def newf(x):\n",
    "        return f(x, a, b, c, d)\n",
    "    return newf\n",
    "```\n",
    "works for all functions of an independent variable $x$ using four coefficients ($a, b, c, d$).\n",
    "\n",
    "What about $g(x) = A\\sin(\\omega x)$?\n",
    "\n",
    "Or $h(x) = ax^4 +bx^3 +cx^2+dx +e$?"
   ]
  }
 ],
 "metadata": {
  "celltoolbar": "Slideshow",
  "kernelspec": {
   "display_name": "Python 3",
   "language": "python",
   "name": "python3"
  },
  "language_info": {
   "codemirror_mode": {
    "name": "ipython",
    "version": 3
   },
   "file_extension": ".py",
   "mimetype": "text/x-python",
   "name": "python",
   "nbconvert_exporter": "python",
   "pygments_lexer": "ipython3",
   "version": "3.8.3"
  },
  "rise": {
   "autolaunch": true,
   "footer": " ",
   "theme": "simple",
   "transition": "slide"
  }
 },
 "nbformat": 4,
 "nbformat_minor": 2
}
