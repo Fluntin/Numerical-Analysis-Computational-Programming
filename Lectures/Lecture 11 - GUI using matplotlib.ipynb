{
 "cells": [
  {
   "cell_type": "markdown",
   "metadata": {
    "slideshow": {
     "slide_type": "slide"
    }
   },
   "source": [
    "# Computational Programming with Python\n",
    "### Lecture 11: GUI using matplotlib\n",
    "\n",
    "### Center for Mathematical Sciences, Lund University\n",
    "Lecturer: Claus Führer, Malin Christersson, Robert Klöfkorn\n"
   ]
  },
  {
   "cell_type": "markdown",
   "metadata": {
    "slideshow": {
     "slide_type": "slide"
    }
   },
   "source": [
    "# This lecture\n",
    "\n",
    "- Last lecture - More about plotting\n",
    "- Widgets and events\n",
    "- Sliders and buttons\n",
    "- Example 1 &hyphen; One slider\n",
    "- Example 2 &hyphen; A slider and a button\n",
    "- Example 3 &hyphen; Two sliders in a list\n",
    "- Events\n",
    "- Example 4 &hyphen; Click to make points and a spline\n",
    "- Summary"
   ]
  },
  {
   "cell_type": "markdown",
   "metadata": {
    "slideshow": {
     "slide_type": "slide"
    }
   },
   "source": [
    "# Last lecture\n",
    "\n",
    "\n",
    "## Revision: Interactive plots\n",
    "\n",
    "### Jupyter Notebook\n",
    "\n",
    "Use\n",
    "\n",
    "`%matplotlib notebook`\n",
    "\n",
    "### Spyder\n",
    "\n",
    "Choose `Automatic` as backend under the `Graphics` tab in the `IPython console` menu in the Preferences window."
   ]
  },
  {
   "cell_type": "markdown",
   "metadata": {
    "slideshow": {
     "slide_type": "subslide"
    }
   },
   "source": [
    "## Revision: References to figure and axes objects\n",
    "\n",
    "We can use\n",
    "\n",
    "```python\n",
    "fig, ax = subplots()\n",
    "```\n",
    "\n",
    "or \n",
    "\n",
    "```python\n",
    "fig = figure()\n",
    "ax = subplot(111)\n",
    "```\n",
    "In some cases we will use the `axes` function to make an axes object."
   ]
  },
  {
   "cell_type": "markdown",
   "metadata": {
    "slideshow": {
     "slide_type": "subslide"
    }
   },
   "source": [
    "## Revision: References to line plot objects\n",
    "\n",
    "We can use\n",
    "\n",
    "```python\n",
    "# unpack a list with one element\n",
    "line, = ax.plot(xvalues, yvalues) \n",
    "``` \n",
    "\n",
    "Last lecture we used setter methods to change the visual appearance.\n",
    "\n",
    "Now we will update a line plot by setting new  𝑥 - and  𝑦 -values.\n",
    "\n",
    "```python\n",
    "line.set_xdata(new_xvalues)\n",
    "line.set_ydata(new_yvalues)\n",
    "``` "
   ]
  },
  {
   "cell_type": "markdown",
   "metadata": {
    "slideshow": {
     "slide_type": "slide"
    }
   },
   "source": [
    "# Widgets and events\n",
    "\n",
    "1. Using `matplotlib.widgets` we will make sliders and buttons. \n",
    "2. In any plot (without using widgets) you can handle mouse events such as \"mouse pressed\". We will make such an example."
   ]
  },
  {
   "cell_type": "markdown",
   "metadata": {
    "slideshow": {
     "slide_type": "subslide"
    }
   },
   "source": [
    "## Making a widget\n",
    "\n",
    "1. Import classes `Slider`and `Button` from `matplotlib.widgets`.\n",
    "2. Make an axes object by specifying a rectangular part of the figure.\n",
    "3. Create the widget using the axes object as first argument.\n",
    "4. Define a <span class=alert>callback</span> function and use it as argument to an event handler of the widget.\n",
    "\n",
    "A slider has a `on_changed` event handler.\n",
    "\n",
    "A button has a `on_clicked` event handler."
   ]
  },
  {
   "cell_type": "markdown",
   "metadata": {
    "slideshow": {
     "slide_type": "subslide"
    }
   },
   "source": [
    "## Making an axes object for a widget\n",
    "\n",
    "Use the `axes`function:\n",
    "```python\n",
    "widget_ax = axes([left, bottom, width, height])\n",
    "```\n",
    "The rectangular region is specified using a relative coordinate system.\n",
    "![axesRectangle](http://cmc.education/slides/notebookImages/axesRectangle.svg)"
   ]
  },
  {
   "cell_type": "markdown",
   "metadata": {
    "slideshow": {
     "slide_type": "slide"
    }
   },
   "source": [
    "## The `show()` command\n",
    "\n",
    "If running a Python program from an editor that doesn't have an IPython console, or if running it in a terminal:\n",
    "\n",
    "`python example1.py`\n",
    "\n",
    "you must show a plot by using the matplotlib function\n",
    "\n",
    "```python\n",
    "show()\n",
    "```"
   ]
  },
  {
   "cell_type": "markdown",
   "metadata": {
    "slideshow": {
     "slide_type": "slide"
    }
   },
   "source": [
    "## Example 1 - One slider\n",
    "\n",
    "The graph of $f(x) = A\\sin(x)$.\n",
    "\n",
    "We will use a slider for the value of the amplitude $A$.\n",
    "\n",
    "Import the Slider class (and for later, the Button class).\n",
    "\n",
    "```python\n",
    "from matplotlib.widgets import Slider, Button\n",
    "```"
   ]
  },
  {
   "cell_type": "markdown",
   "metadata": {
    "slideshow": {
     "slide_type": "subslide"
    }
   },
   "source": [
    "Make a figure object and the axes objects for the slider and the plot:\n",
    "```python\n",
    "fig = figure()\n",
    "\n",
    "# layout\n",
    "sld_ax = axes([0.2, 0.9, 0.6, 0.05])  # axes for slider\n",
    "ax = axes([0.1, 0.15, 0.8, 0.7])      # axes for the plot\n",
    "```\n",
    "Make the slider.\n",
    "```python\n",
    "sld = Slider(sld_ax, 'amp', 0., 5.)\n",
    "```\n",
    "You can also use keyword arguments.\n",
    "```python\n",
    "sld = Slider(sld_ax, 'amp', 0., 5., \n",
    "             valinit=1, valstep=0.1, valfmt=\"%1.1f\")\n",
    "```\n",
    "The value of the slider will be stored in `sld.val`."
   ]
  },
  {
   "cell_type": "markdown",
   "metadata": {
    "slideshow": {
     "slide_type": "subslide"
    }
   },
   "source": [
    "Make $x$-values and format the plot.\n",
    "```python\n",
    "x = linspace(-2*pi, 2*pi, 200)\n",
    "ax.set_ylim(-5.5, 5.5)  # why is this needed in this case\n",
    "```\n",
    "Make the plot and get a reference to the line plot object.\n",
    "```python\n",
    "lines, = ax.plot(x, sld.val*sin(x))\n",
    "```"
   ]
  },
  {
   "cell_type": "markdown",
   "metadata": {
    "slideshow": {
     "slide_type": "subslide"
    }
   },
   "source": [
    "Define a callback function and use it as argument for the event handler.\n",
    "\n",
    "```python\n",
    "def update_amplitude(val):\n",
    "    lines.set_ydata(val*sin(x))\n",
    "    \n",
    "sld.on_changed(update_amplitude)\n",
    "```\n",
    "\n",
    "The parameter `val` holds the value of the slider. You could also use `sld.val` when setting the ydata.\n",
    "\n",
    "1. Note that your callback function only can have one single parameter.\n",
    "\n",
    "2. Note that your callback function changes a global variable. This can be avoided by enclosing the code in a class."
   ]
  },
  {
   "cell_type": "markdown",
   "metadata": {
    "slideshow": {
     "slide_type": "subslide"
    }
   },
   "source": [
    "## Example 1: The full program\n",
    "Make sure all imports have been made:"
   ]
  },
  {
   "cell_type": "code",
   "execution_count": null,
   "metadata": {},
   "outputs": [],
   "source": [
    "from numpy import *\n",
    "from matplotlib.pyplot import *\n",
    "from matplotlib.widgets import Slider, Button\n",
    "%matplotlib notebook"
   ]
  },
  {
   "cell_type": "code",
   "execution_count": null,
   "metadata": {
    "slideshow": {
     "slide_type": "subslide"
    }
   },
   "outputs": [],
   "source": [
    "fig = figure(figsize = (8,3))\n",
    "sld_ax = axes([0.2, 0.9, 0.6, 0.05]) # axes for slider\n",
    "ax = axes([0.1, 0.15, 0.8, 0.7])     # axes for the plot\n",
    "sld = Slider(sld_ax, 'amp', 0., 5.)\n",
    "x = linspace(-2*pi, 2*pi, 200)\n",
    "ax.set_ylim(-5.5, 5.5)\n",
    "lines, = ax.plot(x, sld.val*sin(x))\n",
    "\n",
    "def update_amplitude(val):\n",
    "    lines.set_ydata(val*sin(x)),\n",
    "    \n",
    "sld.on_changed(update_amplitude);  # ; to suppress Out[3]   "
   ]
  },
  {
   "cell_type": "markdown",
   "metadata": {
    "slideshow": {
     "slide_type": "slide"
    }
   },
   "source": [
    "## Example 2 - A button and a slider\n",
    "\n",
    "We will again use\n",
    "\n",
    "$$f(x) = A\\sin(x).$$\n",
    "\n",
    "- A slider has a `on_changed` event handler.\n",
    "- A button has a `on_clicked` event handler.\n",
    "\n",
    "Let the slider hold the value of the amplitude of a sine-curve. Let the button, not the slider, show the updated curve. \n",
    "\n",
    "In this case the button is meaningless. For cases where lengthy calculations are performed when sliders change values, it's better not to use the `on_changed` event to update plots."
   ]
  },
  {
   "cell_type": "markdown",
   "metadata": {
    "slideshow": {
     "slide_type": "subslide"
    }
   },
   "source": [
    "## Example 2: The full program"
   ]
  },
  {
   "cell_type": "code",
   "execution_count": null,
   "metadata": {},
   "outputs": [],
   "source": [
    "fig = figure(figsize = (8, 3))      \n",
    "sld_ax = axes([0.2, 0.9, 0.6, 0.05])  # axes for slider\n",
    "btn_ax = axes([0.7, 0.8, 0.2, 0.07])  # axes for button\n",
    "ax = axes([0.1, 0.15, 0.8, 0.6])      # axes for the plot\n",
    "sld = Slider(sld_ax, 'amp', 0., 5.)\n",
    "btn = Button(btn_ax, 'Show curve')    \n",
    "x = linspace(-2*pi, 2*pi, 200)\n",
    "ax.set_ylim(-5.5, 5.5)\n",
    "lines, = ax.plot(x, sld.val*sin(x))\n",
    "\n",
    "def show_curve(event):\n",
    "    lines.set_ydata(sld.val*sin(x))  # the amplitude is given by the slider value\n",
    "    \n",
    "btn.on_clicked(show_curve);"
   ]
  },
  {
   "cell_type": "markdown",
   "metadata": {
    "slideshow": {
     "slide_type": "slide"
    }
   },
   "source": [
    "## Example 3 - Two sliders in a list\n",
    "\n",
    "For the damped Lissajous curve defined by\n",
    "\n",
    "$$\n",
    "\\begin{cases}\n",
    "\t\tx(t) &= \\cos(at)e^{-dt} \\\\\n",
    "\t\ty(t) &= \\sin(t)e^{-dt}\n",
    "\t\\end{cases}\n",
    "\t, 0\\leq t \\lt 14\\pi\n",
    "$$\n",
    "\n",
    "use one slider for the angular frequency $a$ and one for the damping factor $d$."
   ]
  },
  {
   "cell_type": "markdown",
   "metadata": {
    "slideshow": {
     "slide_type": "subslide"
    }
   },
   "source": [
    "### Two sliders in a list\n",
    "\n",
    "Two sliders are fairly easy to handle. If many sliders are needed, the code will be shorter if the layout is made\n",
    "in some loop.\n",
    "\n",
    "To make a slider, we use:\n",
    "\n",
    "```python\n",
    "sld = Slider(sld_ax, label, valmin, valmax)\n",
    "``` \n",
    "\n",
    "For our two values, $a\\in[0, 2]$ and $d\\in[0, 0.1]$\n",
    "\n",
    "Our two values will have different labels and different valmax values."
   ]
  },
  {
   "cell_type": "markdown",
   "metadata": {
    "slideshow": {
     "slide_type": "subslide"
    }
   },
   "source": [
    "### A function for making sliders in a list\n",
    "\n",
    "```python\n",
    "def make_sliders(labels, valmaxs):\n",
    "    sliders = []\n",
    "    for i in range(2):\n",
    "        sld_ax = axes([0.05, 0.4+0.1*i, 0.28, 0.03])\n",
    "        sld = Slider(sld_ax, labels[i], 0, valmaxs[i])\n",
    "        sliders.append(sld)\n",
    "    return sliders\n",
    "```\n",
    "\n",
    "It is easy to afterwards change the layout of all sliders.\n",
    "\n",
    "To make the list of sliders, we use:\n",
    "```python\n",
    "sld = make_sliders(['a', 'd'], [2, 0.1])\n",
    "``` "
   ]
  },
  {
   "cell_type": "markdown",
   "metadata": {
    "slideshow": {
     "slide_type": "subslide"
    }
   },
   "source": [
    "### The callback function\n",
    "\n",
    "We use the same callback function for both sliders\n",
    "\n",
    "```python\n",
    "def update_curve(val):\n",
    "    a, d = sld[0].val, sld[1].val\n",
    "    line.set_xdata(cos(a*t)*exp(-d*t))\n",
    "    line.set_ydata(sin(t)*exp(-d*t))\n",
    "for s in sld:\n",
    "    s.on_changed(update_curve)\n",
    "```\n",
    "\n",
    "If we had many sliders in a list and a callback function depending on the index of a list element, we could use a closure to make a function with only **one** parameter.\n",
    "\n",
    "```python\n",
    "def outer(i):\n",
    "    def inner(val):\n",
    "        # code using i and val\n",
    "    return inner\n",
    "for i in range(len(sld)):\n",
    "    s.on_changed(outer(i))\n",
    "```"
   ]
  },
  {
   "cell_type": "markdown",
   "metadata": {
    "slideshow": {
     "slide_type": "subslide"
    }
   },
   "source": [
    "### Make the axes for the plot and the initial plot\n",
    "\n",
    "```python\n",
    "ax = axes([0.5, 0.1, 0.5, 0.8])\n",
    "ax.set_xlim([-1, 1])\n",
    "ax.set_ylim([-1, 1])\n",
    "ax.set_aspect(1.0)  # the aspect ratio should be 1 in this case\n",
    "\n",
    "a, d = sld[0].val, sld[1].val\n",
    "line, = ax.plot(cos(a*t)*exp(-d*t), sin(t)*exp(-d*t))\n",
    "```"
   ]
  },
  {
   "cell_type": "markdown",
   "metadata": {
    "slideshow": {
     "slide_type": "subslide"
    }
   },
   "source": [
    "## Example 3: The full program\n",
    "\n",
    "Assuming all imports have been made. The two functions:"
   ]
  },
  {
   "cell_type": "code",
   "execution_count": null,
   "metadata": {},
   "outputs": [],
   "source": [
    "def make_sliders(labels, valmaxs):\n",
    "    sliders = []\n",
    "    for i in range(2):\n",
    "        sld_ax = axes([0.05, 0.4+0.1*i, 0.28, 0.03])\n",
    "        sld = Slider(sld_ax, labels[i], 0, valmaxs[i])\n",
    "        sliders.append(sld)\n",
    "    return sliders\n",
    "\n",
    "\n",
    "def update_curve(val):\n",
    "    a, d = sld[0].val, sld[1].val\n",
    "    line.set_xdata(cos(a*t)*exp(-d*t))\n",
    "    line.set_ydata(sin(t)*exp(-d*t))"
   ]
  },
  {
   "cell_type": "code",
   "execution_count": null,
   "metadata": {
    "slideshow": {
     "slide_type": "subslide"
    }
   },
   "outputs": [],
   "source": [
    "fig = figure(figsize=(8, 3))\n",
    "sld = make_sliders(['a', 'd'], [2, 0.1])\n",
    "for s in sld: s.on_changed(update_curve)\n",
    "ax = axes([0.48, 0.1, 0.5, 0.8])\n",
    "ax.set_xlim([-1, 1])\n",
    "ax.set_ylim([-1, 1])\n",
    "ax.set_aspect(1.0)\n",
    "t = linspace(0, 14*pi, 500)\n",
    "a, d = sld[0].val, sld[1].val\n",
    "line, = ax.plot(cos(a*t)*exp(-d*t), sin(t)*exp(-d*t))"
   ]
  },
  {
   "cell_type": "markdown",
   "metadata": {
    "slideshow": {
     "slide_type": "slide"
    }
   },
   "source": [
    "## Events\n",
    "\n",
    "Matplotlib has an event manager that can handle mouse events (and some other events).\n",
    "\n",
    "To handle an event:\n",
    "\n",
    "1. Write a callback function\n",
    "2. Connect the callback function to the event manager.\n",
    "\n",
    "If your callback function updates a plot, you must use\n",
    "\n",
    "```python\n",
    "fig.canvas.draw_idle()  # redraws the canvas\n",
    "```"
   ]
  },
  {
   "cell_type": "markdown",
   "metadata": {
    "slideshow": {
     "slide_type": "subslide"
    }
   },
   "source": [
    "## The callback function\n",
    "\n",
    "Assuming there is a figure object `fig`:\n",
    "\n",
    "```python\n",
    "def my_callback(event):\n",
    "    # code\n",
    "    \n",
    "cid = fig.canvas.mpl_connect('button_press_event', my_callback)\n",
    "``` \n",
    "\n",
    "`cid` stands for **connection id**. If you want to disconnect your callback use:\n",
    "\n",
    "```python\n",
    "fig.canvas.mpl_disconnect(cid)\n",
    "```\n",
    "\n",
    "You could alse use other mouse events: `'button_released_event'`, `'motion_notify_event'`, `'scroll_event'`."
   ]
  },
  {
   "cell_type": "markdown",
   "metadata": {
    "slideshow": {
     "slide_type": "subslide"
    }
   },
   "source": [
    "## The callback function (cont)\n",
    "\n",
    "```python\n",
    "def my_callback(event):\n",
    "    # code\n",
    "    \n",
    "cid = fig.canvas.mpl_connect('button_press_event', my_callback)\n",
    "```\n",
    "The parameter `event` has attributes that you can use in your callback function.\n",
    "\n",
    "* `event.xdata` &nbsp;&nbsp;&nbsp;&nbsp;&nbsp; the $x$-coordinate of the mouse in data coordinates\n",
    "* `event.ydata` &nbsp;&nbsp;&nbsp;&nbsp;&nbsp; the $y$-coordinate of the mouse in data coordinates\n",
    "* `event.inaxes` &nbsp;&nbsp;&nbsp; the axes object where the event occurred\n",
    "* `event.button` &nbsp;&nbsp;&nbsp; 1 = left click, 2 = middle click, 3 = right click"
   ]
  },
  {
   "cell_type": "markdown",
   "metadata": {
    "slideshow": {
     "slide_type": "subslide"
    }
   },
   "source": [
    "## A simple example\n",
    "\n",
    "This code works in Spyder (but not in a notebook):"
   ]
  },
  {
   "cell_type": "code",
   "execution_count": null,
   "metadata": {},
   "outputs": [],
   "source": [
    "fig, ax = subplots()\n",
    "\n",
    "def my_callback(event):\n",
    "    if event.inaxes == ax:\n",
    "        x = event.xdata\n",
    "        y = event.ydata\n",
    "        print(f\"x={x:0.2f}, y={y:0.2f}\")\n",
    "\n",
    "cid = fig.canvas.mpl_connect('button_press_event', my_callback)"
   ]
  },
  {
   "cell_type": "markdown",
   "metadata": {
    "slideshow": {
     "slide_type": "slide"
    }
   },
   "source": [
    "## Example 4 - Click to make points and a spline\n",
    "\n",
    "As long as the user left clicks in the plotting area, a new point will be made.\n",
    "\n",
    "The points will be in a line plot that is **an empty line plot** when the program starts.\n",
    "\n",
    "When all points have been made, a **spline** will be created from the points.\n",
    "\n",
    "![spline](http://cmc.education/slides/notebookImages/spline.png)\n",
    "<span style = \"font-size: 80%\">(Image of spline from Wikipedia: https://en.wikipedia.org/wiki/Flat_spline) </span>"
   ]
  },
  {
   "cell_type": "markdown",
   "metadata": {
    "slideshow": {
     "slide_type": "subslide"
    }
   },
   "source": [
    "### Make two empty line plots and lists for storing coordinates\n",
    "\n",
    "```python\n",
    "fig, ax = subplots()\n",
    "\n",
    "points, = ax.plot([], [], 'or')  # line plot of red points\n",
    "lines, = ax.plot([], [], '-b')   # line plot for a blue spline\n",
    "xlist, ylist = [], []            # lists for storing coordinates\n",
    "```"
   ]
  },
  {
   "cell_type": "markdown",
   "metadata": {
    "slideshow": {
     "slide_type": "subslide"
    }
   },
   "source": [
    "### Make a callback function using global variables\n",
    "\n",
    "```python\n",
    "def onclick(event):\n",
    "    if event.inaxes == ax:\n",
    "        if event.button == 1:\n",
    "            xlist.append(event.xdata)\n",
    "            ylist.append(event.ydata)\n",
    "            points.set_xdata(xlist)\n",
    "            points.set_ydata(ylist)\n",
    "        else:\n",
    "            fig.canvas.mpl_disconnect(cid)\n",
    "        fig.canvas.draw_idle()\n",
    "\n",
    "cid = fig.canvas.mpl_connect('button_press_event', onclick)\n",
    "```\n",
    "\n",
    "To avoid having to use global variables, make a class."
   ]
  },
  {
   "cell_type": "markdown",
   "metadata": {
    "slideshow": {
     "slide_type": "subslide"
    }
   },
   "source": [
    "### Example 4: Click to make points"
   ]
  },
  {
   "cell_type": "code",
   "execution_count": null,
   "metadata": {},
   "outputs": [],
   "source": [
    "fig, ax = subplots(figsize=(8, 2))\n",
    "points, = ax.plot([], [], 'or')  # line plot of red points\n",
    "lines, = ax.plot([], [], '-b')   # line plot for the blue spline\n",
    "xlist, ylist = [], []            # lists for storing coordinates\n",
    "def onclick(event):\n",
    "    if event.inaxes == ax:\n",
    "        if event.button == 1:\n",
    "            xlist.append(event.xdata)\n",
    "            ylist.append(event.ydata)\n",
    "            points.set_xdata(xlist)\n",
    "            points.set_ydata(ylist)\n",
    "        else:\n",
    "            fig.canvas.mpl_disconnect(cid)\n",
    "        fig.canvas.draw_idle()\n",
    "cid = fig.canvas.mpl_connect('button_press_event', onclick)"
   ]
  },
  {
   "cell_type": "markdown",
   "metadata": {
    "slideshow": {
     "slide_type": "subslide"
    }
   },
   "source": [
    "### Making a spline\n",
    "\n",
    "The scipy package `interpolate` has several functions and classes for making splines."
   ]
  },
  {
   "cell_type": "code",
   "execution_count": null,
   "metadata": {},
   "outputs": [],
   "source": [
    "from scipy.interpolate import splprep, splev"
   ]
  },
  {
   "cell_type": "markdown",
   "metadata": {},
   "source": [
    "To make a B-spline (basic spline) as a parametric curve:\n",
    "- get a representation of the spline using `splprep`\n",
    "- use the representation of the spline to evaluate the spline using `splev`\n",
    "\n",
    "This procedure resembles the procedure to fit a polynomial to data: use numpy `polyfit` to get coefficients, use `polyval` with the coefficients to make the polynomial."
   ]
  },
  {
   "cell_type": "markdown",
   "metadata": {
    "slideshow": {
     "slide_type": "subslide"
    }
   },
   "source": [
    "### Making a spline (cont)\n",
    "\n",
    "#### Using `splprep` \n",
    "\n",
    "```python\n",
    "tck, u = interpolate.splprep([x, y], s=0)\n",
    "```\n",
    "\n",
    "where\n",
    "\n",
    "- `tck` is a tuple containing the vector of knots, the B-spline coefficients, and the degree of the spline.\n",
    "- `u` is an array of parameter values (for the parametric curve).\n",
    "\n",
    "If the keyword argument `s=0`(s stand for *smoothness*) is given, the spline will go through the points. It is possible to make a closed curve by providing the keyword argument `per=1`. In that case, the first list element should be the same as the last list element for the lists `x` and `y` (use `append`).\n",
    "\n",
    "#### Using `splev`  \n",
    "```python\n",
    "xvalues, yvalues = splev(linspace(0, 1, 100), tck)\n",
    "```\n",
    "`xvalues` and `yvalues` can be used for making a plot. The first argument is an array of parameter values. If `u` (from `splprep`) is used as first argument, line segments will be drawn between the points. "
   ]
  },
  {
   "cell_type": "markdown",
   "metadata": {
    "slideshow": {
     "slide_type": "subslide"
    }
   },
   "source": [
    "### Example 4: The full program"
   ]
  },
  {
   "cell_type": "code",
   "execution_count": null,
   "metadata": {},
   "outputs": [],
   "source": [
    "fig, ax = subplots(figsize=(8, 2))\n",
    "points, = ax.plot([], [], 'or')\n",
    "lines, = ax.plot([], [], '-b')\n",
    "xlist, ylist = [], []\n",
    "def onclick(event):\n",
    "    if event.inaxes == ax:\n",
    "        if event.button == 1:\n",
    "            xlist.append(event.xdata)\n",
    "            ylist.append(event.ydata)\n",
    "            points.set_xdata(xlist)\n",
    "            points.set_ydata(ylist)\n",
    "        else:\n",
    "            tck, u = splprep([xlist, ylist], s=0)\n",
    "            xi, yi = splev(linspace(0, 1, 100), tck)\n",
    "            lines.set_xdata(xi)\n",
    "            lines.set_ydata(yi)\n",
    "            fig.canvas.mpl_disconnect(cid)\n",
    "        fig.canvas.draw_idle()\n",
    "cid = fig.canvas.mpl_connect('button_press_event', onclick)"
   ]
  },
  {
   "cell_type": "markdown",
   "metadata": {
    "slideshow": {
     "slide_type": "slide"
    }
   },
   "source": [
    "## Summary - Widgets\n",
    "\n",
    "```python\n",
    "from matplotlib.widgets import Slider, Button\n",
    "\n",
    "sld_ax = axes([left1, bottom1, width1, height1])\n",
    "btn_ax = axes([left2, bottom2, width2, height2])\n",
    "ax = axes([left3, bottom3, width3, height3])  # for the plot\n",
    "\n",
    "# code to make plot\n",
    "\n",
    "sld = Slider(sld_ax, 'label text', valmin, valmax)\n",
    "btn = Button(btn_ax, 'button text')\n",
    "\n",
    "lines, = ax.plot(xvalues, yvalues)  # get a reference to the line plot\n",
    "\n",
    "# define sld_callback and btn_callback\n",
    "\n",
    "sld.on_changed(sld_callback)  # slider method using sld_callback(val)\n",
    "sld.val                       # slider data attribute\n",
    "\n",
    "btn.on_clicked(btn_callback)  # button method using btn_callback(event)\n",
    "``` "
   ]
  },
  {
   "cell_type": "markdown",
   "metadata": {
    "slideshow": {
     "slide_type": "slide"
    }
   },
   "source": [
    "## Summary - Events\n",
    "\n",
    "```python\n",
    "# you may need an empty line plot\n",
    "lines, = ax.plot([], [])  # can be formatted\n",
    "\n",
    "def my_callback(event):\n",
    "    # you can use:\n",
    "    # event.inaxes\n",
    "    # event.button\n",
    "    # event.xdata , event.ydata\n",
    "    fig.canvas.draw_idle()\n",
    "    \n",
    "cid = fig.canvas.mpl_connect('button_press_event', my_callback)\n",
    "\n",
    "# to disconnect, use\n",
    "fig.canvas.mpl_disconnect(cid)\n",
    "```"
   ]
  }
 ],
 "metadata": {
  "celltoolbar": "Slideshow",
  "kernelspec": {
   "display_name": "Python 3",
   "language": "python",
   "name": "python3"
  },
  "language_info": {
   "codemirror_mode": {
    "name": "ipython",
    "version": 3
   },
   "file_extension": ".py",
   "mimetype": "text/x-python",
   "name": "python",
   "nbconvert_exporter": "python",
   "pygments_lexer": "ipython3",
   "version": "3.8.3"
  },
  "rise": {
   "autolaunch": true,
   "footer": "",
   "start_slideshow_at": "beginning",
   "theme": "simple",
   "transition": "slide"
  }
 },
 "nbformat": 4,
 "nbformat_minor": 2
}
