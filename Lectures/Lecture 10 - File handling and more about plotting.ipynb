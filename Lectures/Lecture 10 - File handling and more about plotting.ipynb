{
 "cells": [
  {
   "cell_type": "markdown",
   "metadata": {
    "slideshow": {
     "slide_type": "slide"
    }
   },
   "source": [
    "# Computational Programming with Python\n",
    "### Lecture 10: File handling and more about plotting\n",
    "\n",
    "\n",
    "### Center for Mathematical Sciences, Lund University\n",
    "Lecturer: Claus Führer, Malin Christersson, Robert Klöfkorn\n"
   ]
  },
  {
   "cell_type": "markdown",
   "metadata": {
    "slideshow": {
     "slide_type": "slide"
    }
   },
   "source": [
    "# This lecture\n",
    "\n",
    "- `split` and `join`\n",
    "- File handling\n",
    "- More about plotting\n"
   ]
  },
  {
   "cell_type": "markdown",
   "metadata": {
    "slideshow": {
     "slide_type": "slide"
    }
   },
   "source": [
    "# `split` and `join`\n",
    "\n",
    "The methods `split` and `join`can be used on instances of `str`.\n",
    "\n",
    "```python\n",
    "separation.join(some_list)    # returns a string\n",
    "\n",
    "some_string.split(separation) # returns a list\n",
    "```\n",
    "\n",
    "In both cases, `separation` is a string."
   ]
  },
  {
   "cell_type": "markdown",
   "metadata": {
    "slideshow": {
     "slide_type": "subslide"
    }
   },
   "source": [
    "## Examples using `join`\n",
    "\n",
    "Using different separators:"
   ]
  },
  {
   "cell_type": "code",
   "execution_count": 1,
   "metadata": {},
   "outputs": [
    {
     "name": "stdout",
     "output_type": "stream",
     "text": [
      "StockholmParisLondon\n",
      "Stockholm\tParis\tLondon\n",
      "Stockholm\"Paris\"London\n"
     ]
    }
   ],
   "source": [
    "town_list = [\"Stockholm\", \"Paris\", \"London\"]\n",
    "towns1 = \"\".join(town_list)\n",
    "towns2 = \"\\t\".join(town_list)  # tab\n",
    "towns3 = '\"'.join(town_list) \n",
    "print(towns1)\n",
    "print(towns2)\n",
    "print(towns3)"
   ]
  },
  {
   "cell_type": "markdown",
   "metadata": {},
   "source": [
    "When the list elements are not strings, they must be cast to `str`."
   ]
  },
  {
   "cell_type": "code",
   "execution_count": 2,
   "metadata": {},
   "outputs": [
    {
     "name": "stdout",
     "output_type": "stream",
     "text": [
      "3 and 7.4 and 0.0001 and (3+7j)\n"
     ]
    }
   ],
   "source": [
    "nr_list = [3, 7.4, 1e-4, 3+7j]\n",
    "numbers = \" and \".join(str(nr) for nr in nr_list)\n",
    "print(numbers)"
   ]
  },
  {
   "cell_type": "markdown",
   "metadata": {
    "slideshow": {
     "slide_type": "subslide"
    }
   },
   "source": [
    "## Examples using `split`\n",
    "\n",
    "If no argument is given, blank is used as separator:"
   ]
  },
  {
   "cell_type": "code",
   "execution_count": 3,
   "metadata": {},
   "outputs": [
    {
     "name": "stdout",
     "output_type": "stream",
     "text": [
      "['Let', 'no', 'one', 'ignorant', 'of', 'geometry', 'enter!']\n",
      "['Let no one ignorant ', ' enter!']\n"
     ]
    }
   ],
   "source": [
    "msg =\"Let no one ignorant of geometry enter!\"\n",
    "L1 = msg.split()\n",
    "print(L1)\n",
    "\n",
    "L2 = msg.split(\"of geometry\")\n",
    "print(L2)"
   ]
  },
  {
   "cell_type": "code",
   "execution_count": 4,
   "metadata": {},
   "outputs": [
    {
     "name": "stdout",
     "output_type": "stream",
     "text": [
      "The file extension is js\n"
     ]
    }
   ],
   "source": [
    "filename = \"test.min.js\"\n",
    "L3 = filename.split(\".\")\n",
    "print(\"The file extension is\", L3[-1])"
   ]
  },
  {
   "cell_type": "markdown",
   "metadata": {
    "slideshow": {
     "slide_type": "subslide"
    }
   },
   "source": [
    "## Using `split` and `input`\n",
    "\n",
    "We could use `split` after letting the user enter a number of numbers:"
   ]
  },
  {
   "cell_type": "code",
   "execution_count": null,
   "metadata": {},
   "outputs": [],
   "source": [
    "answer = input(\"Enter numbers separated by comma: \")\n",
    "strings = answer.split(',')\n",
    "floats = [float(element) for element in strings]\n",
    "print(\"The sum is\", sum(floats)) \n"
   ]
  },
  {
   "cell_type": "markdown",
   "metadata": {
    "slideshow": {
     "slide_type": "slide"
    }
   },
   "source": [
    "# File handling\n",
    "\n",
    "## File I/O\n",
    "File I/O (input and output) is essential when\n",
    "- working with measured or scanned data\n",
    "- interacting with other programs\n",
    "- saving information for comparisons or other postprocessing needs\n",
    "- ..."
   ]
  },
  {
   "cell_type": "markdown",
   "metadata": {
    "slideshow": {
     "slide_type": "subslide"
    }
   },
   "source": [
    "## File objects\n",
    "\n",
    "A file is a Python object with associated methods:\n",
    "```python\n",
    "myfile = open('mydata.txt', 'w') #create a file for writing\n",
    "```\n",
    "If the file mydata.txt already exists (in the current working directory), it will be overwritten. If not, it will be created.\n",
    "\n",
    "To write some data to the file:\n",
    "```python\n",
    "myfile.write('some data')\n",
    "myfile.write('some other data')\n",
    "```\n",
    "\n",
    "When you're done, close the file:\n",
    "```python\n",
    "myfile.close()\n",
    "```"
   ]
  },
  {
   "cell_type": "markdown",
   "metadata": {
    "slideshow": {
     "slide_type": "subslide"
    }
   },
   "source": [
    "## Example &hyphen; Writing to a file"
   ]
  },
  {
   "cell_type": "code",
   "execution_count": null,
   "metadata": {},
   "outputs": [],
   "source": [
    "names = [\"Emma\", \"Hugo\", \"Erik\", \"Josefin\", \"Mia\", \"Lukas\", \"Tim\", \"Bo\"]\n",
    "\n",
    "myfile = open('names.txt', 'w')\n",
    "for name in names:\n",
    "    myfile.write(name)\n",
    "myfile.close()"
   ]
  },
  {
   "cell_type": "markdown",
   "metadata": {},
   "source": [
    "- Run the code and check out the file that has been creted.\n",
    "- Make a comment of the last row so `myfile` is never closed. Then check out names.txt.\n",
    "- Concatenate each name with a blank `' '` when writing to the file. Then check out names.txt.\n",
    "- Concatenate each name with a `'\\n'` (new line) when writing to the file. Then check out names.txt."
   ]
  },
  {
   "cell_type": "markdown",
   "metadata": {
    "slideshow": {
     "slide_type": "subslide"
    }
   },
   "source": [
    "## Reading from a file\n",
    "\n",
    "```python\n",
    "myfile = open('mydata.txt', 'r') #create a file for reading\n",
    "```\n",
    "The file mydata.txt must exist (in the current working directory).\n",
    "\n",
    "The whole file can be read and stored in a string by\n",
    "\n",
    "```python\n",
    "s = myfile.read()\n",
    "```\n",
    "\n",
    "You can also read one line at a time by\n",
    "\n",
    "```python\n",
    "myfile.readline()\n",
    "```\n",
    "\n",
    "You can read all lines and make a list by using:\n",
    "\n",
    "```python\n",
    "L = myfile.readlines()\n",
    "```\n",
    "\n",
    "or use it like:\n",
    "```python\n",
    "for line in myfile.readlines():\n",
    "    print(line)\n",
    "```"
   ]
  },
  {
   "cell_type": "markdown",
   "metadata": {
    "slideshow": {
     "slide_type": "subslide"
    }
   },
   "source": [
    "## Files as generators\n",
    "A file object is a **generator**. We will talk more about generators later.\n",
    "\n",
    "A generator is like a list, except the values need not exist until asked for.\n",
    "\n",
    "A main feature of generators is that they are disposable. When you read a line from a file, it is removed from the file object (not from the file itself). The following code will print three different things:\n",
    "\n",
    "```python\n",
    "print(myfile.readline()) # Line 1\n",
    "print(myfile.readline()) # Line 2\n",
    "print(myfile.readline()) # Line 3\n",
    "\n",
    "```\n"
   ]
  },
  {
   "cell_type": "markdown",
   "metadata": {
    "slideshow": {
     "slide_type": "subslide"
    }
   },
   "source": [
    "## File close method\n",
    "\n",
    "A file has to be closed before it can be reread.\n",
    "\n",
    "```python\n",
    "myfile.close() # closes the file object\n",
    "``` \n",
    "\n",
    "It is automatically closed when\n",
    "- the program ends\n",
    "- the enclosing program unit (e.g. function) is left\n",
    "\n",
    "Before a file closes, you won't see any changes in an external editor."
   ]
  },
  {
   "cell_type": "markdown",
   "metadata": {
    "slideshow": {
     "slide_type": "subslide"
    }
   },
   "source": [
    "## Example &hyphen; Reading from a file\n",
    "\n",
    "Assuming that the names in name.txt has been written as one name per row, we can make a list of names, and then \"shuffle\" them:"
   ]
  },
  {
   "cell_type": "code",
   "execution_count": null,
   "metadata": {},
   "outputs": [],
   "source": [
    "from random import shuffle\n",
    "\n",
    "myfile = open('names.txt', 'r')\n",
    "L = myfile.readlines()\n",
    "myfile.close()\n",
    "\n",
    "L = [element.strip() for element in L]\n",
    "\n",
    "shuffle(L)\n",
    "print(L)"
   ]
  },
  {
   "cell_type": "markdown",
   "metadata": {},
   "source": [
    "- The string method `strip()` removes leading and trailing blanks. See the result when not using `strip()`!\n",
    "- Change the code that writes names.txt so that the names are separated by a blank. How do you read it now? Then use `split` to make a list when reading the file."
   ]
  },
  {
   "cell_type": "markdown",
   "metadata": {
    "slideshow": {
     "slide_type": "subslide"
    }
   },
   "source": [
    "## What you could do - Random groups\n",
    "\n",
    "Define a function that takes a filename and a maximum group size as arguments. The function can read the names from the file and then print random groups using the maximum group size. \n",
    "\n",
    "```python\n",
    "def print_groups(filename, max_size):\n",
    "   ...          \n",
    "print_groups(\"names.txt\", 3)\n",
    "```\n",
    "The output could look like this:\n",
    "```\n",
    "There are 8 names.\n",
    "Maximum group size is 3\n",
    "Group 1\n",
    "    Lukas\n",
    "    Mia\n",
    "    Hugo\n",
    "Group 2\n",
    "    Bo\n",
    "    Erik\n",
    "    Josefin\n",
    "Group 3\n",
    "    Emma\n",
    "    Tim\n",
    "```"
   ]
  },
  {
   "cell_type": "markdown",
   "metadata": {
    "slideshow": {
     "slide_type": "subslide"
    }
   },
   "source": [
    "## Reading tabular data from a file\n",
    "\n",
    "When reading tabular data, you can use `readline()` or `readlines()`, and then use `split()` for each line.\n",
    "\n",
    "### Creating tabular data from a spreadsheet\n",
    "\n",
    "When using a spreadsheet (e.g. Excel), you can save the file as a CSV file. In a a CSV file, data on one row is separated by a comma or a semicolon.\n",
    "\n",
    "![csvFile](http://cmc.education/slides/notebookImages/csvFile.png)"
   ]
  },
  {
   "cell_type": "markdown",
   "metadata": {
    "slideshow": {
     "slide_type": "subslide"
    }
   },
   "source": [
    "## The `with` statement\n",
    "\n",
    "If you forget to close a file, problems can occur. Also, an error\n",
    "might prevent you from closing the file. Consider\n",
    "\n",
    "```python\n",
    "myfile = open(filename, 'w')\n",
    "myfile.write('some data')\n",
    "a = 5/0\n",
    "myfile.write('some other data')  \n",
    "myfile.close()\n",
    "```\n",
    "\n",
    "The `with` statement helps with this:\n",
    "```python\n",
    "with open(filename, 'w') as myfile:\n",
    "    myfile.write('some data')\n",
    "    a = 5/0\n",
    "    myfile.write('some other data') \n",
    "```\n",
    "\n",
    "With this construction, the file is always closed even if an exception occurs. It is a shorthand for a clever `try-except` block.\n"
   ]
  },
  {
   "cell_type": "markdown",
   "metadata": {
    "slideshow": {
     "slide_type": "subslide"
    }
   },
   "source": [
    "## File modes (read, write, etc.)\n",
    "\n",
    "```python\n",
    "file1 = open('file1.dat', 'r')  # read only\n",
    "file2 = open('file2.dat', 'r+') # read/write\n",
    "file3 = open('file3.dat', 'a')  # append\n",
    "file4 = open('file4.dat', 'r')  # (over-) write\n",
    "file5 = open('file5.dat', 'wb') # writing to binary file\n",
    "file6 = open('file5.dat', 'rb') # reading from binary file\n",
    "```\n",
    "\n",
    "The modes `'r'`, `'r+'`, `rb`, and `'a'` require that the file exists.\n",
    "\n",
    "#### File append example\n",
    "\n",
    "```python\n",
    "file3 = open('file3.dat', 'a')\n",
    "file3.write('something new\\n')  # note the '\\n'\n",
    "``` "
   ]
  },
  {
   "cell_type": "markdown",
   "metadata": {
    "slideshow": {
     "slide_type": "subslide"
    }
   },
   "source": [
    "## Saving numpy arrays\n",
    "\n",
    "The `read` and write `methods` convert data to strings.\n",
    "Complex data types (like arrays) cannot be written this way. Numpy provides its own methods for storing arrays."
   ]
  },
  {
   "cell_type": "code",
   "execution_count": null,
   "metadata": {},
   "outputs": [],
   "source": [
    "from numpy import *\n",
    "\n",
    "a = array([10, 20, 30])\n",
    "savetxt('outfile.txt', a) # numpy function for saving a to text file"
   ]
  },
  {
   "cell_type": "markdown",
   "metadata": {},
   "source": [
    "You can also just give the name of the file and store it as a binary file"
   ]
  },
  {
   "cell_type": "code",
   "execution_count": null,
   "metadata": {},
   "outputs": [],
   "source": [
    "a = array([10, 20, 30])\n",
    "save('outfile', a) # saves b in outfile.npy"
   ]
  },
  {
   "cell_type": "markdown",
   "metadata": {},
   "source": [
    "By using `numpy.savez`, one can save several arrays in one file."
   ]
  },
  {
   "cell_type": "markdown",
   "metadata": {
    "slideshow": {
     "slide_type": "subslide"
    }
   },
   "source": [
    "## Reading numpy arrays"
   ]
  },
  {
   "cell_type": "code",
   "execution_count": null,
   "metadata": {},
   "outputs": [],
   "source": [
    "a = loadtxt('outfile.txt')\n",
    "print(\"a =\", a)\n",
    "\n",
    "b = load('outfile.npy')\n",
    "print(\"b =\", b)"
   ]
  },
  {
   "cell_type": "markdown",
   "metadata": {},
   "source": [
    "There are several more options, see the documentation."
   ]
  },
  {
   "cell_type": "markdown",
   "metadata": {
    "slideshow": {
     "slide_type": "subslide"
    }
   },
   "source": [
    "## The module `pickle`\n",
    "\n",
    "We can use the module `pickle` to write to, and read from, binary files. You can pickle (almost) any Python object.\n",
    "\n",
    "#### Pickle `dump` example\n",
    "\n",
    "We open the file for writing, in binary mode, by using `'wb'`."
   ]
  },
  {
   "cell_type": "code",
   "execution_count": null,
   "metadata": {},
   "outputs": [],
   "source": [
    "import pickle\n",
    "arr = array([1, 2, 3])\n",
    "number = 367\n",
    "with open('mydata.dat', 'wb') as myfile:\n",
    "    pickle.dump(arr, myfile)\n",
    "    pickle.dump(number, myfile)"
   ]
  },
  {
   "cell_type": "markdown",
   "metadata": {
    "slideshow": {
     "slide_type": "subslide"
    }
   },
   "source": [
    "#### Pickle `load` example\n",
    "\n",
    "We open the file for reading, in binary mode, by using `'rb'`."
   ]
  },
  {
   "cell_type": "code",
   "execution_count": null,
   "metadata": {},
   "outputs": [],
   "source": [
    "with open('mydata.dat', 'rb') as myfile:\n",
    "    arr = pickle.load(myfile)\n",
    "    number = pickle.load(myfile)\n",
    "print(f\"arr = {arr}, number = {number}\")"
   ]
  },
  {
   "cell_type": "markdown",
   "metadata": {},
   "source": [
    "You must read (`load`) the data in the same order as you wrote (`dump`) it."
   ]
  },
  {
   "cell_type": "markdown",
   "metadata": {
    "slideshow": {
     "slide_type": "slide"
    }
   },
   "source": [
    "# More about plotting\n",
    "\n",
    "## Backends using Jupyter Notebook\n",
    "\n",
    "* `%matplotlib inline`   will give you static images\n",
    "* `%matplotlib notebook` will give you interactive plots\n",
    "\n",
    "Run **one** of the commands **once** during a session."
   ]
  },
  {
   "cell_type": "code",
   "execution_count": null,
   "metadata": {},
   "outputs": [],
   "source": [
    "from matplotlib.pyplot import *\n",
    "%matplotlib inline"
   ]
  },
  {
   "cell_type": "markdown",
   "metadata": {
    "slideshow": {
     "slide_type": "subslide"
    }
   },
   "source": [
    "## Backends using Spyder\n",
    "\n",
    "Choose <code>Inline</code> (static) or <code>Automatic</code> (interactive). Then restart the kernel.\n",
    "\n",
    "![inlineOrAutomatic](http://cmc.education/slides/notebookImages/inlineOrAutomatic.png)"
   ]
  },
  {
   "cell_type": "markdown",
   "metadata": {
    "slideshow": {
     "slide_type": "subslide"
    }
   },
   "source": [
    "## GUI and event driven programming\n",
    "\n",
    "The general-purpose package `Tkinter` can be used.\n",
    "\n",
    "We are instead going to use `matplotlib.widgets` (next lecture).\n",
    "\n",
    "For interactive programs choose:\n",
    "\n",
    "* `Automatic` in Spyder\n",
    "* `%matplotlib notebook` in Jupyter Notebook"
   ]
  },
  {
   "cell_type": "markdown",
   "metadata": {
    "slideshow": {
     "slide_type": "subslide"
    }
   },
   "source": [
    "## State machine or object-oriented programming (OOP)\n",
    "\n",
    "`matplotlib.pyplot` can be used with command-like functions.\n",
    "\n",
    "* Various states are preserved.\n",
    "* A state holds information about <span class=alert>current figure</span> and <span class=alert>current axes</span>.\n",
    "* Under the hood, OOP is used.\n",
    "\n",
    "`matplotlib.pyplot` can be also be used for OOP.\n",
    "* Instead of functions, methods of objects are used.\n",
    "\n",
    "For event driven programs, OOP **should** be used."
   ]
  },
  {
   "cell_type": "markdown",
   "metadata": {
    "slideshow": {
     "slide_type": "subslide"
    }
   },
   "source": [
    "## State machine - two figures\n",
    "The function calls `plot`, can be seen as commands. The same command results in different outcomes depending on the state."
   ]
  },
  {
   "cell_type": "code",
   "execution_count": null,
   "metadata": {},
   "outputs": [],
   "source": [
    "x1 = linspace(-2*pi, 2*pi, 100)\n",
    "x2 = linspace(0, 2, 10)\n",
    "\n",
    "plot(x1, sin(x1), 'r') # a figure is created\n",
    "plot(x1, cos(x1), 'b--')\n",
    "title('My first figure')\n",
    " \n",
    "figure() # a new figure is created \n",
    "\n",
    "plot(x2, sqrt(x2), 'go')\n",
    "plot(x2, x2**2, 'y^')\n",
    "title('My second figure')"
   ]
  },
  {
   "cell_type": "markdown",
   "metadata": {
    "slideshow": {
     "slide_type": "subslide"
    }
   },
   "source": [
    "## State machine - two subplots in one figure\n",
    "The plots are made in a subplot of the <span class=alert>current axes</span> in the <span class=alert>current figure</span>."
   ]
  },
  {
   "cell_type": "code",
   "execution_count": null,
   "metadata": {},
   "outputs": [],
   "source": [
    "x1 = linspace(-2*pi, 2*pi, 100)\n",
    "x2 = linspace(0, 2, 10)\n",
    "\n",
    "subplot(211) # the first subplot using a 2 rows and 1 column grid\n",
    "plot(x1, sin(x1), 'r')\n",
    "plot(x1, cos(x1), 'b--')\n",
    "title('My first subplot')\n",
    " \n",
    "subplot(212) # the second subplot using a 2 rows and 1 column grid\n",
    "plot(x2, sqrt(x2), 'go')\n",
    "plot(x2, x2**2, 'y^') \n",
    "title('My second subplot') "
   ]
  },
  {
   "cell_type": "markdown",
   "metadata": {
    "slideshow": {
     "slide_type": "subslide"
    }
   },
   "source": [
    "## matplotlib as an object-oriented interface\n",
    "\n",
    "For event driven programs you will need references to objects.\n",
    "\n",
    "![figAndAx](http://cmc.education/slides/notebookImages/figAndAx.png)"
   ]
  },
  {
   "cell_type": "markdown",
   "metadata": {
    "slideshow": {
     "slide_type": "subslide"
    }
   },
   "source": [
    "## OOP - getting references to objects\n",
    "\n",
    "#### Use return values\n",
    "\n",
    "```python\n",
    "fig = figure()\n",
    "ax = subplot(111)\n",
    "```\n",
    "\n",
    "#### Get current figure/axes\n",
    "\n",
    "```python\n",
    "fig = gcf()\n",
    "ax = gca()\n",
    "```\n"
   ]
  },
  {
   "cell_type": "markdown",
   "metadata": {
    "slideshow": {
     "slide_type": "subslide"
    }
   },
   "source": [
    "## OOP - getting references to objects (cont)\n",
    "\n",
    "#### Use `subplots`\n",
    "\n",
    "Only one axes object:\n",
    "\n",
    "```python\n",
    "fig, ax = subplots()\n",
    "``` \n",
    "\n",
    "An array of axes objects:\n",
    "```python\n",
    "fig, (ax1, ax2) = subplots(nrows = 1, ncols = 2)\n",
    "``` \n",
    "\n",
    "Another array of axes objects:\n",
    "An array of axes objects:\n",
    "```python\n",
    "fig, ((ax1, ax2), (ax3, ax4)) = subplots(nrows = 2, ncols = 2)\n",
    "``` "
   ]
  },
  {
   "cell_type": "markdown",
   "metadata": {
    "slideshow": {
     "slide_type": "subslide"
    }
   },
   "source": [
    "## Comparison of basic plotting\n",
    "\n",
    "### State machine - using functions"
   ]
  },
  {
   "cell_type": "code",
   "execution_count": null,
   "metadata": {},
   "outputs": [],
   "source": [
    "x = linspace(-2*pi, 2*pi, 100)\n",
    "\n",
    "plot(x, sin(x/2), label = 'sine')\n",
    "plot(x, cos(x/2), label = '$\\cos(x)$')\n",
    "legend(loc = 'lower center', fontsize = 'small')"
   ]
  },
  {
   "cell_type": "markdown",
   "metadata": {},
   "source": [
    "### OOP - using methods"
   ]
  },
  {
   "cell_type": "code",
   "execution_count": null,
   "metadata": {},
   "outputs": [],
   "source": [
    "x = linspace(-2*pi, 2*pi, 100)\n",
    "\n",
    "fig, ax = subplots()\n",
    "ax.plot(x, sin(x/2), label = 'sine')\n",
    "ax.plot(x, cos(x/2), label = '$\\cos(x)$')\n",
    "ax.legend(loc = 'lower center', fontsize = 'small')"
   ]
  },
  {
   "cell_type": "markdown",
   "metadata": {
    "slideshow": {
     "slide_type": "subslide"
    }
   },
   "source": [
    "## OOP - the Figure class\n",
    "\n",
    "Top level container for all plot elements.\n",
    "\n",
    "Given \n",
    "\n",
    "```python\n",
    "fig, ax = subplots()\n",
    "# plotting code\n",
    "```\n",
    "\n",
    "the figure can be saved to a file:\n",
    "\n",
    "```python\n",
    "fig.figsave(\"my_figure.png\")\n",
    "# fig.canvas.get_supported_filetypes()\n",
    "``` "
   ]
  },
  {
   "cell_type": "markdown",
   "metadata": {
    "slideshow": {
     "slide_type": "subslide"
    }
   },
   "source": [
    "## OOP - the Axes class\n",
    "\n",
    "<span style = \"font-size: 80%\">(Image from https://matplotlib.org/gallery/showcase/anatomy.html) </span>\n",
    "  \n",
    "<center><img src=\"https://matplotlib.org/_images/sphx_glr_anatomy_001.png\" title = \"anatomy\" style = \"width: 60%\"></center>"
   ]
  },
  {
   "cell_type": "markdown",
   "metadata": {
    "slideshow": {
     "slide_type": "subslide"
    }
   },
   "source": [
    "## Axes objects &hyphen; Coordinate axes\n",
    "\n",
    "We can set the limits and add labels."
   ]
  },
  {
   "cell_type": "code",
   "execution_count": null,
   "metadata": {},
   "outputs": [],
   "source": [
    "fig, ax = subplots(figsize=(8, 3))  # setting figsize in inches\n",
    "x =linspace(-2*pi, 2*pi, 100)\n",
    "ax.plot(x, sin(x))\n",
    "\n",
    "ax.set_xlim(-3*pi, 3*pi)\n",
    "ax.set_ylim(-1.5, 1.5)\n",
    "ax.set_xlabel('x')\n",
    "ax.set_ylabel('sin(x)')"
   ]
  },
  {
   "cell_type": "markdown",
   "metadata": {
    "slideshow": {
     "slide_type": "subslide"
    }
   },
   "source": [
    "## Axes objects &hyphen; Ticks and ticklabels"
   ]
  },
  {
   "cell_type": "code",
   "execution_count": null,
   "metadata": {},
   "outputs": [],
   "source": [
    "fig, ax = subplots(figsize=(8, 3))\n",
    "x =linspace(-2*pi, 2*pi, 100)\n",
    "ax.plot(x, sin(x))\n",
    "\n",
    "ax.set_xticks([-pi, 0, pi])\n",
    "ax.set_xticklabels(['$-\\pi$', '$0$', '$\\pi$'], fontsize = 16)  # using LaTeX\n",
    "\n",
    "# set minor ticks\n",
    "ax.set_xticks([-pi*1.5, -pi*0.5, pi*0.5, pi*1.5], minor = True)\n",
    "\n",
    "# use empty array to hide ticks\n",
    "ax.set_yticks([])"
   ]
  },
  {
   "cell_type": "markdown",
   "metadata": {
    "slideshow": {
     "slide_type": "subslide"
    }
   },
   "source": [
    "## Axes objects &hyphen; Spines\n",
    "\n",
    "By default four **spines** are rendered at the boundary of a plot. We can change the position of spines, and hide them."
   ]
  },
  {
   "cell_type": "code",
   "execution_count": null,
   "metadata": {},
   "outputs": [],
   "source": [
    "fig, ax = subplots(figsize=(8, 3))\n",
    "x =linspace(-2*pi, 2*pi, 100)\n",
    "ax.plot(x, sin(x))\n",
    "\n",
    "ax.spines['left'].set_position('zero')\n",
    "ax.spines['right'].set_color('none')      # hide\n",
    "ax.spines['bottom'].set_position('zero')\n",
    "ax.spines['top'].set_color('none')        # hide"
   ]
  },
  {
   "cell_type": "markdown",
   "metadata": {
    "slideshow": {
     "slide_type": "subslide"
    }
   },
   "source": [
    "## Line plots\n",
    "\n",
    "The line plots are stored in the list `ax.lines`."
   ]
  },
  {
   "cell_type": "code",
   "execution_count": null,
   "metadata": {},
   "outputs": [],
   "source": [
    "fig, ax = subplots(figsize = (8, 3))\n",
    "x =linspace(-2*pi, 2*pi, 100)\n",
    "\n",
    "ax.plot(x, sin(x), 'r--', label = \"sine\")\n",
    "ax.plot(x, cos(x), 'b', label = \"cosine\")\n",
    "\n",
    "print(\"The number of line plots is\", len(ax.lines))\n",
    "print(\"Each line plot is of the type\", type(ax.lines[0]))"
   ]
  },
  {
   "cell_type": "markdown",
   "metadata": {
    "slideshow": {
     "slide_type": "subslide"
    }
   },
   "source": [
    "## Line plots (cont)\n",
    "\n",
    "We can use getter methods."
   ]
  },
  {
   "cell_type": "code",
   "execution_count": null,
   "metadata": {},
   "outputs": [],
   "source": [
    "print(\"The linestyle of the first line plot is\", ax.lines[0].get_linestyle())\n",
    "print(\"The color of the last line plot is\", ax.lines[-1].get_color())"
   ]
  },
  {
   "cell_type": "markdown",
   "metadata": {},
   "source": [
    "We can use setter methods."
   ]
  },
  {
   "cell_type": "code",
   "execution_count": null,
   "metadata": {},
   "outputs": [],
   "source": [
    "ax.lines[0].set_linewidth(5)"
   ]
  },
  {
   "cell_type": "markdown",
   "metadata": {},
   "source": [
    "We can get and set the `xdata` and `ydata` of a line plot."
   ]
  },
  {
   "cell_type": "code",
   "execution_count": null,
   "metadata": {},
   "outputs": [],
   "source": [
    "print(\"The first y-value of the first plot is \", ax.lines[0].get_ydata()[0])"
   ]
  },
  {
   "cell_type": "markdown",
   "metadata": {
    "slideshow": {
     "slide_type": "subslide"
    }
   },
   "source": [
    "## Line plots - getting a reference to a line plot\n",
    "\n",
    "Rather than referencing a line plot as `ax.lines[0]`, we can make variables.\n",
    "\n",
    "The plot method returns a list of line plots. In many cases that list has only one element.\n",
    "\n",
    "```python\n",
    "#unpacking a list of one element\n",
    "li_sin, = ax.plot(x, sin(x))\n",
    "li_cos, = ax.plot(x, cos(x))\n",
    "``` \n",
    "\n",
    "We can make several line plots at once:\n",
    "\n",
    "```python\n",
    "#unpacking a list of two elements\n",
    "li_sin, li_cos = ax.plot(x, sin(x), x, cos(x))\n",
    "``` "
   ]
  },
  {
   "cell_type": "markdown",
   "metadata": {
    "slideshow": {
     "slide_type": "subslide"
    }
   },
   "source": [
    "## Some setter methods for line plots"
   ]
  },
  {
   "cell_type": "code",
   "execution_count": null,
   "metadata": {},
   "outputs": [],
   "source": [
    "x = linspace(-2*pi, 2*pi, 100)\n",
    "fig, ax = subplots(figsize=(8, 4))\n",
    "li_sin, li_cos = ax.plot(x, sin(x), x, cos(x))\n",
    "\n",
    "li_sin.set_label('sin(x)')\n",
    "li_cos.set_label('cos(x)')\n",
    "li_sin.set_linewidth(5)\n",
    "li_cos.set_color('red')\n",
    "li_cos.set_linestyle('--')\n",
    "ax.legend()   # we use legend as an axis method, not as a command"
   ]
  },
  {
   "cell_type": "markdown",
   "metadata": {
    "slideshow": {
     "slide_type": "subslide"
    }
   },
   "source": [
    "## Annotation\n",
    "\n",
    "The arrow is given properties using a dictionary."
   ]
  },
  {
   "cell_type": "code",
   "execution_count": null,
   "metadata": {},
   "outputs": [],
   "source": [
    "fig, ax = subplots(figsize = (8, 3))\n",
    "x =linspace(-2*pi, 2*pi, 100)\n",
    "ax.plot(x, sin(x))\n",
    "\n",
    "# we need space above the curve\n",
    "ax.set_ylim([-1.2, 2])\n",
    "\n",
    "ax.annotate(\"local max\", xy = (pi/2, 1), xytext = (pi, 1.8),\n",
    "            arrowprops = {'facecolor': 'green', 'shrink': 0.1, 'width': 2})"
   ]
  },
  {
   "cell_type": "markdown",
   "metadata": {
    "slideshow": {
     "slide_type": "subslide"
    }
   },
   "source": [
    "## Fill the area between curves"
   ]
  },
  {
   "cell_type": "code",
   "execution_count": null,
   "metadata": {},
   "outputs": [],
   "source": [
    "fig, (ax1, ax2) = subplots(nrows = 1, ncols = 2, figsize = (15, 3))\n",
    "x =linspace(-2*pi, 2*pi, 100)\n",
    "y1 = sin(x)\n",
    "y2 = cos(x)\n",
    "\n",
    "ax1.plot(x, y1, 'r')\n",
    "ax1.plot(x, y2, 'b')\n",
    "ax1.fill_between(x, y1, y2, color = 'green', alpha = 0.3)\n",
    "\n",
    "# specify fill condition using where\n",
    "ax2.plot(x, y1, 'r')\n",
    "ax2.plot(x, y2, 'b')\n",
    "ax2.fill_between(x, y1, y2, where = y1 > y2, color = 'red', alpha = 0.3)"
   ]
  }
 ],
 "metadata": {
  "celltoolbar": "Slideshow",
  "kernelspec": {
   "display_name": "Python 3",
   "language": "python",
   "name": "python3"
  },
  "language_info": {
   "codemirror_mode": {
    "name": "ipython",
    "version": 3
   },
   "file_extension": ".py",
   "mimetype": "text/x-python",
   "name": "python",
   "nbconvert_exporter": "python",
   "pygments_lexer": "ipython3",
   "version": "3.7.4"
  },
  "rise": {
   "autolaunch": true,
   "footer": " ",
   "theme": "simple",
   "transition": "slide"
  }
 },
 "nbformat": 4,
 "nbformat_minor": 2
}
