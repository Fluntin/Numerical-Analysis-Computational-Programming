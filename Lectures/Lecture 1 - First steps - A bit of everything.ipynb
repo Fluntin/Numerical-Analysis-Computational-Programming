{
 "cells": [
  {
   "cell_type": "markdown",
   "metadata": {
    "slideshow": {
     "slide_type": "slide"
    }
   },
   "source": [
    "# Computational Programming with Python\n",
    "### Lecture 1: First steps - A bit of everything\n",
    "\n",
    "### Center for Mathematical Sciences, Lund University\n",
    "Lecturer: Claus Führer, Malin Christersson, Robert Klöfkorn\n"
   ]
  },
  {
   "cell_type": "markdown",
   "metadata": {
    "slideshow": {
     "slide_type": "slide"
    }
   },
   "source": [
    "## This lecture\n",
    "\n",
    "- About this course\n",
    "- About Python\n",
    "- Operators, data types, variables, input and output\n",
    "- Import modules\n",
    "- Lists\n",
    "- For loops\n",
    "- Elementary plotting"
   ]
  },
  {
   "cell_type": "markdown",
   "metadata": {
    "slideshow": {
     "slide_type": "slide"
    }
   },
   "source": [
    "## About Python\n",
    "\n",
    "### Why Python?\n",
    "\n",
    "Python is...\n",
    "\n",
    "- Free and open source\n",
    "\n",
    "- It is a *scripting language* &hyphen; an interpreted  (not compiled) language\n",
    "\n",
    "- It has plenty of libraries among others the scientific ones: linear algebra; visualisation tools; plotting; image analysis; differential equations solving; symbolic computations; statistics; etc.\n",
    "\n",
    "- It has possible usages: Scientific computing, scripting, web sites, text parsing, data mining, ..."
   ]
  },
  {
   "cell_type": "markdown",
   "metadata": {
    "slideshow": {
     "slide_type": "subslide"
    }
   },
   "source": [
    "### Premisses\n",
    "\n",
    "- We work with Python version &ge; 3.6.\n",
    "\n",
    "- We use an IPython shell\n",
    "\n",
    "- We use the work environment Spyder\n",
    "\n",
    "- We work (later) with the IPython notebook\n",
    "\n",
    "- We start our programs with "
   ]
  },
  {
   "cell_type": "code",
   "execution_count": 1,
   "metadata": {},
   "outputs": [],
   "source": [
    "from numpy import *"
   ]
  },
  {
   "cell_type": "markdown",
   "metadata": {
    "slideshow": {
     "slide_type": "subslide"
    }
   },
   "source": [
    "### Course Book\n",
    "\n",
    "Scientific Computing with Python 3\n",
    "\n",
    "Claus Führer, Jan Erik Solem, Olivier Verdier\n",
    "\n",
    "December 2016\n",
    "\n",
    "![book](https://raw.githubusercontent.com/malinc/Notebooks/master/images/smallbook.png)\n",
    "\n"
   ]
  },
  {
   "cell_type": "markdown",
   "metadata": {
    "slideshow": {
     "slide_type": "subslide"
    }
   },
   "source": [
    "### IPython\n",
    "\n",
    "IPython is an enhanced Python interpreter.\n",
    "\n",
    "- Use the arrow keys to visit previous commands.\n",
    "\n",
    "- Use tab to auto-complete.\n",
    "\n",
    "- To get help on an object just type ? after it and then return."
   ]
  },
  {
   "cell_type": "markdown",
   "metadata": {
    "slideshow": {
     "slide_type": "subslide"
    }
   },
   "source": [
    "### Examples: Linear Algebra\n",
    "\n",
    "Let us solve\n",
    "\n",
    "$$\\begin{pmatrix}1 &2\\\\3 &4\\end{pmatrix} \\cdot x = \\begin{pmatrix}2\\\\1\\end{pmatrix}$$\n"
   ]
  },
  {
   "cell_type": "code",
   "execution_count": 2,
   "metadata": {},
   "outputs": [
    {
     "name": "stdout",
     "output_type": "stream",
     "text": [
      "[-3.   2.5]\n"
     ]
    }
   ],
   "source": [
    "from scipy.linalg import solve\n",
    "M = array([[1., 2.], \n",
    "           [3., 4.]])\n",
    "V = array([2., 1.])\n",
    "x = solve(M, V)\n",
    "print(x)"
   ]
  },
  {
   "cell_type": "markdown",
   "metadata": {
    "slideshow": {
     "slide_type": "subslide"
    }
   },
   "source": [
    "### More examples\n",
    "\n",
    "Computing $e^{i\\pi}$ and $2^{100}$:"
   ]
  },
  {
   "cell_type": "code",
   "execution_count": 3,
   "metadata": {},
   "outputs": [
    {
     "name": "stdout",
     "output_type": "stream",
     "text": [
      "(-1+1.2246467991473532e-16j)\n"
     ]
    }
   ],
   "source": [
    "print(exp(1j*pi)) # should return -1"
   ]
  },
  {
   "cell_type": "code",
   "execution_count": 4,
   "metadata": {},
   "outputs": [
    {
     "name": "stdout",
     "output_type": "stream",
     "text": [
      "1267650600228229401496703205376\n"
     ]
    }
   ],
   "source": [
    "print(2**100)"
   ]
  },
  {
   "cell_type": "markdown",
   "metadata": {},
   "source": [
    "Note: Everything following `#` is treated as a comment"
   ]
  },
  {
   "cell_type": "markdown",
   "metadata": {
    "slideshow": {
     "slide_type": "subslide"
    }
   },
   "source": [
    "### Arithmetic operators\n",
    "\n",
    "We will now do simple calculations in the IPython shell using following operators:\n",
    "    \n",
    "`+ - * /` (addition, subtraction, multiplication, division) \n",
    "\n",
    "`**` &nbsp;&nbsp;&nbsp;&nbsp;&nbsp;&nbsp;&nbsp;&nbsp;&nbsp;&nbsp;&nbsp;&nbsp;(exponentiation)\n",
    "\n",
    "`%`   &nbsp;&nbsp;&nbsp;&nbsp;&nbsp;&nbsp;&nbsp;&nbsp;&nbsp;&nbsp;&nbsp;&nbsp;&nbsp;&nbsp;(modulus operator, yields remainder)\n",
    "\n",
    "`//` &nbsp;&nbsp;&nbsp;&nbsp;&nbsp;&nbsp;&nbsp;&nbsp;&nbsp;&nbsp;&nbsp;&nbsp;(floor division, yields quotient)\n",
    "\n",
    "With floor division decimals are truncated. Many other programming languages truncates \"towards zero\".\n"
   ]
  },
  {
   "cell_type": "markdown",
   "metadata": {
    "slideshow": {
     "slide_type": "subslide"
    }
   },
   "source": [
    "### Strings\n",
    "\n",
    "Strings are \"lists\" of characters enclosed by simple or double quotes.\n",
    "\n",
    "`str1 = '\"Eureka\" he shouted.'`\n",
    "\n",
    "`str2 = \"He had found what is now known as Archimedes' principle.\"`\n",
    "\n",
    "<hr>\n",
    "\n",
    "Make two (short) string variables. Find their datatype. Try using the operators `+` and `*` on the variables."
   ]
  },
  {
   "cell_type": "markdown",
   "metadata": {
    "slideshow": {
     "slide_type": "subslide"
    }
   },
   "source": [
    "### Multiple lines\n",
    "\n",
    "You may also use triple quotes for strings including multiple lines:"
   ]
  },
  {
   "cell_type": "code",
   "execution_count": 5,
   "metadata": {},
   "outputs": [
    {
     "name": "stdout",
     "output_type": "stream",
     "text": [
      "This is\n",
      "a long,\n",
      "long string.\n"
     ]
    }
   ],
   "source": [
    "str3 = \"\"\"This is\n",
    "a long,\n",
    "long string.\"\"\"\n",
    "print(str3)"
   ]
  },
  {
   "cell_type": "markdown",
   "metadata": {
    "slideshow": {
     "slide_type": "subslide"
    }
   },
   "source": [
    "## Input, output, and type conversion\n",
    "\n",
    "From now on we will write code in the editor and then run the code. Output will be shown using the print-function."
   ]
  },
  {
   "cell_type": "code",
   "execution_count": 6,
   "metadata": {},
   "outputs": [
    {
     "name": "stdout",
     "output_type": "stream",
     "text": [
      "1347 seconds is 22 minutes and 27 seconds.\n"
     ]
    }
   ],
   "source": [
    "total_sec = 1347\n",
    "m = total_sec // 60\n",
    "s = total_sec % 60\n",
    "print(total_sec, \"seconds is\", m, \"minutes and\", s, \"seconds.\")"
   ]
  },
  {
   "cell_type": "markdown",
   "metadata": {},
   "source": [
    "Later we will use so called *f-strings* to format strings."
   ]
  },
  {
   "cell_type": "markdown",
   "metadata": {
    "slideshow": {
     "slide_type": "subslide"
    }
   },
   "source": [
    "### Input\n",
    "\n",
    "The `input`-function can be used to let the user write input in the console."
   ]
  },
  {
   "cell_type": "code",
   "execution_count": 7,
   "metadata": {},
   "outputs": [
    {
     "name": "stdout",
     "output_type": "stream",
     "text": [
      "Write your name: Malin\n",
      "Hello Malin\n"
     ]
    }
   ],
   "source": [
    "name = input(\"Write your name: \")\n",
    "print(\"Hello\", name)"
   ]
  },
  {
   "cell_type": "markdown",
   "metadata": {},
   "source": [
    "In this course we will not use the `input` function. When input is needed we will use a GUI (Graphical User Interface)."
   ]
  },
  {
   "cell_type": "markdown",
   "metadata": {
    "slideshow": {
     "slide_type": "subslide"
    }
   },
   "source": [
    "## Type conversion\n",
    "\n",
    "(Can also be called *type casting*)\n",
    "\n",
    "Some type casting functions in Python: `int`, `float`, `complex`, `str`."
   ]
  },
  {
   "cell_type": "code",
   "execution_count": 8,
   "metadata": {},
   "outputs": [
    {
     "name": "stdout",
     "output_type": "stream",
     "text": [
      "Write an integer: 5\n",
      "The square of 5 is 25\n"
     ]
    }
   ],
   "source": [
    "str_answ = input(\"Write an integer: \")\n",
    "answ = int(str_answ)\n",
    "print(\"The square of\", answ, \"is\", answ**2)"
   ]
  },
  {
   "cell_type": "markdown",
   "metadata": {},
   "source": [
    "We can also write it as:"
   ]
  },
  {
   "cell_type": "code",
   "execution_count": 9,
   "metadata": {},
   "outputs": [
    {
     "name": "stdout",
     "output_type": "stream",
     "text": [
      "Write an integer: 5\n",
      "The square of 5 is 25\n"
     ]
    }
   ],
   "source": [
    "answ = int(input(\"Write an integer: \"))\n",
    "print(\"The square of\", answ, \"is\", answ**2)"
   ]
  },
  {
   "cell_type": "markdown",
   "metadata": {
    "slideshow": {
     "slide_type": "slide"
    }
   },
   "source": [
    "## Import modules\n",
    "\n",
    "In order to use standard mathematical functions in Python, you must import some module.\n",
    "\n",
    "You can import a module and then use dot notation."
   ]
  },
  {
   "cell_type": "code",
   "execution_count": 10,
   "metadata": {},
   "outputs": [
    {
     "name": "stdout",
     "output_type": "stream",
     "text": [
      "c1 = (3+0j)  c2 = 3j\n",
      "n1 = 3.0  n2 = 3j\n"
     ]
    }
   ],
   "source": [
    "import math, cmath, numpy\n",
    "\n",
    "m1 = math.sqrt(9)\n",
    "# m2 = math.sqrt(-9) would yield an error\n",
    "\n",
    "c1 = cmath.sqrt(9)\n",
    "c2 = cmath.sqrt(-9)\n",
    "\n",
    "n1 = numpy.sqrt(9)\n",
    "n2 = numpy.sqrt(-9+0j)\n",
    "\n",
    "print(\"c1 =\", c1, \" c2 =\", c2)\n",
    "print(\"n1 =\", n1, \" n2 =\", n2)"
   ]
  },
  {
   "cell_type": "markdown",
   "metadata": {},
   "source": [
    "We will from now on only use `numpy`."
   ]
  },
  {
   "cell_type": "markdown",
   "metadata": {
    "slideshow": {
     "slide_type": "subslide"
    }
   },
   "source": [
    "### Different ways to import\n",
    "\n",
    "To avoid dot notion you can specify what you want to import."
   ]
  },
  {
   "cell_type": "code",
   "execution_count": null,
   "metadata": {},
   "outputs": [],
   "source": [
    "from numpy import exp, pi\n",
    "\n",
    "print(exp(1j*pi))"
   ]
  },
  {
   "cell_type": "markdown",
   "metadata": {},
   "source": [
    "You can also use dot-notation but specify a shorter name."
   ]
  },
  {
   "cell_type": "code",
   "execution_count": null,
   "metadata": {},
   "outputs": [],
   "source": [
    "import numpy as np\n",
    "\n",
    "print(np.sin(np.pi/2))"
   ]
  },
  {
   "cell_type": "markdown",
   "metadata": {},
   "source": [
    "You can also make a *star import* to import everything from a module:"
   ]
  },
  {
   "cell_type": "code",
   "execution_count": null,
   "metadata": {},
   "outputs": [],
   "source": [
    "from numpy import *"
   ]
  },
  {
   "cell_type": "markdown",
   "metadata": {
    "slideshow": {
     "slide_type": "subslide"
    }
   },
   "source": [
    "### Configuration of Spyder\n",
    "\n",
    "Find the `Preferences`:\n",
    "\n",
    "`Tools - Preferences` (Windows/Linux)\n",
    "\n",
    "`Python - Preferences` (Mac)\n",
    "\n",
    "Choose `Editor` and the tab `Advanced settings`, then click `Edit template for new modules`. Here you can enter the code for imports that will be included in all new files. \n",
    "\n",
    "See instructions on Canvas for more information."
   ]
  },
  {
   "cell_type": "markdown",
   "metadata": {
    "slideshow": {
     "slide_type": "slide"
    }
   },
   "source": [
    "\n",
    "## Lists\n",
    "\n",
    "A Python list is an ordered list of objects, enclosed in square brackets. \n",
    "\n",
    "One accesses elements of a list using zero-based indices inside square brackets."
   ]
  },
  {
   "cell_type": "markdown",
   "metadata": {
    "slideshow": {
     "slide_type": "subslide"
    }
   },
   "source": [
    "### List examples"
   ]
  },
  {
   "cell_type": "code",
   "execution_count": 11,
   "metadata": {},
   "outputs": [
    {
     "name": "stdout",
     "output_type": "stream",
     "text": [
      "1\n",
      "2\n"
     ]
    }
   ],
   "source": [
    "L1 = [1, 2]\n",
    "print(L1[0])\n",
    "print(L1[1])\n",
    "# print(L1[2]) raises IndexError"
   ]
  },
  {
   "cell_type": "code",
   "execution_count": 12,
   "metadata": {},
   "outputs": [
    {
     "name": "stdout",
     "output_type": "stream",
     "text": [
      "a\n",
      "[3, 4]\n",
      "3\n"
     ]
    }
   ],
   "source": [
    "L2 = ['a', 1, [3, 4]] \n",
    "print(L2[0])\n",
    "print(L2[2])\n",
    "print(L2[2][0])"
   ]
  },
  {
   "cell_type": "markdown",
   "metadata": {
    "slideshow": {
     "slide_type": "subslide"
    }
   },
   "source": [
    "### Negative indices"
   ]
  },
  {
   "cell_type": "code",
   "execution_count": 13,
   "metadata": {},
   "outputs": [
    {
     "name": "stdout",
     "output_type": "stream",
     "text": [
      "[3, 4]\n",
      "1\n"
     ]
    }
   ],
   "source": [
    "L2 = ['a', 1, [3, 4]] \n",
    "print(L2[-1]) # last element\n",
    "print(L2[-2]) # second last element"
   ]
  },
  {
   "cell_type": "markdown",
   "metadata": {
    "slideshow": {
     "slide_type": "subslide"
    }
   },
   "source": [
    "### List utilities &hyphen;  `range`\n",
    "\n",
    "`range(n)`can be used to fill a list with $n$ elements starting with zero."
   ]
  },
  {
   "cell_type": "code",
   "execution_count": 14,
   "metadata": {
    "scrolled": true
   },
   "outputs": [
    {
     "name": "stdout",
     "output_type": "stream",
     "text": [
      "[0, 1, 2, 3, 4]\n"
     ]
    }
   ],
   "source": [
    "L3 = list(range(5))\n",
    "print(L3)"
   ]
  },
  {
   "cell_type": "markdown",
   "metadata": {
    "slideshow": {
     "slide_type": "subslide"
    }
   },
   "source": [
    "### List utilities &hyphen;  `len`\n",
    "\n",
    "The function `len(L)` gives the the length of a list:"
   ]
  },
  {
   "cell_type": "code",
   "execution_count": 15,
   "metadata": {},
   "outputs": [
    {
     "name": "stdout",
     "output_type": "stream",
     "text": [
      "3\n",
      "2\n",
      "4\n",
      "5\n"
     ]
    }
   ],
   "source": [
    "L4 = [\"Stockholm\", \"Paris\", \"Berlin\"]\n",
    "L5 = [[0,1], [10, 100, 1000, 10000]]\n",
    "print(len(L4))\n",
    "print(len(L5))\n",
    "print(len(L5[-1]))\n",
    "\n",
    "print(len(['a', 'b', 'c', 'd', 'e']))"
   ]
  },
  {
   "cell_type": "markdown",
   "metadata": {
    "slideshow": {
     "slide_type": "subslide"
    }
   },
   "source": [
    "### List utilities &hyphen;  `append`\n",
    "\n",
    "Use the method `append` to append an element at the end of the list."
   ]
  },
  {
   "cell_type": "code",
   "execution_count": 16,
   "metadata": {},
   "outputs": [
    {
     "name": "stdout",
     "output_type": "stream",
     "text": [
      "c\n",
      "d\n"
     ]
    }
   ],
   "source": [
    "L6 = ['a', 'b', 'c']\n",
    "print(L6[-1])\n",
    "L6.append('d')\n",
    "print(L6[-1])"
   ]
  },
  {
   "cell_type": "markdown",
   "metadata": {
    "slideshow": {
     "slide_type": "subslide"
    }
   },
   "source": [
    "### List comprehension\n",
    "\n",
    "A convenient way to build up lists is to use the *list comprehension* construct, possibly with a conditional inside.\n",
    "\n",
    "#### Definition\n",
    "The syntax of  a list comprehension is\n",
    "\n",
    "`[<expr> for <variable> in <list>]`\n",
    "\n",
    "Example:\n"
   ]
  },
  {
   "cell_type": "code",
   "execution_count": 17,
   "metadata": {},
   "outputs": [
    {
     "name": "stdout",
     "output_type": "stream",
     "text": [
      "[4, 6, 20, 2, 10]\n",
      "[20, 10]\n"
     ]
    }
   ],
   "source": [
    "L1 = [2, 3, 10, 1, 5]\n",
    "L2 = [x*2 for x in L1]\n",
    "L3 = [x*2 for x in L1 if 4 < x <= 10]\n",
    "\n",
    "print(L2)\n",
    "print(L3)"
   ]
  },
  {
   "cell_type": "markdown",
   "metadata": {
    "slideshow": {
     "slide_type": "subslide"
    }
   },
   "source": [
    "### List comprehension in mathematics\n",
    "\n",
    "#### Mathematical notation\n",
    "This is very close to the mathematical notation for sets. Compare:\n",
    "\n",
    "$$ L_2 = \\{2x;\\ x\\in L_1\\} $$\n",
    "\n",
    "with\n",
    "\n",
    "`L2 = [2*x for x in L1]`\n",
    "\n",
    "One big difference though is that lists are *ordered* while sets aren't"
   ]
  },
  {
   "cell_type": "markdown",
   "metadata": {
    "slideshow": {
     "slide_type": "subslide"
    }
   },
   "source": [
    "### Operations on lists\n",
    "\n",
    "Adding two lists *concatenates* them:"
   ]
  },
  {
   "cell_type": "code",
   "execution_count": 18,
   "metadata": {},
   "outputs": [
    {
     "name": "stdout",
     "output_type": "stream",
     "text": [
      "[1, 2, 3, 4]\n"
     ]
    }
   ],
   "source": [
    "L1 = [1, 2]\n",
    "L2 = [3, 4]\n",
    "L3 = L1 + L2\n",
    "print(L3)"
   ]
  },
  {
   "cell_type": "markdown",
   "metadata": {
    "slideshow": {
     "slide_type": "subslide"
    }
   },
   "source": [
    "### More operations on lists\n",
    "\n",
    "Logically, multiplying a list with an integer concatenates the\n",
    "list with itself several times: `n*L` is equivalent to\n",
    "\n",
    "$\\underbrace{L+L+\\cdots+L}_{n \\text{ times}}$"
   ]
  },
  {
   "cell_type": "code",
   "execution_count": 19,
   "metadata": {},
   "outputs": [
    {
     "name": "stdout",
     "output_type": "stream",
     "text": [
      "[1, 2, 1, 2, 1, 2]\n"
     ]
    }
   ],
   "source": [
    "L = [1, 2]\n",
    "print(3*L)"
   ]
  },
  {
   "cell_type": "markdown",
   "metadata": {
    "slideshow": {
     "slide_type": "slide"
    }
   },
   "source": [
    "## for loops\n",
    "\n",
    "A *for loop* allows us to loop through a list using an index variable. This variable takes successively the values of the elements in the list.\n",
    "\n",
    "Example:"
   ]
  },
  {
   "cell_type": "code",
   "execution_count": 20,
   "metadata": {},
   "outputs": [
    {
     "name": "stdout",
     "output_type": "stream",
     "text": [
      "2\n",
      "4\n",
      "20\n"
     ]
    }
   ],
   "source": [
    "L = [1, 2, 10] \n",
    "for s in L:\n",
    "    print(s * 2)"
   ]
  },
  {
   "cell_type": "markdown",
   "metadata": {
    "slideshow": {
     "slide_type": "subslide"
    }
   },
   "source": [
    "### Repeating a task\n",
    "\n",
    "One typical use of the for loop is to repeat a certain task a fixed number of times:"
   ]
  },
  {
   "cell_type": "code",
   "execution_count": null,
   "metadata": {},
   "outputs": [],
   "source": [
    "n = 30\n",
    "for i in range(n):\n",
    "    do_something() # this gets executed n times"
   ]
  },
  {
   "cell_type": "markdown",
   "metadata": {
    "slideshow": {
     "slide_type": "subslide"
    }
   },
   "source": [
    "### Indentation\n",
    "\n",
    "The part to be repeated in the for loop has to be properly *indented*."
   ]
  },
  {
   "cell_type": "code",
   "execution_count": null,
   "metadata": {},
   "outputs": [],
   "source": [
    "for elt in my_list:\n",
    "    do_something()\n",
    "    something_else()\n",
    "    etc\n",
    "print(\"loop finished\") # outside of the for loop"
   ]
  },
  {
   "cell_type": "markdown",
   "metadata": {},
   "source": [
    "In contrast to other programming languages, the indentation in Python is **mandatory**."
   ]
  },
  {
   "cell_type": "markdown",
   "metadata": {
    "slideshow": {
     "slide_type": "slide"
    }
   },
   "source": [
    "\n",
    "## Elementary plotting\n",
    "\n",
    "\n",
    "We must first make the central visualization tool in Python available:"
   ]
  },
  {
   "cell_type": "code",
   "execution_count": 21,
   "metadata": {},
   "outputs": [],
   "source": [
    "from matplotlib.pyplot import *"
   ]
  },
  {
   "cell_type": "markdown",
   "metadata": {},
   "source": [
    "Then we generate two lists:"
   ]
  },
  {
   "cell_type": "code",
   "execution_count": 22,
   "metadata": {},
   "outputs": [],
   "source": [
    "x_list = list(range(100))\n",
    "y_list = [sqrt(x) for x in x_list]"
   ]
  },
  {
   "cell_type": "markdown",
   "metadata": {
    "slideshow": {
     "slide_type": "subslide"
    }
   },
   "source": [
    "Then we make a graph:"
   ]
  },
  {
   "cell_type": "code",
   "execution_count": 23,
   "metadata": {},
   "outputs": [
    {
     "data": {
      "image/png": "[encoded data removed]",
      "text/plain": [
       "<Figure size 432x288 with 1 Axes>"
      ]
     },
     "metadata": {
      "needs_background": "light"
     },
     "output_type": "display_data"
    }
   ],
   "source": [
    "plot(x_list, y_list, 'o')\n",
    "title('My first plot')\n",
    "xlabel('x')\n",
    "ylabel('Square root of x')\n",
    "show() # not always needed"
   ]
  }
 ],
 "metadata": {
  "celltoolbar": "Slideshow",
  "kernelspec": {
   "display_name": "Python 3",
   "language": "python",
   "name": "python3"
  },
  "language_info": {
   "codemirror_mode": {
    "name": "ipython",
    "version": 3
   },
   "file_extension": ".py",
   "mimetype": "text/x-python",
   "name": "python",
   "nbconvert_exporter": "python",
   "pygments_lexer": "ipython3",
   "version": "3.8.3"
  },
  "rise": {
   "autolaunch": true,
   "footer": "",
   "start_slideshow_at": "beginning",
   "theme": "simple",
   "transition": "slide"
  }
 },
 "nbformat": 4,
 "nbformat_minor": 2
}
