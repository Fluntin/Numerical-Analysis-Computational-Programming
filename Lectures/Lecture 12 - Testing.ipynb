{
 "cells": [
  {
   "cell_type": "markdown",
   "metadata": {
    "slideshow": {
     "slide_type": "slide"
    }
   },
   "source": [
    "# Computational Programming with Python\n",
    "### Lecture 12: Testing\n",
    "\n",
    "### Center for Mathematical Sciences, Lund University\n",
    "Lecturer: Claus Führer, Malin Christersson, Robert Klöfkorn\n"
   ]
  },
  {
   "cell_type": "markdown",
   "metadata": {
    "slideshow": {
     "slide_type": "slide"
    }
   },
   "source": [
    "## Why tests?\n",
    "\n",
    "- Because you do them anyway.\n",
    "- Because it will keep your code alive.\n",
    "\n",
    "## Automated tests\n",
    "\n",
    "- Ensure a constant (high) quality standard of your code.\n",
    "- Serve as a documentation of the use of your code.\n",
    "- Document the test cases &rarr; test protocol"
   ]
  },
  {
   "cell_type": "markdown",
   "metadata": {
    "slideshow": {
     "slide_type": "slide"
    }
   },
   "source": [
    "# In general\n",
    "\n",
    "\\begin{align}\n",
    "\\text{Unit } & \\text{Testing}\\\\\n",
    "\\downarrow \\\\\n",
    "\\text{Integration} & \\text{ Testing} \\\\\n",
    "\\downarrow \\\\\n",
    "\\text{System} & \\text{ Testing} \\\\\n",
    "\\downarrow \\\\\n",
    "\\text{User Acceptance } & \\text{Testing (UAT)}\\\\\n",
    "\\end{align}"
   ]
  },
  {
   "cell_type": "markdown",
   "metadata": {
    "slideshow": {
     "slide_type": "slide"
    }
   },
   "source": [
    "## Example\n",
    "\n",
    "Let's assume we want to test an implementation of the bisection algorithm:"
   ]
  },
  {
   "cell_type": "code",
   "execution_count": 1,
   "metadata": {},
   "outputs": [],
   "source": [
    "from numpy import *\n",
    "\n",
    "def bisect(f, a, b, tol=1.e-8):\n",
    "    if f(a) * f(b) >0:\n",
    "        raise ValueError(\"Incorrect initial [a, b]\")   \n",
    "    for i in range(100):\n",
    "        c = (a + b) / 2.\n",
    "        if f(a) * f(c) <= 0:\n",
    "            b = c\n",
    "        else:\n",
    "            a = c\n",
    "        if abs(a - b) < tol:\n",
    "            return (a + b) / 2\n",
    "    raise Exception('No root found')   "
   ]
  },
  {
   "cell_type": "markdown",
   "metadata": {
    "slideshow": {
     "slide_type": "slide"
    }
   },
   "source": [
    "## Example (cont)\n",
    "\n",
    "Let's assume we want to test an implementation of the bisection algorithm:"
   ]
  },
  {
   "cell_type": "code",
   "execution_count": 2,
   "metadata": {},
   "outputs": [],
   "source": [
    "def test_identity():\n",
    "    result = bisect(lambda x: x, -1., 1.) \n",
    "    expected = 0.\n",
    "    assert allclose(result, expected),'expected zero not found'\n",
    "\n",
    "test_identity()"
   ]
  },
  {
   "cell_type": "markdown",
   "metadata": {
    "slideshow": {
     "slide_type": "slide"
    }
   },
   "source": [
    "## Example (cont)\n",
    "\n",
    "Does the code handle wrong input correctly?"
   ]
  },
  {
   "cell_type": "code",
   "execution_count": 3,
   "metadata": {},
   "outputs": [],
   "source": [
    "def test_badinput():\n",
    "    try:\n",
    "        bisect(lambda x: x, 0.5, 1)\n",
    "    except ValueError:\n",
    "        pass\n",
    "    else:\n",
    "        raise AssertionError()\n",
    "\n",
    "test_badinput()"
   ]
  },
  {
   "cell_type": "markdown",
   "metadata": {
    "slideshow": {
     "slide_type": "slide"
    }
   },
   "source": [
    "# Unittest Test Cases\n",
    "\n",
    "We can use the testing framework `unittest` to bundle several test cases and automatize the testing.\n",
    "\n",
    "### Simple example using Spyder\n",
    "```python\n",
    "import unittest\n",
    "\n",
    "def my_function():\n",
    "    return 0\n",
    "\n",
    "class TestMyFunction(unittest.TestCase):\n",
    "    def test_equal(self):\n",
    "        self.assertEqual(my_function(), 1, \"should be 0\")\n",
    "    def test_true(self):\n",
    "        self.assertTrue(my_function() == 0, \"should be 0\")\n",
    "        \n",
    "if __name__ == '__main__':\n",
    "    unittest.main()\n",
    "```"
   ]
  },
  {
   "cell_type": "markdown",
   "metadata": {
    "slideshow": {
     "slide_type": "slide"
    }
   },
   "source": [
    "### Simple example using Jupyter Notebook"
   ]
  },
  {
   "cell_type": "code",
   "execution_count": 4,
   "metadata": {},
   "outputs": [
    {
     "name": "stderr",
     "output_type": "stream",
     "text": [
      "test_equal (__main__.TestMyFunction) ... ok\n",
      "test_true (__main__.TestMyFunction) ... ok\n",
      "\n",
      "----------------------------------------------------------------------\n",
      "Ran 2 tests in 0.002s\n",
      "\n",
      "OK\n"
     ]
    },
    {
     "data": {
      "text/plain": [
       "<unittest.main.TestProgram at 0x116534210>"
      ]
     },
     "execution_count": 4,
     "metadata": {},
     "output_type": "execute_result"
    }
   ],
   "source": [
    "import unittest\n",
    "\n",
    "def my_function():\n",
    "    return 0\n",
    "\n",
    "class TestMyFunction(unittest.TestCase):\n",
    "    def test_equal(self):\n",
    "        self.assertEqual(my_function(), 0, \"should be 0\")\n",
    "    def test_true(self):\n",
    "        self.assertTrue(my_function() == 0, \"should be 0\")\n",
    "        \n",
    "unittest.main(argv=[''], verbosity=2, exit=False)  # we must write like this instead of if-statement"
   ]
  },
  {
   "cell_type": "markdown",
   "metadata": {
    "slideshow": {
     "slide_type": "slide"
    }
   },
   "source": [
    "### Example testing bisection\n",
    "\n",
    "```python\n",
    "from bisection import bisect\n",
    "import unittest\n",
    "\n",
    "class TestIdentity(unittest.TestCase):\n",
    "    def test(self):\n",
    "        result = bisect(lambda x: x, -1.2, 1.)\n",
    "        expected = 0.\n",
    "        self.assertAlmostEqual(result, expected)\n",
    "        \n",
    "if __name__ == '__main__':\n",
    "    unittest.main()\n",
    "```"
   ]
  },
  {
   "cell_type": "markdown",
   "metadata": {
    "slideshow": {
     "slide_type": "slide"
    }
   },
   "source": [
    "We recommend to group tests together.\n",
    "\n",
    "```python\n",
    "class TestIdentity(unittest.TestCase):\n",
    "    def identity_fcn(self,x):\n",
    "        return x\n",
    "    def test_functionality(self):\n",
    "        result = bisect(self.identity_fcn, -1.2, 1.)\n",
    "        expected = 0.\n",
    "        self.assertAlmostEqual(result, expected)\n",
    "    def test_reverse_boundaries(self):\n",
    "        result = bisect(self.identity_fcn, 1., -1.)\n",
    "        expected = 0.\n",
    "        self.assertAlmostEqual(result, expected)\n",
    "    def test_exceeded_tolerance(self):\n",
    "        tol=1.e-80\n",
    "        self.assertRaises(Exception, bisect, self.identity_fcn, \n",
    "                          -1.2, 1.,tol)        \n",
    "if __name__=='__main__':\n",
    "       unittest.main()\n",
    "\n",
    "```"
   ]
  },
  {
   "cell_type": "markdown",
   "metadata": {
    "slideshow": {
     "slide_type": "slide"
    }
   },
   "source": [
    "### unittest.TestCase.assertRaises\n",
    "\n",
    "Note the method `assertRaises`:\n",
    "\n",
    "- `Exception`: the expected exception type\n",
    "- `bisect`: the function to be called\n",
    "- `self.identity_fcn, -1.2, 1., tol`: the parameters of this function"
   ]
  },
  {
   "cell_type": "markdown",
   "metadata": {
    "slideshow": {
     "slide_type": "slide"
    }
   },
   "source": [
    "## Unittest: Preparing tests\n",
    "\n",
    "Sometimes the execution of tests need som preparation. The special method `setUp` is executed first. The special method `tearDown` is executed after all tests.\n",
    "\n",
    "```python\n",
    "class TestFindInFile(unittest.TestCase):\n",
    "    def setUp(self):\n",
    "        file = open('test_file.txt', 'w')\n",
    "        file.write('aha')\n",
    "        file.close()\n",
    "        self.file = open('test_file.txt', 'r')\n",
    "    def tearDown(self):\n",
    "        os.remove(self.file.name)\n",
    "    def test_exists(self):\n",
    "        line_no=find_string(self.file, 'aha')\n",
    "        self.assertEqual(line_no, 0)\n",
    "    def test_not_exists(self):\n",
    "        self.assertRaises(NotFoundError, \n",
    "                          find_string, self.file, 'bha')\n",
    "\n",
    "if __name__=='__main__':\n",
    "                unittest.main() \n",
    "\n",
    "```"
   ]
  },
  {
   "cell_type": "markdown",
   "metadata": {
    "slideshow": {
     "slide_type": "slide"
    }
   },
   "source": [
    "## Unittest: Preparing tests (cont.)\n",
    "\n",
    "... and here the functions we want to test.\n",
    "\n",
    "```python\n",
    "class NotFoundError(Exception):\n",
    "    pass\n",
    "\n",
    "def find_string(file, string):\n",
    "    for i,lines in enumerate(file.readlines()):\n",
    "        if string in lines:\n",
    "            return i\n",
    "    raise NotFoundError(f'String {string} not found in File {file.name}'.) \n",
    "\n",
    "```"
   ]
  }
 ],
 "metadata": {
  "celltoolbar": "Slideshow",
  "kernelspec": {
   "display_name": "Python 3",
   "language": "python",
   "name": "python3"
  },
  "language_info": {
   "codemirror_mode": {
    "name": "ipython",
    "version": 3
   },
   "file_extension": ".py",
   "mimetype": "text/x-python",
   "name": "python",
   "nbconvert_exporter": "python",
   "pygments_lexer": "ipython3",
   "version": "3.7.4"
  },
  "rise": {
   "autolaunch": true,
   "footer": "<h3>&nbsp;&nbsp;&nbsp;&nbsp;C. Führer, M. Christersson, Lund University, Sweden</h3>",
   "start_slideshow_at": "beginning",
   "theme": "simple",
   "transition": "slide"
  }
 },
 "nbformat": 4,
 "nbformat_minor": 2
}
