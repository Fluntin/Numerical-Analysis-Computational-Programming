{
 "cells": [
  {
   "cell_type": "markdown",
   "metadata": {
    "slideshow": {
     "slide_type": "slide"
    }
   },
   "source": [
    "# Computational Programming with Python\n",
    "### Lecture 13: Time complexity, decorators and iterators\n",
    "\n",
    "### Center for Mathematical Sciences, Lund University\n",
    "Lecturer: Claus Führer, Malin Christersson, Robert Klöfkorn\n"
   ]
  },
  {
   "cell_type": "markdown",
   "metadata": {
    "slideshow": {
     "slide_type": "slide"
    }
   },
   "source": [
    "# This lecture\n",
    "\n",
    "- Time complexity\n",
    "- Decorators\n",
    "- The timeit module\n",
    "- Iterators"
   ]
  },
  {
   "cell_type": "markdown",
   "metadata": {
    "slideshow": {
     "slide_type": "slide"
    }
   },
   "source": [
    "# Time complexity\n",
    "\n",
    "The estimated time of an algorithm should be independent of\n",
    "\n",
    "- the programming language used to implement the algorithm\n",
    "- the computer/OS used when implementing the algorithm"
   ]
  },
  {
   "cell_type": "markdown",
   "metadata": {
    "slideshow": {
     "slide_type": "subslide"
    }
   },
   "source": [
    "## Example: estimating the time\n",
    "\n",
    "Consider this program:\n",
    "\n",
    "```python\n",
    "from numpy import *      # c1\n",
    "\n",
    "def func(x, n):      \n",
    "    y = x + 10           # c2\n",
    "    y = 2.5*y            # c3\n",
    "    for i in range(n):\n",
    "        y =  sqrt(y+1)   # c4\n",
    "    return y\n",
    "\n",
    "a = func(3.5, 100)       # c5\n",
    "```\n",
    "\n",
    "Assume that all single operations take constant time $c_i$, then\n",
    "\n",
    "$$T(n) = c_1 + c_5 + c_2 + c_3 + n\\cdot c_4 = a + b\\cdot n $$\n",
    "\n",
    "is a function of the estimated time depending on $n$. "
   ]
  },
  {
   "cell_type": "markdown",
   "metadata": {
    "slideshow": {
     "slide_type": "subslide"
    }
   },
   "source": [
    "## Asymptotic notation\n",
    "\n",
    "We can measure the asymptotic growth of a function, thus not having to use constants.\n",
    "\n",
    "#### Definition\n",
    "An asymptotic upper bound is given by $O(f(n))$ where\n",
    "\n",
    "$$O(f(n)) = \\{g(n) : \\text{ there exist positive constants } c \\text{ and } n_0 \\text{ such that } 0\\le |g(n)| \\le cf(n) \\text{ for all } n \\ge n_0 \\}$$\n",
    "\n",
    "#### Example\n",
    "\n",
    "Let $T(n) = a+b\\cdot n$ where $a$ and $b$ are positive constants, then $T(n)$ is $O(n)$ (or  $T(n) \\in O(n)$).\n",
    "\n",
    "If $n\\ge 1$ then \n",
    "$$T(n) = a+b\\cdot n \\le a\\cdot n+b \\cdot n = (a+b)\\cdot n$$\n",
    "\n",
    "hence, we can use $n_0 = 1$ and $c = a+b$ in the definition."
   ]
  },
  {
   "cell_type": "markdown",
   "metadata": {
    "slideshow": {
     "slide_type": "subslide"
    }
   },
   "source": [
    "## Using asymptotic notation\n",
    "\n",
    "When using asymptotic notation for estimating time complexity, we can single out an operation as a **characteristic operation**, the operation that is performed the most number of times for large values of $n$.\n",
    "\n",
    "\n",
    "Instead of estimating the time a **program** takes, we let $T(n)$ be the number of characteristic operations of an **algorithm**, given an input of size $n$. \n"
   ]
  },
  {
   "cell_type": "markdown",
   "metadata": {
    "slideshow": {
     "slide_type": "subslide"
    }
   },
   "source": [
    "## Using asymptotic notation (cont)\n",
    "\n",
    "\n",
    "```python\n",
    "from numpy import *     \n",
    "\n",
    "def func(x, n):      \n",
    "    y = x + 10           \n",
    "    y = 2.5*y            \n",
    "    for i in range(n):\n",
    "        y =  sqrt(y+1)   \n",
    "    return y\n",
    "\n",
    "a = func(3.5, 100)       \n",
    "```\n",
    "\n",
    "let `y=sqrt(y+1)` be the characteristic operation, let $T(n)$ be the number of times this operation is performed, then $T(n) = n$ and the time complexity of the program is $O(n)$.\n",
    "\n",
    "$$ \\begin{cases}\n",
    "y_0 &= y0 \\\\\n",
    "y_i &= \\sqrt{y_{i-1}+1}, i = 1, 2, \\ldots n\n",
    "\\end{cases}$$"
   ]
  },
  {
   "cell_type": "markdown",
   "metadata": {
    "slideshow": {
     "slide_type": "subslide"
    }
   },
   "source": [
    "## Nested loops\n",
    "\n",
    "The three loops\n",
    "```python\n",
    "\n",
    "for i in range(n):\n",
    "    # some operation\n",
    "    \n",
    "for i in range(n):\n",
    "    for j in range(n):\n",
    "        # some operation\n",
    "        \n",
    "for i in range(n):\n",
    "    for j in range(n):\n",
    "        for k in range(n):\n",
    "            # some operation\n",
    "```\n",
    "\n",
    "have time complexities $O(n), O(n^2)$, and $O(n^3)$ respectively."
   ]
  },
  {
   "cell_type": "markdown",
   "metadata": {
    "slideshow": {
     "slide_type": "subslide"
    }
   },
   "source": [
    "## Divide and conquer algorithms\n",
    "\n",
    "Divide and conquer algorithms, such as the bisection method, has a logarithmic time complexity, e.g. $O(\\log n)$ or $O(n\\log n)$.\n",
    "\n",
    "\n",
    "An example:\n",
    "\n",
    "``` \n",
    "def solve_problem(....)\n",
    "    divide the problem into two parts,\n",
    "    solve each part recursively\n",
    "```\n",
    "\n",
    "If the input is a problem of size $n$, the worst case scenario is that we have to divide $n$ by $2$ until we get some singleton. We can do that $O(\\log_2 n)$ times.\n",
    "\n",
    "Since\n",
    "\n",
    "$$\\log_2(x) = \\frac{\\log_a(x)}{\\log_a(2)} = constant \\cdot \\log_a(x) $$\n",
    "\n",
    "the base of the logarithm doesn't matter when considering asymptotic growth, hence we use $O(\\log n)$."
   ]
  },
  {
   "cell_type": "markdown",
   "metadata": {
    "slideshow": {
     "slide_type": "subslide"
    }
   },
   "source": [
    "## A bad implementation of the Fibonacci sequence\n",
    "\n",
    "$$\n",
    "\\begin{cases}\n",
    "F_0 = 0 \\\\\n",
    "F_1 = 1 \\\\\n",
    "F_n = F_{n-1}+F_{n-2}\n",
    "\\end{cases}\n",
    "$$\n",
    "\n",
    "What is the time complexity of:"
   ]
  },
  {
   "cell_type": "code",
   "execution_count": 1,
   "metadata": {},
   "outputs": [
    {
     "name": "stdout",
     "output_type": "stream",
     "text": [
      "0 1 1 2 3 5 8 13 21 34 done\n"
     ]
    }
   ],
   "source": [
    "def bad_fib(n):\n",
    "    if n == 0:\n",
    "        return 0\n",
    "    elif n == 1:\n",
    "        return 1\n",
    "    else:\n",
    "        return bad_fib(n-1)+bad_fib(n-2)\n",
    "    \n",
    "for i in range(10):             #change it to 40\n",
    "    print(bad_fib(i), end=' ')\n",
    "print('done')"
   ]
  },
  {
   "cell_type": "markdown",
   "metadata": {
    "slideshow": {
     "slide_type": "subslide"
    }
   },
   "source": [
    "## Travelling Salesman Problem (TSP)\n",
    "\n",
    "A salesman must visit $n$ cities. He must visit each city once and finish where he started. All distances between cities are known. What is the shortest possible route?\n",
    "\n",
    "A brute force method is to try each possible route. This method has time complexity $O(n!)$.\n",
    "\n",
    "\n",
    "### Comparison\n",
    "\n",
    "For large values of $n$, we have that\n",
    "\n",
    "$$ 1 \\lt  \\log n \\lt n^k \\lt 2^n \\lt n! $$\n",
    "\n",
    "In practical situations, an algorithm that takes $O(n^k)$ time, for some positive integer $k$ may be \"too slow\", if $k$ is large. \n",
    "\n",
    "In computer science, problems that take longer than polynomal time ($O(n^k)$) to solve, are considered 'hard' problems.\n"
   ]
  },
  {
   "cell_type": "markdown",
   "metadata": {
    "slideshow": {
     "slide_type": "subslide"
    }
   },
   "source": [
    "## P vs NP\n",
    "\n",
    "\n",
    "**P** is the set of *decision problems* solvable by a *deterministic Turing Machine* in polynomial time. \n",
    "\n",
    "**NP** is the set of *decision problems* solvable by a *non-deterministic Turing Machine* in polynomial time.\n",
    "\n",
    "If a problem is solvable by a *non-deterministic Turing Machine* in polynomial time, it means that a solution can be **verified** by a *deterministic Turing Machine* in polynomial time\n",
    "\n",
    "**Example:** It is easier to verify that 3087547 is a factor of 21609905092991, than to factorize 21609905092991.\n",
    "\n",
    "It is assumed that **P** &ne; **NP** but no one has been able to prove it. This is one of the Millenium Problems."
   ]
  },
  {
   "cell_type": "markdown",
   "metadata": {
    "slideshow": {
     "slide_type": "subslide"
    }
   },
   "source": [
    "## Problems that are not solvable\n",
    "\n",
    "In 1936, Alan Turing published a paper [On Computable Numbers, with an Application to the Entscheidungsproblem](https://londmathsoc.onlinelibrary.wiley.com/doi/epdf/10.1112/plms/s2-42.1.230).\n",
    "\n",
    "In order to prove what a computer can do and cannot do, he defined what has later been called a **Turing machine**.\n",
    "\n",
    "He then described what has later been called\n",
    "\n",
    "**The Halting Problem**\n",
    "\n",
    "&nbsp;&nbsp;&nbsp;&nbsp;*Given an arbitrary computer program and an input, decide whether the program will halt or run for ever.*\n",
    "\n",
    "Then he proved that the halting problem cannot be solved by a Turing machine.\n",
    "\n",
    "(The first **Turing complete** machine, Z3, was built in 1941 by Konrad Zuse.)\n"
   ]
  },
  {
   "cell_type": "markdown",
   "metadata": {
    "slideshow": {
     "slide_type": "slide"
    }
   },
   "source": [
    "## Decorators\n",
    "\n",
    "A decorator is a function that extends the functionality of another function. "
   ]
  },
  {
   "cell_type": "code",
   "execution_count": 2,
   "metadata": {},
   "outputs": [
    {
     "name": "stdout",
     "output_type": "stream",
     "text": [
      "Before calling function.\n",
      "Greetings from f(x)!\n",
      "After calling function.\n",
      "4\n"
     ]
    }
   ],
   "source": [
    "def decorator(func):\n",
    "    def wrapper(*args, **kwargs):\n",
    "        print(\"Before calling function.\")\n",
    "        val = func(*args, **kwargs)\n",
    "        print(\"After calling function.\")\n",
    "        return val\n",
    "    return wrapper\n",
    "\n",
    "def f(x):\n",
    "    print(\"Greetings from f(x)!\")\n",
    "    return x + 3\n",
    "\n",
    "f = decorator(f)\n",
    "a = f(1)\n",
    "print(a) "
   ]
  },
  {
   "cell_type": "markdown",
   "metadata": {
    "slideshow": {
     "slide_type": "subslide"
    }
   },
   "source": [
    "## Use the decorator function as a decorator\n",
    "\n",
    "Instead of making the assignment:\n",
    "\n",
    "```python\n",
    "f = decorator(f)\n",
    "```\n",
    "\n",
    "we can use a decoration above the definition of `f`:"
   ]
  },
  {
   "cell_type": "code",
   "execution_count": 3,
   "metadata": {},
   "outputs": [
    {
     "name": "stdout",
     "output_type": "stream",
     "text": [
      "Before calling function.\n",
      "Greetings from f(x)!\n",
      "After calling function.\n",
      "4\n"
     ]
    }
   ],
   "source": [
    "def decorator(func):\n",
    "    def wrapper(*args, **kwargs):\n",
    "        print(\"Before calling function.\")\n",
    "        val = func(*args, **kwargs)\n",
    "        print(\"After calling function.\")\n",
    "        return val\n",
    "    return wrapper\n",
    "\n",
    "@decorator           # the same as: f = decorator(f)\n",
    "def f(x):\n",
    "    print(\"Greetings from f(x)!\")\n",
    "    return x + 3\n",
    "\n",
    "a = f(1)\n",
    "print(a)"
   ]
  },
  {
   "cell_type": "markdown",
   "metadata": {
    "slideshow": {
     "slide_type": "subslide"
    }
   },
   "source": [
    "## Functions are objects\n",
    "\n",
    "Given a function `f`, you can use `dir(f)` to see the attributes. \n",
    "\n",
    "You can add attributes to a function."
   ]
  },
  {
   "cell_type": "code",
   "execution_count": 4,
   "metadata": {},
   "outputs": [
    {
     "name": "stdout",
     "output_type": "stream",
     "text": [
      "Hello!\n",
      "f\n",
      "docstring of f(x)\n",
      "---------------------------------------------\n",
      "Help on function f in module __main__:\n",
      "\n",
      "f(x)\n",
      "    docstring of f(x)\n",
      "\n"
     ]
    }
   ],
   "source": [
    "def f(x):\n",
    "    '''docstring of f(x)'''\n",
    "    pass\n",
    "\n",
    "f.message = 'Hello!'  #adding an attribute\n",
    "\n",
    "print(f.message)\n",
    "print(f.__name__)\n",
    "print(f.__doc__)\n",
    "print(45*'-')\n",
    "help(f)"
   ]
  },
  {
   "cell_type": "markdown",
   "metadata": {
    "slideshow": {
     "slide_type": "subslide"
    }
   },
   "source": [
    "## The name and docstring using a decorator"
   ]
  },
  {
   "cell_type": "code",
   "execution_count": 5,
   "metadata": {},
   "outputs": [
    {
     "name": "stdout",
     "output_type": "stream",
     "text": [
      "wrapper\n",
      "None\n",
      "---------------------------------------------\n",
      "g\n",
      "The docstring of g(x)\n"
     ]
    }
   ],
   "source": [
    "@decorator\n",
    "def f(x):\n",
    "    '''The docstring of f(x)'''\n",
    "    pass\n",
    "\n",
    "def g(x):\n",
    "    '''The docstring of g(x)'''\n",
    "    pass\n",
    "\n",
    "print(f.__name__)\n",
    "print(f.__doc__)\n",
    "print(45*'-')\n",
    "print(g.__name__)\n",
    "print(g.__doc__)"
   ]
  },
  {
   "cell_type": "markdown",
   "metadata": {
    "slideshow": {
     "slide_type": "subslide"
    }
   },
   "source": [
    "## The name and docstring using a decorator (cont)"
   ]
  },
  {
   "cell_type": "code",
   "execution_count": 6,
   "metadata": {},
   "outputs": [
    {
     "name": "stdout",
     "output_type": "stream",
     "text": [
      "f\n",
      "The docstring of f(x)\n"
     ]
    }
   ],
   "source": [
    "from functools import wraps\n",
    "\n",
    "def decorator(func):\n",
    "    @wraps(func)\n",
    "    def wrapper(*args, **kwargs):\n",
    "        print(\"Before calling function.\")\n",
    "        val = func(*args, **kwargs)\n",
    "        print(\"After calling function.\")\n",
    "        return val\n",
    "    return wrapper\n",
    "\n",
    "@decorator\n",
    "def f(x):\n",
    "    '''The docstring of f(x)'''\n",
    "    pass\n",
    "\n",
    "print(f.__name__)\n",
    "print(f.__doc__)"
   ]
  },
  {
   "cell_type": "markdown",
   "metadata": {
    "slideshow": {
     "slide_type": "subslide"
    }
   },
   "source": [
    "## Example\n",
    "\n",
    "We can make a decorator that takes the time:"
   ]
  },
  {
   "cell_type": "code",
   "execution_count": 7,
   "metadata": {},
   "outputs": [],
   "source": [
    "import time\n",
    "from numpy import *\n",
    "\n",
    "def showtime(func):\n",
    "    @wraps(func)\n",
    "    def wrapper(*args, **kwargs):\n",
    "        starttime = time.time()\n",
    "        val = func(*args, **kwargs)\n",
    "        print(f\"It took {time.time()-starttime} seconds.\")\n",
    "        return val\n",
    "    return wrapper\n"
   ]
  },
  {
   "cell_type": "markdown",
   "metadata": {
    "slideshow": {
     "slide_type": "subslide"
    }
   },
   "source": [
    "## Example (cont)\n",
    "\n",
    "Consider the two functions:"
   ]
  },
  {
   "cell_type": "code",
   "execution_count": null,
   "metadata": {},
   "outputs": [],
   "source": [
    "def shift_using_loop(vec):\n",
    "    V = vec.copy()              # make a copy to keep vec intact\n",
    "    n = len(V)\n",
    "    for i in range(n-1, 0, -1): # We must do this in reverse order\n",
    "        V[i] = V[i-1]\n",
    "    return V\n",
    "\n",
    "def shift_using_slices(vec):\n",
    "    V = vec.copy()\n",
    "    V[1:] = V[:-1]\n",
    "    return V\n",
    "\n",
    "n = 10\n",
    "\n",
    "L = list(range(n))\n",
    "L1 = shift_using_loop(L)\n",
    "L2 = shift_using_slices(L)\n",
    "\n",
    "A = array(list(range(n)))\n",
    "A1 = shift_using_loop(A)\n",
    "A2 = shift_using_slices(A)\n",
    "\n",
    "print(L)\n",
    "print(L1)"
   ]
  },
  {
   "cell_type": "markdown",
   "metadata": {},
   "source": [
    "Given a list or a vector, the elements are shifted one step to the right. (Compare with shift-operators `>>` and `<<` on integers)"
   ]
  },
  {
   "cell_type": "markdown",
   "metadata": {
    "slideshow": {
     "slide_type": "subslide"
    }
   },
   "source": [
    "## Example (cont)\n",
    "\n",
    "\n",
    "We can decorate the two functions."
   ]
  },
  {
   "cell_type": "code",
   "execution_count": 8,
   "metadata": {},
   "outputs": [
    {
     "name": "stdout",
     "output_type": "stream",
     "text": [
      "It took 0.07575821876525879 seconds.\n",
      "It took 0.024049997329711914 seconds.\n",
      "It took 0.17315077781677246 seconds.\n",
      "It took 0.0028657913208007812 seconds.\n"
     ]
    }
   ],
   "source": [
    "@showtime\n",
    "def shift_using_loop(vec):\n",
    "    V = vec.copy()             \n",
    "    n = len(V)\n",
    "    for i in range(n-1, 0, -1): \n",
    "        V[i] = V[i-1]\n",
    "    return V\n",
    "\n",
    "@showtime\n",
    "def shift_using_slices(vec):\n",
    "    V = vec.copy()\n",
    "    V[1:] = V[:-1]\n",
    "    return V\n",
    "\n",
    "n = 1000000\n",
    "\n",
    "L = list(range(n))\n",
    "L1 = shift_using_loop(L)\n",
    "L2 = shift_using_slices(L)\n",
    "\n",
    "A = array(list(range(n)))\n",
    "A1 = shift_using_loop(A)\n",
    "A2 = shift_using_slices(A)"
   ]
  },
  {
   "cell_type": "markdown",
   "metadata": {
    "slideshow": {
     "slide_type": "subslide"
    }
   },
   "source": [
    "## Example (cont)\n",
    "\n",
    "Instead of printing the time, we can return the value of the time as an attribute to the function."
   ]
  },
  {
   "cell_type": "code",
   "execution_count": 9,
   "metadata": {},
   "outputs": [
    {
     "name": "stdout",
     "output_type": "stream",
     "text": [
      "1.9073486328125e-06\n"
     ]
    }
   ],
   "source": [
    "def gettime(func):\n",
    "    @wraps(func)\n",
    "    def wrapper(*args, **kwargs):\n",
    "        starttime = time.time()\n",
    "        val = func(*args, **kwargs)\n",
    "        t = time.time()-starttime\n",
    "        wrapper.time = t\n",
    "        return val\n",
    "    return wrapper\n",
    "\n",
    "@gettime\n",
    "def using_loop(vec):\n",
    "    V = vec.copy()             \n",
    "    n = len(V)\n",
    "    for i in range(n-1, 0, -1): \n",
    "        V[i] = V[i-1]\n",
    "    return V\n",
    "\n",
    "@gettime\n",
    "def using_slices(vec):\n",
    "    V = vec.copy()\n",
    "    V[1:] = V[:-1]\n",
    "    return V\n",
    "\n",
    "using_slices(list(range(10)))\n",
    "print(using_slices.time)       # the attribute is used on the function, not the function call"
   ]
  },
  {
   "cell_type": "markdown",
   "metadata": {
    "slideshow": {
     "slide_type": "subslide"
    }
   },
   "source": [
    "## Example (cont)\n",
    "\n",
    "Using the attribute `time`, we can make a plot for comparison."
   ]
  },
  {
   "cell_type": "code",
   "execution_count": 11,
   "metadata": {},
   "outputs": [
    {
     "data": {
      "text/plain": [
       "[<matplotlib.lines.Line2D at 0x11a210790>,\n",
       " <matplotlib.lines.Line2D at 0x11a210a50>]"
      ]
     },
     "execution_count": 11,
     "metadata": {},
     "output_type": "execute_result"
    },
    {
     "data": {
      "image/png": "[encoded data removed]",
      "text/plain": [
       "<Figure size 432x288 with 1 Axes>"
      ]
     },
     "metadata": {
      "needs_background": "light"
     },
     "output_type": "display_data"
    }
   ],
   "source": [
    "from matplotlib.pyplot import *\n",
    "\n",
    "n = 1000\n",
    "x = list(range(1, n))\n",
    "y1 = []\n",
    "y2 = []\n",
    "for i in range(1, n):\n",
    "    L = list(range(i))\n",
    "    using_loop(L)\n",
    "    y1.append(using_loop.time)\n",
    "    using_slices(L)\n",
    "    y2.append(using_slices.time)\n",
    "    \n",
    "plot(x, y1, x, y2)"
   ]
  },
  {
   "cell_type": "markdown",
   "metadata": {
    "slideshow": {
     "slide_type": "slide"
    }
   },
   "source": [
    "## The `timeit` module\n",
    "\n",
    "The `timeit` module is ideal for measuring execution time for short statements."
   ]
  },
  {
   "cell_type": "code",
   "execution_count": 12,
   "metadata": {},
   "outputs": [
    {
     "name": "stdout",
     "output_type": "stream",
     "text": [
      "33\n",
      "33\n",
      "t1 = 0.006332751999991615\n",
      "t2 = 0.006540002999997796\n",
      "t3 = 0.0065215249999823754\n",
      "t4 = 0.00649838500001465\n"
     ]
    }
   ],
   "source": [
    "import timeit\n",
    "\n",
    "print(67//2)\n",
    "print(67>>1)  # shift right one step\n",
    "\n",
    "t1 = timeit.timeit('67//2')\n",
    "t2 = timeit.timeit('67>>2')\n",
    "t3 = timeit.timeit('0.67**2')\n",
    "t4 = timeit.timeit('0.67*0.67')\n",
    "print(\"t1 =\", t1)\n",
    "print(\"t2 =\", t2)\n",
    "print(\"t3 =\", t3)\n",
    "print(\"t4 =\", t4)"
   ]
  },
  {
   "cell_type": "markdown",
   "metadata": {
    "slideshow": {
     "slide_type": "subslide"
    }
   },
   "source": [
    "## `stmt` and `setup` \n",
    "\n",
    "The `timeit`function has several keyword arguments.\n",
    "\n",
    "```python\n",
    "timeit.timeit(stmt='pass', setup='pass', number=1000000)\n",
    "```\n",
    "\n",
    "The `setup` is executed before the calculation of the time.\n",
    "\n",
    "Comparing $3^2+4^2=5^2$ with $\\sqrt{3^2+4^2}=5$:"
   ]
  },
  {
   "cell_type": "code",
   "execution_count": 13,
   "metadata": {},
   "outputs": [
    {
     "name": "stdout",
     "output_type": "stream",
     "text": [
      "0.00019812300001831318\n",
      "0.009957407000001695\n"
     ]
    }
   ],
   "source": [
    "t1 = timeit.timeit('3**2+4**2==5**2', number=10000)\n",
    "t2 = timeit.timeit('sqrt(3**2+4**2)==5', setup='from numpy import sqrt', number=10000)\n",
    "print(t1)\n",
    "print(t2)"
   ]
  },
  {
   "cell_type": "markdown",
   "metadata": {
    "slideshow": {
     "slide_type": "subslide"
    }
   },
   "source": [
    "## `stmt` and `setup` (cont)\n",
    "\n",
    "If the functions `f1` and `f2` are saved in `testfile.py`, import from `testfile`.\n",
    "\n",
    "Which function is fastest?"
   ]
  },
  {
   "cell_type": "code",
   "execution_count": 14,
   "metadata": {},
   "outputs": [
    {
     "name": "stdout",
     "output_type": "stream",
     "text": [
      "1.4009885289999886\n",
      "1.563419921000019\n"
     ]
    }
   ],
   "source": [
    "def f1():\n",
    "    li = [i**2 for i in range(10000) if i%2==0]\n",
    "    \n",
    "def f2():\n",
    "    li = []\n",
    "    for i in range(10000):\n",
    "        if i%2 == 0:\n",
    "            li.append(i**2)\n",
    "            \n",
    "t1 = timeit.timeit('f1()', setup='from __main__ import f1', number=1000)\n",
    "t2 = timeit.timeit('f2()', setup='from __main__ import f2', number=1000)\n",
    "print(t1)\n",
    "print(t2)"
   ]
  },
  {
   "cell_type": "markdown",
   "metadata": {},
   "source": [
    "For other `timeit` methods, consult the course book."
   ]
  },
  {
   "cell_type": "markdown",
   "metadata": {
    "slideshow": {
     "slide_type": "slide"
    }
   },
   "source": [
    "## Iterators\n",
    "\n",
    "#### Definition: Iterable objects\n",
    "An **iterable** object is an object that implements a special method `__iter__`, which is expected to return an iterator object. The iterator object can be used  in for loops.\n",
    "\n",
    "#### Example\n",
    "`range`is a typical iterator\n",
    "\n",
    "#### Definition: Iterator\n",
    "An **iterator** has a special method `__next__`.\n"
   ]
  },
  {
   "cell_type": "markdown",
   "metadata": {
    "slideshow": {
     "slide_type": "subslide"
    }
   },
   "source": [
    "## Iterator example"
   ]
  },
  {
   "cell_type": "code",
   "execution_count": 15,
   "metadata": {},
   "outputs": [
    {
     "name": "stdout",
     "output_type": "stream",
     "text": [
      "0\n",
      "1\n",
      "2\n"
     ]
    },
    {
     "ename": "StopIteration",
     "evalue": "",
     "output_type": "error",
     "traceback": [
      "\u001b[0;31m---------------------------------------------------------------------------\u001b[0m",
      "\u001b[0;31mStopIteration\u001b[0m                             Traceback (most recent call last)",
      "\u001b[0;32m<ipython-input-15-c55fd165e852>\u001b[0m in \u001b[0;36m<module>\u001b[0;34m\u001b[0m\n\u001b[1;32m      5\u001b[0m \u001b[0mprint\u001b[0m\u001b[0;34m(\u001b[0m\u001b[0mrgi\u001b[0m\u001b[0;34m.\u001b[0m\u001b[0m__next__\u001b[0m\u001b[0;34m(\u001b[0m\u001b[0;34m)\u001b[0m\u001b[0;34m)\u001b[0m\u001b[0;34m\u001b[0m\u001b[0;34m\u001b[0m\u001b[0m\n\u001b[1;32m      6\u001b[0m \u001b[0mprint\u001b[0m\u001b[0;34m(\u001b[0m\u001b[0mrgi\u001b[0m\u001b[0;34m.\u001b[0m\u001b[0m__next__\u001b[0m\u001b[0;34m(\u001b[0m\u001b[0;34m)\u001b[0m\u001b[0;34m)\u001b[0m\u001b[0;34m\u001b[0m\u001b[0;34m\u001b[0m\u001b[0m\n\u001b[0;32m----> 7\u001b[0;31m \u001b[0mprint\u001b[0m\u001b[0;34m(\u001b[0m\u001b[0mrgi\u001b[0m\u001b[0;34m.\u001b[0m\u001b[0m__next__\u001b[0m\u001b[0;34m(\u001b[0m\u001b[0;34m)\u001b[0m\u001b[0;34m)\u001b[0m  \u001b[0;31m# raises a StopIteration exception\u001b[0m\u001b[0;34m\u001b[0m\u001b[0;34m\u001b[0m\u001b[0m\n\u001b[0m",
      "\u001b[0;31mStopIteration\u001b[0m: "
     ]
    }
   ],
   "source": [
    "rg = range(3)        # iterable object\n",
    "rgi = rg.__iter__()  # an iterator\n",
    "\n",
    "print(rgi.__next__())\n",
    "print(rgi.__next__())\n",
    "print(rgi.__next__())\n",
    "print(rgi.__next__())  # raises a StopIteration exception"
   ]
  },
  {
   "cell_type": "markdown",
   "metadata": {},
   "source": [
    "Iterators can be exhausted. They exists as objects but are of no use any more in your program."
   ]
  },
  {
   "cell_type": "markdown",
   "metadata": {
    "slideshow": {
     "slide_type": "subslide"
    }
   },
   "source": [
    "## Creating iterators\n",
    "\n",
    "Creation of iterators is possible with the keyword `yield`."
   ]
  },
  {
   "cell_type": "code",
   "execution_count": 16,
   "metadata": {},
   "outputs": [
    {
     "name": "stdout",
     "output_type": "stream",
     "text": [
      "1 3 5 7 9 "
     ]
    }
   ],
   "source": [
    "def odd_numbers(n):\n",
    "    '''generator for odd numbers less than n'''\n",
    "    for k in range(1, n, 2):\n",
    "        yield k\n",
    "\n",
    "on = odd_numbers(10)\n",
    "\n",
    "for odd in on:\n",
    "    print(odd, end=' ')"
   ]
  },
  {
   "cell_type": "markdown",
   "metadata": {
    "slideshow": {
     "slide_type": "subslide"
    }
   },
   "source": [
    "## Infinite iterators\n",
    "\n",
    "Iterators can be infinite:"
   ]
  },
  {
   "cell_type": "code",
   "execution_count": 17,
   "metadata": {},
   "outputs": [
    {
     "name": "stdout",
     "output_type": "stream",
     "text": [
      "69\n"
     ]
    }
   ],
   "source": [
    "def odd_numbers():\n",
    "    '''generator for odd numbers'''\n",
    "    k = -1\n",
    "    while True:\n",
    "        k += 2\n",
    "        yield k\n",
    "        \n",
    "on = odd_numbers()\n",
    "\n",
    "for odd in on:\n",
    "    if odd > 68:\n",
    "        print(odd)\n",
    "        break"
   ]
  },
  {
   "cell_type": "markdown",
   "metadata": {
    "slideshow": {
     "slide_type": "subslide"
    }
   },
   "source": [
    "## Another implementation of the Fibonacci sequence"
   ]
  },
  {
   "cell_type": "code",
   "execution_count": 18,
   "metadata": {},
   "outputs": [
    {
     "name": "stdout",
     "output_type": "stream",
     "text": [
      "0 1 1 2 3 5 8 13 21 34 55 "
     ]
    }
   ],
   "source": [
    "def fib_numbers(n):\n",
    "    a, b = 0, 1\n",
    "    for i in range(n+1):\n",
    "        yield a\n",
    "        a, b = b, a + b\n",
    "        \n",
    "for nr in fib_numbers(10):  # change to 1000\n",
    "    print(nr, end=' ')"
   ]
  },
  {
   "cell_type": "markdown",
   "metadata": {
    "slideshow": {
     "slide_type": "subslide"
    }
   },
   "source": [
    "## Iterator tools\n",
    "\n",
    "- `enumerate` is used to enumerate an iterable"
   ]
  },
  {
   "cell_type": "code",
   "execution_count": 19,
   "metadata": {},
   "outputs": [
    {
     "name": "stdout",
     "output_type": "stream",
     "text": [
      "0 a : 1 b : 2 c : "
     ]
    }
   ],
   "source": [
    "A = ['a', 'b', 'c']\n",
    "for i, x in enumerate(A):\n",
    "    print(i, x, end=' : ')"
   ]
  },
  {
   "cell_type": "markdown",
   "metadata": {},
   "source": [
    "- `reversed` creates an iterator from a list by going backwards"
   ]
  },
  {
   "cell_type": "code",
   "execution_count": 20,
   "metadata": {},
   "outputs": [
    {
     "name": "stdout",
     "output_type": "stream",
     "text": [
      "2 1 0 "
     ]
    }
   ],
   "source": [
    "B = [0, 1, 2]\n",
    "for elt in reversed(B):\n",
    "    print(elt, end=' ')"
   ]
  },
  {
   "cell_type": "markdown",
   "metadata": {
    "slideshow": {
     "slide_type": "subslide"
    }
   },
   "source": [
    "## Generator expressions\n",
    "\n",
    "Just as we have **list comprehension**, there is also **generator comprehension** (generator creation without using `yield`)."
   ]
  },
  {
   "cell_type": "code",
   "execution_count": 21,
   "metadata": {},
   "outputs": [
    {
     "name": "stdout",
     "output_type": "stream",
     "text": [
      "0 100 200 300 400 500 600 700 800 900 1000 1100 1200 1300 1400 1500 1600 1700 1800 1900 2000 2100 2200 2300 2400 2500 2600 2700 2800 2900 3000 3100 3200 3300 3400 3500 3600 3700 3800 3900 4000 4100 4200 4300 4400 4500 4600 4700 4800 4900 5000 5100 5200 5300 5400 5500 5600 5700 5800 5900 6000 6100 6200 6300 6400 6500 6600 6700 6800 6900 7000 7100 7200 7300 7400 7500 7600 7700 7800 7900 8000 8100 8200 8300 8400 8500 8600 8700 8800 8900 9000 9100 9200 9300 9400 9500 9600 9700 9800 9900 "
     ]
    }
   ],
   "source": [
    "my_gen = (n for n in range(0, 10000, 100))\n",
    "\n",
    "for elt in my_gen:\n",
    "    print(elt, end =' ')"
   ]
  }
 ],
 "metadata": {
  "celltoolbar": "Slideshow",
  "kernelspec": {
   "display_name": "Python 3",
   "language": "python",
   "name": "python3"
  },
  "language_info": {
   "codemirror_mode": {
    "name": "ipython",
    "version": 3
   },
   "file_extension": ".py",
   "mimetype": "text/x-python",
   "name": "python",
   "nbconvert_exporter": "python",
   "pygments_lexer": "ipython3",
   "version": "3.7.4"
  },
  "rise": {
   "autolaunch": true,
   "footer": "<h3>&nbsp;&nbsp;&nbsp;&nbsp;C. Führer, M. Christersson, Lund University, Sweden</h3>",
   "start_slideshow_at": "beginning",
   "theme": "simple",
   "transition": "slide"
  }
 },
 "nbformat": 4,
 "nbformat_minor": 2
}
