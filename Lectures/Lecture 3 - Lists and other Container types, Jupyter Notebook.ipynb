{
 "cells": [
  {
   "cell_type": "markdown",
   "metadata": {
    "slideshow": {
     "slide_type": "slide"
    }
   },
   "source": [
    "# Computational Programming with Python\n",
    "### Lecture 3: Lists and other Container types, Jupyter Notebook\n",
    "\n",
    "### Center for Mathematical Sciences, Lund University\n",
    "Lecturer: Claus Führer, Malin Christersson, Robert Klöfkorn\n"
   ]
  },
  {
   "cell_type": "markdown",
   "metadata": {
    "slideshow": {
     "slide_type": "slide"
    }
   },
   "source": [
    "## This lecture\n",
    "\n",
    "- The `range`function\n",
    "- More about lists\n",
    "- Dictionaries\n",
    "- Sets\n",
    "- Tuples\n",
    "- Container conversions\n",
    "- Jupyter Notebook"
   ]
  },
  {
   "cell_type": "markdown",
   "metadata": {
    "slideshow": {
     "slide_type": "slide"
    }
   },
   "source": [
    "## The `range` function\n",
    "\n",
    "You can use:\n",
    "\n",
    "`range(stop)` a sequence of integers &ge; 0 and &lt; `stop`\n",
    "\n",
    "`range(start, stop)` a sequence of integers &ge; `start` and &lt; `stop`\n",
    "\n",
    "`range(start, stop, step)` a sequence of integers that starts with `start` and then increases by `step` as long as the number is &lt; `stop`.  The step is also called a **stride**.\n",
    "\n",
    "\n",
    "**Example**: Show all non-negative multiples of 15 that are less than 100."
   ]
  },
  {
   "cell_type": "code",
   "execution_count": null,
   "metadata": {},
   "outputs": [],
   "source": [
    "for i in range(0, 100, 15):\n",
    "    print(i, end = \"   \")"
   ]
  },
  {
   "cell_type": "markdown",
   "metadata": {
    "slideshow": {
     "slide_type": "subslide"
    }
   },
   "source": [
    "### Negative strides\n",
    "\n",
    "When you use a negative stride, `start` should be larger than `stop`."
   ]
  },
  {
   "cell_type": "code",
   "execution_count": 1,
   "metadata": {},
   "outputs": [
    {
     "name": "stdout",
     "output_type": "stream",
     "text": [
      "100   80   60   40   20   0   -20   -40   -60   -80   "
     ]
    }
   ],
   "source": [
    "for i in range(100, -100, -20):\n",
    "    print(i, end = \"   \")"
   ]
  },
  {
   "cell_type": "markdown",
   "metadata": {
    "slideshow": {
     "slide_type": "slide"
    }
   },
   "source": [
    "## More about lists\n",
    "\n",
    "We can access elements of a list by using square brackets."
   ]
  },
  {
   "cell_type": "code",
   "execution_count": 2,
   "metadata": {},
   "outputs": [
    {
     "name": "stdout",
     "output_type": "stream",
     "text": [
      "C\n",
      "d\n"
     ]
    }
   ],
   "source": [
    "L = ['C', 'l', 'o', 'u', 'd']\n",
    "print(L[0])\n",
    "print(L[-1])"
   ]
  },
  {
   "cell_type": "markdown",
   "metadata": {},
   "source": [
    "In a similar way we can access sublists."
   ]
  },
  {
   "cell_type": "markdown",
   "metadata": {
    "slideshow": {
     "slide_type": "subslide"
    }
   },
   "source": [
    "## Creating sublists\n",
    "\n",
    "### Slicing\n",
    "**Slicing** a list between index $i$ and $j$ is forming a new list by taking elements starting at $i$ and ending *just before* $j$.\n",
    "\n",
    "#### Example"
   ]
  },
  {
   "cell_type": "code",
   "execution_count": 3,
   "metadata": {},
   "outputs": [
    {
     "name": "stdout",
     "output_type": "stream",
     "text": [
      "['l', 'o', 'u']\n"
     ]
    }
   ],
   "source": [
    "L = ['C', 'l', 'o', 'u', 'd']\n",
    "print(L[1:4])"
   ]
  },
  {
   "cell_type": "markdown",
   "metadata": {},
   "source": [
    "Compare with `range`."
   ]
  },
  {
   "cell_type": "markdown",
   "metadata": {
    "slideshow": {
     "slide_type": "subslide"
    }
   },
   "source": [
    "## Partial slicing\n",
    "\n",
    "One may omit the first or the last bound of the slicing:"
   ]
  },
  {
   "cell_type": "code",
   "execution_count": 4,
   "metadata": {},
   "outputs": [
    {
     "name": "stdout",
     "output_type": "stream",
     "text": [
      "L[1:] = ['l', 'o', 'u', 'd']\n",
      "L[:3] = ['C', 'l', 'o']\n",
      "L[-2:] = ['u', 'd']\n",
      "L[:-2] = ['C', 'l', 'o']\n"
     ]
    }
   ],
   "source": [
    "L = ['C', 'l', 'o', 'u', 'd']\n",
    "print(\"L[1:] =\", L[1:])     # to the end\n",
    "print(\"L[:3] =\", L[:3])     # from the start\n",
    "print(\"L[-2:] =\", L[-2:])  # negative index\n",
    "print(\"L[:-2] =\", L[0:-2])"
   ]
  },
  {
   "cell_type": "markdown",
   "metadata": {},
   "source": [
    "### Mathematical analogy\n",
    "\n",
    "The interval $[-\\infty, a)$ means: take all numbers strictly lower than $a$, cf. syntax of `L[:j]`."
   ]
  },
  {
   "cell_type": "markdown",
   "metadata": {
    "slideshow": {
     "slide_type": "subslide"
    }
   },
   "source": [
    "## To sum it up\n",
    "\n",
    "- `L[i:]` take all elements *except* the $i$ first ones\n",
    "- `L[:i]` take the first $i$ elements\n",
    "- `L[-i:]` take the last $i$ elements\n",
    "- `L[:-i]` take all elements *except* the $i$ last ones"
   ]
  },
  {
   "cell_type": "markdown",
   "metadata": {
    "slideshow": {
     "slide_type": "subslide"
    }
   },
   "source": [
    "## Examples\n",
    "\n",
    "From a list `L`, create the red sublists.\n",
    "\n",
    "![lists](http://cmc.education/slides/notebookImages/lists.svg)\n"
   ]
  },
  {
   "cell_type": "markdown",
   "metadata": {
    "slideshow": {
     "slide_type": "subslide"
    }
   },
   "source": [
    "## Another example\n",
    "\n",
    "What will be printed when following code is executed?"
   ]
  },
  {
   "cell_type": "code",
   "execution_count": null,
   "metadata": {},
   "outputs": [],
   "source": [
    "nr1 = 5\n",
    "nr2 = nr1\n",
    "nr1 = 9\n",
    "print(\"nr2 =\", nr2)\n",
    "\n",
    "lst1 = [5, 5]\n",
    "lst2 = lst1\n",
    "lst1[0] = 9\n",
    "print(\"lst2[0] = \", lst2[0])"
   ]
  },
  {
   "cell_type": "markdown",
   "metadata": {
    "slideshow": {
     "slide_type": "slide"
    }
   },
   "source": [
    "## Dictionaries\n",
    "\n",
    "A dictionary is an unordered structure of (key, values) pairs. It is similar to a list but the objects are accessed by **keys** instead of index.\n",
    "\n",
    "One indicates dictionaries by square brackets:"
   ]
  },
  {
   "cell_type": "code",
   "execution_count": 5,
   "metadata": {},
   "outputs": [
    {
     "data": {
      "text/plain": [
       "True"
      ]
     },
     "execution_count": 5,
     "metadata": {},
     "output_type": "execute_result"
    }
   ],
   "source": [
    "homework = {'Alice': True, 'Bob': False}\n",
    "homework['Alice']"
   ]
  },
  {
   "cell_type": "code",
   "execution_count": 6,
   "metadata": {},
   "outputs": [
    {
     "data": {
      "text/plain": [
       "True"
      ]
     },
     "execution_count": 6,
     "metadata": {},
     "output_type": "execute_result"
    }
   ],
   "source": [
    "homework['Bob'] = True\n",
    "homework['Bob']"
   ]
  },
  {
   "cell_type": "markdown",
   "metadata": {
    "slideshow": {
     "slide_type": "subslide"
    }
   },
   "source": [
    "## Adding and deleting"
   ]
  },
  {
   "cell_type": "code",
   "execution_count": 7,
   "metadata": {},
   "outputs": [
    {
     "name": "stdout",
     "output_type": "stream",
     "text": [
      "{'Alice': True, 'Bob': False, 'Caesar': True}\n",
      "{'Alice': True, 'Caesar': True}\n"
     ]
    }
   ],
   "source": [
    "homework = {'Alice': True, 'Bob': False}\n",
    "homework['Caesar'] = True\n",
    "print(homework)\n",
    "\n",
    "del homework['Bob']\n",
    "print(homework)"
   ]
  },
  {
   "cell_type": "markdown",
   "metadata": {},
   "source": [
    "The keys must be unique."
   ]
  },
  {
   "cell_type": "markdown",
   "metadata": {
    "slideshow": {
     "slide_type": "subslide"
    }
   },
   "source": [
    "## Datatypes of keys\n",
    "\n",
    "Any **immutable** (unchangable) object can be used as a key, e.g. strings, numbers, Booleans, etc are fine, but not lists."
   ]
  },
  {
   "cell_type": "code",
   "execution_count": 8,
   "metadata": {},
   "outputs": [
    {
     "name": "stdout",
     "output_type": "stream",
     "text": [
      "alpha\n",
      "Greek\n"
     ]
    }
   ],
   "source": [
    "my_dict = {1: \"alpha\", 2: \"beta\", 3: \"gamma\", \"lang\": \"Greek\"}\n",
    "print(my_dict[1])\n",
    "print(my_dict[\"lang\"])"
   ]
  },
  {
   "cell_type": "markdown",
   "metadata": {
    "slideshow": {
     "slide_type": "subslide"
    }
   },
   "source": [
    "## Looping through dictionaries\n",
    "\n",
    "A dictionary is an object with the following useful methods: keys, items, values.\n",
    "\n",
    "By default a dictionary is considered as a list of keys:"
   ]
  },
  {
   "cell_type": "code",
   "execution_count": 9,
   "metadata": {},
   "outputs": [
    {
     "name": "stdout",
     "output_type": "stream",
     "text": [
      "The key Alice has the value True.\n",
      "The key Caesar has the value True.\n"
     ]
    }
   ],
   "source": [
    "for key in homework:  # or homework.keys()\n",
    "    print(f\"The key {key} has the value {homework[key]}.\")"
   ]
  },
  {
   "cell_type": "code",
   "execution_count": 10,
   "metadata": {},
   "outputs": [
    {
     "name": "stdout",
     "output_type": "stream",
     "text": [
      "Alice: True\n",
      "Caesar: True\n"
     ]
    }
   ],
   "source": [
    "for key, value in homework.items():  # using the items method\n",
    "    print(f\"{key}: {value}\")"
   ]
  },
  {
   "cell_type": "code",
   "execution_count": 11,
   "metadata": {},
   "outputs": [
    {
     "name": "stdout",
     "output_type": "stream",
     "text": [
      "True\n",
      "True\n"
     ]
    }
   ],
   "source": [
    "for value in homework.values():  # using the value method\n",
    "    print(value)"
   ]
  },
  {
   "cell_type": "markdown",
   "metadata": {
    "slideshow": {
     "slide_type": "subslide"
    }
   },
   "source": [
    "## Dictionaries in this course\n",
    "\n",
    "Dictionaries are mainly used for\n",
    "\n",
    "- providing functions with argument in a compact way (Lecture 4)\n",
    "- to collect options of a method:\n",
    "\n",
    "`{'tol':1.e-3, 'step':0.1, 'maxit':1000}`"
   ]
  },
  {
   "cell_type": "markdown",
   "metadata": {
    "slideshow": {
     "slide_type": "slide"
    }
   },
   "source": [
    "## Sets\n",
    "\n",
    "Sets are containers which mimic sets in their mathematical sense:\n",
    "\n",
    "### Definition:\n",
    "A set is a collection of well defined and distinct objects, considered as an object in its own right. (Wikipedia)"
   ]
  },
  {
   "cell_type": "code",
   "execution_count": 12,
   "metadata": {},
   "outputs": [],
   "source": [
    "fruits = set(['apple', 'pear', 'banana'])"
   ]
  },
  {
   "cell_type": "markdown",
   "metadata": {},
   "source": [
    "The most important operation is `in`, meaning $\\in$ (is element of):"
   ]
  },
  {
   "cell_type": "code",
   "execution_count": 13,
   "metadata": {},
   "outputs": [
    {
     "data": {
      "text/plain": [
       "False"
      ]
     },
     "execution_count": 13,
     "metadata": {},
     "output_type": "execute_result"
    }
   ],
   "source": [
    "'plum' in fruits"
   ]
  },
  {
   "cell_type": "code",
   "execution_count": 14,
   "metadata": {},
   "outputs": [
    {
     "data": {
      "text/plain": [
       "True"
      ]
     },
     "execution_count": 14,
     "metadata": {},
     "output_type": "execute_result"
    }
   ],
   "source": [
    "'pear' in fruits"
   ]
  },
  {
   "cell_type": "markdown",
   "metadata": {
    "slideshow": {
     "slide_type": "subslide"
    }
   },
   "source": [
    "## Operations on Sets\n",
    "\n",
    "- $A \\cap B$ &hyphen; method `intersection`\n",
    "- $A \\cup B$ &hyphen; method `union`\n",
    "- $A/B$, relative complement &hyphen; subtract operation "
   ]
  },
  {
   "cell_type": "code",
   "execution_count": 15,
   "metadata": {},
   "outputs": [
    {
     "name": "stdout",
     "output_type": "stream",
     "text": [
      "False\n",
      "extendedbasket = {'kiwi', 'pear', 'apple', 'mango', 'banana'}\n",
      "goodfruits = {'banana', 'apple'}\n"
     ]
    }
   ],
   "source": [
    "fruitbasket = set(['apple', 'pear', 'banana'])\n",
    "rotten = set(['pear', 'orange'])\n",
    "exotic = set(['banana', 'mango', 'kiwi'])\n",
    "emptyset = set([])\n",
    "\n",
    "print(emptyset == fruitbasket.intersection(rotten)) # are all edible\n",
    "\n",
    "extendedbasket = fruitbasket.union(exotic)\n",
    "goodfruits = fruitbasket - rotten\n",
    "\n",
    "print(\"extendedbasket =\", extendedbasket)\n",
    "print(\"goodfruits =\", goodfruits)"
   ]
  },
  {
   "cell_type": "markdown",
   "metadata": {
    "slideshow": {
     "slide_type": "subslide"
    }
   },
   "source": [
    "## No duplicate elements\n",
    "\n",
    "\"...distinct objects...\" (see mathematical definition)\n",
    "\n",
    "This is reflected in Python by"
   ]
  },
  {
   "cell_type": "code",
   "execution_count": 16,
   "metadata": {},
   "outputs": [
    {
     "data": {
      "text/plain": [
       "True"
      ]
     },
     "execution_count": 16,
     "metadata": {},
     "output_type": "execute_result"
    }
   ],
   "source": [
    "\n",
    "set(['apple', 'apple', 'pear']) == set(['apple', 'pear'])"
   ]
  },
  {
   "cell_type": "markdown",
   "metadata": {
    "slideshow": {
     "slide_type": "slide"
    }
   },
   "source": [
    "## Tuples\n",
    "\n",
    "### Definition\n",
    "A **tuple** is an **immutable** list. Immutable means that it cannot be modified.\n",
    "\n",
    "### Example"
   ]
  },
  {
   "cell_type": "code",
   "execution_count": 17,
   "metadata": {},
   "outputs": [
    {
     "name": "stdout",
     "output_type": "stream",
     "text": [
      "The length of my_tuple is 3\n",
      "<class 'tuple'>\n"
     ]
    }
   ],
   "source": [
    "my_tuple = (1, 2, 3) # our first tuple\n",
    "my_tuple = 1, 2, 3   # parentheses not required\n",
    "print(\"The length of my_tuple is\", len(my_tuple))  # same as for lists\n",
    "\n",
    "# my_tuple[0] = 'a'    # error! tuples are immutable\n",
    "\n",
    "singleton = 1,    # note the comma\n",
    "singleton = (1,)  # preferred for readability\n",
    "print(type(singleton))"
   ]
  },
  {
   "cell_type": "markdown",
   "metadata": {
    "slideshow": {
     "slide_type": "subslide"
    }
   },
   "source": [
    "## Packing and unpacking\n",
    "\n",
    "One may assign several variables at once by **unpacking** a list or a tuple:\n",
    "\n",
    "```python\n",
    "\n",
    "a, b = 0, 1     # a gets value 0 and b gets value 1\n",
    "a, b = [0, 1]   # exactly the same\n",
    "(a, b) = 0, 1   # same\n",
    "[a, b] = [0, 1] # same\n",
    "```\n",
    "\n",
    "### The swapping trick!\n",
    "\n",
    "```python\n",
    "\n",
    "a, b = b, a\n",
    "```"
   ]
  },
  {
   "cell_type": "markdown",
   "metadata": {
    "slideshow": {
     "slide_type": "subslide"
    }
   },
   "source": [
    "## Returning multiple values\n",
    "\n",
    "A function may return several values:"
   ]
  },
  {
   "cell_type": "code",
   "execution_count": 18,
   "metadata": {},
   "outputs": [
    {
     "name": "stdout",
     "output_type": "stream",
     "text": [
      "min_info = (0, 2)\n",
      "m = 0 and i = 2\n"
     ]
    }
   ],
   "source": [
    "def argmin(L):  # return the minimum and index\n",
    "    minimum = min(L)\n",
    "    minimum_index = L.index(minimum)\n",
    "    return minimum, minimum_index  # a tuple\n",
    "\n",
    "min_info = argmin([1, 2, 0])\n",
    "print(\"min_info =\", min_info)\n",
    "\n",
    "# often unpacking is used directly\n",
    "m, i = argmin([1, 2, 0])\n",
    "print(f\"m = {m} and i = {i}\")"
   ]
  },
  {
   "cell_type": "markdown",
   "metadata": {
    "slideshow": {
     "slide_type": "subslide"
    }
   },
   "source": [
    "## A final word on tuples\n",
    "\n",
    "- Tuples are nothing else than immutable lists\n",
    "- In most cases lists may be used instead of tuples\n",
    "- The parentheses free notation is nice but **dangerous**, you should **use parenthesis when you're not sure**:\n",
    "\n",
    "```python\n",
    "\n",
    "a, b = b, a    # the swap trick, equivalent to\n",
    "(a, b) = (b, a)\n",
    "# but:\n",
    "```"
   ]
  },
  {
   "cell_type": "code",
   "execution_count": 19,
   "metadata": {},
   "outputs": [
    {
     "name": "stdout",
     "output_type": "stream",
     "text": [
      "value1 = (1, False, 4)\n",
      "value2 = False\n"
     ]
    }
   ],
   "source": [
    "value1 = 1, 2 == 3, 4         # a tuple\n",
    "value2 = (1, 2) == (3, 4)   # a bool\n",
    "print(\"value1 =\", value1)\n",
    "print(\"value2 =\", value2)"
   ]
  },
  {
   "cell_type": "markdown",
   "metadata": {
    "slideshow": {
     "slide_type": "slide"
    }
   },
   "source": [
    "## Container conversions\n",
    "\n",
    "|From | To | Command |\n",
    "|:---|:---|:---|\n",
    "| List | Tuple | `tuple([1, 2, 3])`|\n",
    "| Tuple | List | `list((1, 2, 3))` |\n",
    "| List, Tuple | Set | `set([1,2,3), set((1,2,3))`|\n",
    "| Set |List| `list({1, 2, 3})`|\n",
    "| Dictionary | List | `{'a':4}.values()`|\n",
    "| List | Dictionary | -|"
   ]
  },
  {
   "cell_type": "markdown",
   "metadata": {
    "slideshow": {
     "slide_type": "subslide"
    }
   },
   "source": [
    "## Summary and overview\n",
    "\n",
    "| Type | Access | Order | Duplicate values | Mutability |\n",
    "|:---:|:---:|:---:|:---:|:---:|\n",
    "| List | index | yes | yes | yes |\n",
    "| Tuple | index | yes | yes | no |\n",
    "| Dictionary | key | no | yes | yes |\n",
    "| Set | no | no | no | yes |"
   ]
  },
  {
   "cell_type": "markdown",
   "metadata": {
    "slideshow": {
     "slide_type": "slide"
    }
   },
   "source": [
    "## Jupyter Notebooks\n",
    "\n",
    "A Jupyter notebook combines text and code.\n",
    "\n",
    "You can make notebooks using Anaconda.\n",
    "\n",
    "For collaborative writing (online) you can use  [Google colab](https://colab.research.google.com/notebooks/welcome.ipynb).\n",
    "\n"
   ]
  },
  {
   "cell_type": "markdown",
   "metadata": {
    "slideshow": {
     "slide_type": "subslide"
    }
   },
   "source": [
    "## Notebooks basics\n",
    "\n",
    "From Anaconda launch Jupyter Notebook (a server is started).\n",
    "\n",
    "Choose a directory and click on `New -> Python 3`. \n",
    "\n",
    "Rename the Notebook at the top. Write some code. Click on <kbd>shift</kbd> + <kbd>enter</kbd> to execute.\n",
    "\n",
    "<img src=\"http://cmc.education/slides/notebookImages/notebook1.png\" alt=\"notebook1\" align=\"center\" style=\"border:2px solid #ccc; border-radius: 5px;\"/>"
   ]
  },
  {
   "cell_type": "markdown",
   "metadata": {
    "slideshow": {
     "slide_type": "subslide"
    }
   },
   "source": [
    "## Notebooks &hyphen; code\n",
    "\n",
    "Imports, variables, functions, etc. that you make in cell, are available in succeeding cells (if the cell has been executed)"
   ]
  },
  {
   "cell_type": "code",
   "execution_count": 20,
   "metadata": {},
   "outputs": [],
   "source": [
    "from numpy import *\n",
    "from matplotlib.pyplot import *\n",
    "\n",
    "# use a magic function for rendering matplotlib plots\n",
    "%matplotlib inline  \n",
    "x = linspace(0, 4*pi, 100)\n",
    "y = sin(x)"
   ]
  },
  {
   "cell_type": "code",
   "execution_count": 21,
   "metadata": {},
   "outputs": [
    {
     "data": {
      "text/plain": [
       "[<matplotlib.lines.Line2D at 0x1191384d0>]"
      ]
     },
     "execution_count": 21,
     "metadata": {},
     "output_type": "execute_result"
    },
    {
     "data": {
      "image/png": "[encoded data removed]",
      "text/plain": [
       "<Figure size 432x288 with 1 Axes>"
      ]
     },
     "metadata": {
      "needs_background": "light"
     },
     "output_type": "display_data"
    }
   ],
   "source": [
    "plot(x, y)"
   ]
  },
  {
   "cell_type": "markdown",
   "metadata": {
    "slideshow": {
     "slide_type": "subslide"
    }
   },
   "source": [
    "## Notebooks &hyphen; code (cont)\n",
    "\n",
    "Under the menu `Kernel` you can `Restart & Clear Output` or `Restart & Run All`.\n",
    "\n",
    "Using the tools in the toolbar, you can move cells up or down.\n",
    "\n",
    "To delete a cell use the scissors tool.\n",
    "\n",
    "<img src=\"http://cmc.education/slides/notebookImages/notebook2.png\" alt=\"notebook2\" align=\"center\" style=\"border:2px solid #ccc; border-radius: 5px;\"/>"
   ]
  },
  {
   "cell_type": "markdown",
   "metadata": {
    "slideshow": {
     "slide_type": "subslide"
    }
   },
   "source": [
    "## Notebooks &hyphen; text\n",
    "\n",
    "By default a cell is made for code. To write text, change the cell to \"Markdown\".\n",
    "\n",
    "The text is formatted using markdown syntax.\n",
    "\n",
    "The text in a cell is formatted when pressing <kbd>shift</kbd>+<kbd>enter</kbd>."
   ]
  },
  {
   "cell_type": "markdown",
   "metadata": {
    "slideshow": {
     "slide_type": "subslide"
    }
   },
   "source": [
    "## Basic markdown syntax"
   ]
  },
  {
   "cell_type": "markdown",
   "metadata": {},
   "source": [
    "```\n",
    "# Main heading\n",
    "\n",
    "## Smaller heading\n",
    "\n",
    "### Even smaller\n",
    "\n",
    "**bold text**\n",
    "\n",
    "*text in italics*\n",
    "\n",
    "An unnumbered list:\n",
    "- item 1\n",
    "- item 2\n",
    "\n",
    "A numbered list:\n",
    "1. item 1\n",
    "2. item 2\n",
    "```"
   ]
  },
  {
   "cell_type": "markdown",
   "metadata": {
    "slideshow": {
     "slide_type": "subslide"
    }
   },
   "source": [
    "## LaTeX formulas\n",
    "\n",
    "You make an inline formula, lika $f(x) = x^2$, by enclosing LaTeX-code between single dollar signs.\n",
    "\n",
    "You make a display style formula by enclosing the code between double dollar signs:\n",
    "\n",
    "$$\\int_0^\\pi\\!\\sin(2x)\\,dx$$"
   ]
  },
  {
   "cell_type": "markdown",
   "metadata": {
    "slideshow": {
     "slide_type": "subslide"
    }
   },
   "source": [
    "## Interactive slideshows (like this one)\n",
    "\n",
    "To make interactive slideshows, you must install RISE.\n",
    "\n",
    "For more information see [anaconda.org/conda-forge/rise](anaconda.org/conda-forge/rise)"
   ]
  }
 ],
 "metadata": {
  "celltoolbar": "Slideshow",
  "kernelspec": {
   "display_name": "Python 3",
   "language": "python",
   "name": "python3"
  },
  "language_info": {
   "codemirror_mode": {
    "name": "ipython",
    "version": 3
   },
   "file_extension": ".py",
   "mimetype": "text/x-python",
   "name": "python",
   "nbconvert_exporter": "python",
   "pygments_lexer": "ipython3",
   "version": "3.8.3"
  },
  "rise": {
   "autolaunch": true,
   "footer": " ",
   "theme": "simple",
   "transition": "slide"
  }
 },
 "nbformat": 4,
 "nbformat_minor": 2
}
