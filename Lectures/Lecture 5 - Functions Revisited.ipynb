{
 "cells": [
  {
   "cell_type": "markdown",
   "metadata": {
    "slideshow": {
     "slide_type": "slide"
    }
   },
   "source": [
    "# Computational Programming with Python\n",
    "### Lecture 5: Functions Revisited\n",
    "\n",
    "### Center for Mathematical Sciences, Lund University\n",
    "Lecturer: Claus Führer, Malin Christersson\n"
   ]
  },
  {
   "cell_type": "markdown",
   "metadata": {
    "slideshow": {
     "slide_type": "slide"
    }
   },
   "source": [
    "## This lecture\n",
    "\n",
    "- Revision: recurrence relations and list comprehension\n",
    "- Functions returning functions (partial application)\n",
    "- Unpacking arguments, the star operator\n",
    "- Star operators in function definitions\n",
    "- Using an optional number of arguments\n",
    "- Numerical integration\n",
    "- The bisection method"
   ]
  },
  {
   "cell_type": "markdown",
   "metadata": {
    "slideshow": {
     "slide_type": "slide"
    }
   },
   "source": [
    "## Revison: recurrence relations and fixed point iteration\n",
    "\n",
    "A recursive equation \n",
    "\n",
    "\\begin{cases}\n",
    "a_0 = c \\\\\n",
    "a_{n+1} = f(a_n), n \\ge 0\n",
    "\\end{cases}\n",
    "\n",
    "and the corresponding fixed point iteration"
   ]
  },
  {
   "cell_type": "code",
   "execution_count": null,
   "metadata": {},
   "outputs": [],
   "source": [
    "a = c              # some initial value c\n",
    "for i in range(n): # for some n\n",
    "    a = f(a)       # where f is some function"
   ]
  },
  {
   "cell_type": "markdown",
   "metadata": {},
   "source": [
    "You will ge given two examples during the break."
   ]
  },
  {
   "cell_type": "markdown",
   "metadata": {
    "slideshow": {
     "slide_type": "subslide"
    }
   },
   "source": [
    "## Revision: list comprehension\n",
    "\n",
    "The syntax of  a list comprehension is:\n",
    "\n",
    "`[<expr> for <variable> in <list>]`\n",
    "\n",
    "You can use a conditional in a list comprehension:\n",
    "\n",
    "`[<expr> for <variable> in <list> if <condition>]`\n",
    "\n",
    "You will be given some easy examples during the break"
   ]
  },
  {
   "cell_type": "markdown",
   "metadata": {
    "slideshow": {
     "slide_type": "subslide"
    }
   },
   "source": [
    "## List comprehension and nested lists\n",
    "\n",
    "**Example**\n",
    "\n",
    "Produce following matrix as nested lists\n",
    "\n",
    "$$\n",
    "\\begin{bmatrix}\n",
    "1 & 2 & 3 \\\\\n",
    "10 & 20 & 30 \\\\\n",
    "100 & 200 & 300\n",
    "\\end{bmatrix}\n",
    "$$"
   ]
  },
  {
   "cell_type": "code",
   "execution_count": 1,
   "metadata": {},
   "outputs": [
    {
     "name": "stdout",
     "output_type": "stream",
     "text": [
      "[[1, 2, 3], [10, 20, 30], [100, 200, 300]]\n"
     ]
    }
   ],
   "source": [
    "m1 = [ [1, 2, 3],\n",
    "       [10, 20, 30],\n",
    "       [100, 200, 300]]\n",
    "print(m1)"
   ]
  },
  {
   "cell_type": "markdown",
   "metadata": {
    "slideshow": {
     "slide_type": "subslide"
    }
   },
   "source": [
    "We can make each row using list comprehension"
   ]
  },
  {
   "cell_type": "code",
   "execution_count": 2,
   "metadata": {},
   "outputs": [
    {
     "name": "stdout",
     "output_type": "stream",
     "text": [
      "[[1, 2, 3], [10, 20, 30], [100, 200, 300]]\n"
     ]
    }
   ],
   "source": [
    "n = 3\n",
    "m2 = [ [i for i in range(1, n+1)],\n",
    "       [10*i for i in range(1, n+1)],\n",
    "       [100*i for i in range(1, n+1)]]\n",
    "print(m2)"
   ]
  },
  {
   "cell_type": "markdown",
   "metadata": {},
   "source": [
    "or changing the arguments of the range-function"
   ]
  },
  {
   "cell_type": "code",
   "execution_count": 3,
   "metadata": {},
   "outputs": [
    {
     "name": "stdout",
     "output_type": "stream",
     "text": [
      "[[1, 2, 3], [10, 20, 30], [100, 200, 300]]\n"
     ]
    }
   ],
   "source": [
    "m3 = [ [i for i in range(1, n+1)],\n",
    "       [i for i in range(10, n*10 + 1, 10)],\n",
    "       [i for i in range(100, n*100 + 1, 100)]]\n",
    "print(m3)"
   ]
  },
  {
   "cell_type": "markdown",
   "metadata": {
    "slideshow": {
     "slide_type": "subslide"
    }
   },
   "source": [
    "### Using nested list comprehension"
   ]
  },
  {
   "cell_type": "code",
   "execution_count": 4,
   "metadata": {},
   "outputs": [
    {
     "name": "stdout",
     "output_type": "stream",
     "text": [
      "[[1, 2, 3], [10, 20, 30], [100, 200, 300]]\n"
     ]
    }
   ],
   "source": [
    "m4 = [ [10**exponent*i for i in range(1, n+1)] for exponent in range(n)]\n",
    "print(m4)"
   ]
  },
  {
   "cell_type": "markdown",
   "metadata": {},
   "source": [
    "or"
   ]
  },
  {
   "cell_type": "code",
   "execution_count": 5,
   "metadata": {},
   "outputs": [
    {
     "name": "stdout",
     "output_type": "stream",
     "text": [
      "[[1, 2, 3], [10, 20, 30], [100, 200, 300]]\n"
     ]
    }
   ],
   "source": [
    "m5 = [ [i for i in range(10**exponent, n*10**exponent+1, 10**exponent)] for exponent in range(n)]\n",
    "print(m5)"
   ]
  },
  {
   "cell_type": "markdown",
   "metadata": {
    "slideshow": {
     "slide_type": "subslide"
    }
   },
   "source": [
    "### Using a for loop and list comprehension"
   ]
  },
  {
   "cell_type": "code",
   "execution_count": 6,
   "metadata": {},
   "outputs": [
    {
     "name": "stdout",
     "output_type": "stream",
     "text": [
      "[[1, 2, 3], [10, 20, 30], [100, 200, 300]]\n"
     ]
    }
   ],
   "source": [
    "m6 = []\n",
    "\n",
    "for row in range(n):\n",
    "    m6.append([10**row*i for i in range(1, n+1)])\n",
    "print(m6)"
   ]
  },
  {
   "cell_type": "markdown",
   "metadata": {},
   "source": [
    "### Using a nested for loop"
   ]
  },
  {
   "cell_type": "code",
   "execution_count": 7,
   "metadata": {},
   "outputs": [
    {
     "name": "stdout",
     "output_type": "stream",
     "text": [
      "[[1, 2, 3], [10, 20, 30], [100, 200, 300]]\n"
     ]
    }
   ],
   "source": [
    "m7 = []\n",
    "\n",
    "for row in range(n):\n",
    "    m7.append([])\n",
    "    for i in range(1, n+1):\n",
    "        m7[row].append(10**row*i)\n",
    "print(m7)"
   ]
  },
  {
   "cell_type": "markdown",
   "metadata": {
    "slideshow": {
     "slide_type": "slide"
    }
   },
   "source": [
    "### Making slices of a nested list\n",
    "\n",
    "Given `m1 = [ [1, 2, 3], [10, 20, 30], [100, 200, 300]]`, produce\n",
    "\n",
    "$$\n",
    "\\begin{bmatrix}\n",
    "1  \\\\\n",
    "10 & 20  \\\\\n",
    "100 & 200 & 300\n",
    "\\end{bmatrix}\n",
    "$$"
   ]
  },
  {
   "cell_type": "code",
   "execution_count": 8,
   "metadata": {},
   "outputs": [
    {
     "name": "stdout",
     "output_type": "stream",
     "text": [
      "[[1], [10, 20], [100, 200, 300]]\n"
     ]
    }
   ],
   "source": [
    "s1 = [ m1[0][: 1],\n",
    "       m1[1][: 2],\n",
    "       m1[2][:]]\n",
    "print(s1)"
   ]
  },
  {
   "cell_type": "markdown",
   "metadata": {},
   "source": [
    "or"
   ]
  },
  {
   "cell_type": "code",
   "execution_count": 9,
   "metadata": {},
   "outputs": [
    {
     "name": "stdout",
     "output_type": "stream",
     "text": [
      "[[1], [10, 20], [100, 200, 300]]\n"
     ]
    }
   ],
   "source": [
    "s2 = [m1[i][:i+1] for i in range(n) ]\n",
    "print(s2)"
   ]
  },
  {
   "cell_type": "markdown",
   "metadata": {
    "slideshow": {
     "slide_type": "slide"
    }
   },
   "source": [
    "## Recall that a function can return a function"
   ]
  },
  {
   "cell_type": "code",
   "execution_count": null,
   "metadata": {},
   "outputs": [],
   "source": [
    "def f(x, a, b, c, d): \n",
    "    return a*x**3+b*x**2+c*x+d\n",
    "\n",
    "def derivative1(f, x, h = 1e-3): \n",
    "    return (f(x+h)-f(x))/h\n",
    "\n",
    "def make_one_parameter_func(f, a, b, c, d):\n",
    "    def newf(x):\n",
    "        return f(x, a, b, c, d)\n",
    "    return newf  # a function is returned\n",
    "\n",
    "newf = make_one_parameter_func(f, 1, 1, 0, 0)\n",
    "print(\"newf(1) =\", newf(1))  \n",
    "der = derivative1(newf, 1)\n",
    "print(\"der =\", der)"
   ]
  },
  {
   "cell_type": "markdown",
   "metadata": {
    "slideshow": {
     "slide_type": "subslide"
    }
   },
   "source": [
    "### An optional number of arguments\n",
    "\n",
    "In order to handle\n",
    "\n",
    "$$g(x) = A\\sin(\\omega x)$$\n",
    "\n",
    "or \n",
    "\n",
    "$$h(x) = ax^4 +bx^3 +cx^2+dx +e$$\n",
    "\n",
    "we need to handle an optional number of arguments."
   ]
  },
  {
   "cell_type": "markdown",
   "metadata": {
    "slideshow": {
     "slide_type": "subslide"
    }
   },
   "source": [
    "## Unpacking arguments\n",
    "\n",
    "Positional arguments remind us of lists. Keyword arguments remind us of dictionaries."
   ]
  },
  {
   "cell_type": "code",
   "execution_count": 10,
   "metadata": {},
   "outputs": [
    {
     "data": {
      "text/plain": [
       "[<matplotlib.lines.Line2D at 0x11937a850>]"
      ]
     },
     "execution_count": 10,
     "metadata": {},
     "output_type": "execute_result"
    },
    {
     "data": {
      "image/png": "[encoded data removed]",
      "text/plain": [
       "<Figure size 288x288 with 1 Axes>"
      ]
     },
     "metadata": {
      "needs_background": "light"
     },
     "output_type": "display_data"
    }
   ],
   "source": [
    "from numpy import*\n",
    "from matplotlib.pyplot import *\n",
    "%matplotlib inline\n",
    "\n",
    "figure(figsize = (4, 4))  # make it square-shaped\n",
    "data = [[1, 4], [1, 4]]\n",
    "my_style = {'linewidth': 3, 'marker': 'o', 'color': 'green'}\n",
    "\n",
    "plot(*data, **my_style) # Star operators unpack these to form a valid parameter list."
   ]
  },
  {
   "cell_type": "markdown",
   "metadata": {
    "slideshow": {
     "slide_type": "subslide"
    }
   },
   "source": [
    "## Star operator to unpack containers\n",
    "\n",
    "Unpacking lists"
   ]
  },
  {
   "cell_type": "code",
   "execution_count": 11,
   "metadata": {},
   "outputs": [
    {
     "name": "stdout",
     "output_type": "stream",
     "text": [
      "a = 0\n",
      "c = [0, 1, 2, 3] d = 4\n",
      "c = 0 d = [1, 2, 3, 4]\n",
      "c = 0 d = [1, 2, 3] e = 4\n"
     ]
    }
   ],
   "source": [
    "a, b = [0, 1]   \n",
    "print(\"a =\", a)\n",
    "\n",
    "*c, d = [0, 1, 2, 3, 4]\n",
    "print(\"c =\", c, \"d =\", d)\n",
    "\n",
    "c, *d = [0, 1, 2, 3, 4]\n",
    "print(\"c =\", c, \"d =\", d)\n",
    "\n",
    "c, *d, e = [0, 1, 2, 3, 4]\n",
    "print(\"c =\", c, \"d =\", d, \"e =\", e)"
   ]
  },
  {
   "cell_type": "markdown",
   "metadata": {
    "slideshow": {
     "slide_type": "subslide"
    }
   },
   "source": [
    "Unpacking dictionaries"
   ]
  },
  {
   "cell_type": "code",
   "execution_count": 12,
   "metadata": {},
   "outputs": [
    {
     "name": "stdout",
     "output_type": "stream",
     "text": [
      "a = ['nr1', 'nr2'] b = nr3\n",
      "a = [('nr1', 10), ('nr2', 36)] b = ('nr3', 57)\n",
      "a = [10, 36] b = 57\n"
     ]
    }
   ],
   "source": [
    "*a, b = {\"nr1\": 10, \"nr2\": 36, \"nr3\": 57}  # we get the key words\n",
    "print(\"a =\", a, \"b =\", b)\n",
    "\n",
    "*a, b = {\"nr1\": 10, \"nr2\": 36, \"nr3\": 57}.items() # we get key-word-value pairs\n",
    "print(\"a =\", a, \"b =\", b)\n",
    "\n",
    "*a, b = {\"nr1\": 10, \"nr2\": 36, \"nr3\": 57}.values() # we get the values\n",
    "print(\"a =\", a, \"b =\", b)"
   ]
  },
  {
   "cell_type": "markdown",
   "metadata": {
    "slideshow": {
     "slide_type": "slide"
    }
   },
   "source": [
    "## Star operators in function definitions\n",
    "\n",
    "A function can take an optional number of **positional** arguments by using a **single star**."
   ]
  },
  {
   "cell_type": "code",
   "execution_count": 13,
   "metadata": {},
   "outputs": [
    {
     "name": "stdout",
     "output_type": "stream",
     "text": [
      "<class 'tuple'>\n",
      "s = 93\n"
     ]
    }
   ],
   "source": [
    "def add(*args):\n",
    "    print(type(args))\n",
    "    return sum(args)\n",
    "\n",
    "s = add(1, 2, 3, 4, 5, 8, 70)\n",
    "print(\"s =\", s)"
   ]
  },
  {
   "cell_type": "markdown",
   "metadata": {
    "slideshow": {
     "slide_type": "subslide"
    }
   },
   "source": [
    "## Star operator in function definitions (cont)\n",
    "\n",
    "A function can take an optional number of **keyword arguments** by using a **double star**."
   ]
  },
  {
   "cell_type": "code",
   "execution_count": 14,
   "metadata": {},
   "outputs": [
    {
     "name": "stdout",
     "output_type": "stream",
     "text": [
      "<class 'dict'>\n",
      "the key name has the value Joe\n",
      "the key age has the value 20\n"
     ]
    }
   ],
   "source": [
    "def myfunc(*args, **kwargs):\n",
    "    print(type(kwargs))\n",
    "    for key, val in kwargs.items():\n",
    "        print(f\"the key {key} has the value {val}\")\n",
    "         \n",
    "myfunc(name = \"Joe\", age = 20)"
   ]
  },
  {
   "cell_type": "markdown",
   "metadata": {},
   "source": [
    "You can use any names you want. The names args and kwargs are often used."
   ]
  },
  {
   "cell_type": "markdown",
   "metadata": {
    "slideshow": {
     "slide_type": "subslide"
    }
   },
   "source": [
    "## Passing (tunneling) arguments\n",
    "Also in the definition of functions you might find these constructs. This is often used to pass arguments through a function."
   ]
  },
  {
   "cell_type": "code",
   "execution_count": 15,
   "metadata": {},
   "outputs": [
    {
     "name": "stdout",
     "output_type": "stream",
     "text": [
      "y = 1 z = 2, u = 15\n"
     ]
    },
    {
     "data": {
      "text/plain": [
       "9"
      ]
     },
     "execution_count": 15,
     "metadata": {},
     "output_type": "execute_result"
    }
   ],
   "source": [
    "def outer(f, x, *args, **keywords): \n",
    "    return f(x, *args, **keywords)\n",
    "\n",
    "def inner(x, y, z, u): \n",
    "    print(f\"y = {y} z = {z}, u = {u}\")\n",
    "    return x**2\n",
    "\n",
    "outer(inner, 3, 1, 2, u=15)"
   ]
  },
  {
   "cell_type": "markdown",
   "metadata": {},
   "source": [
    "Note, the function outer cannot know how many arguments it needs to provide a full parameter list to the “inner” function f."
   ]
  },
  {
   "cell_type": "markdown",
   "metadata": {
    "slideshow": {
     "slide_type": "subslide"
    }
   },
   "source": [
    "## Using an optional number of arguments\n",
    "\n",
    "Instead of using\n",
    "\n",
    "```python\n",
    "def make_one_parameter_func(f, a, b, c, d):\n",
    "```\n",
    "\n",
    "we could use\n",
    "\n",
    "```python\n",
    "def make_one_parameter_func(f, *args, **kwargs):\n",
    "```\n",
    "\n",
    "Inside the definition of the function, `args` is a tuple and `kwargs` is a dictionary.\n"
   ]
  },
  {
   "cell_type": "markdown",
   "metadata": {
    "slideshow": {
     "slide_type": "subslide"
    }
   },
   "source": [
    "### A new partial application"
   ]
  },
  {
   "cell_type": "code",
   "execution_count": 16,
   "metadata": {},
   "outputs": [
    {
     "name": "stdout",
     "output_type": "stream",
     "text": [
      "d/dx(2 sin(3x)) when x = 0 is 5.99999100000405\n"
     ]
    }
   ],
   "source": [
    "def g(x, A, omega): \n",
    "    return A*sin(omega*x)\n",
    "\n",
    "def h(x, a, b, c, d, e): \n",
    "    return a*x**4+b*x**3+c*x**2+d*x+e\n",
    "\n",
    "def derivative1(f, x, h = 1e-3): \n",
    "    return (f(x+h)-f(x))/h\n",
    "\n",
    "def make_one_parameter_func(f, *args, **kwargs):\n",
    "    def newf(x):\n",
    "        return f(x, *args, **kwargs) # args and kwargs are unpacked\n",
    "    return newf\n",
    "\n",
    "newg = make_one_parameter_func(g, A = 2, omega = 3)\n",
    "dgdx = derivative1(newg, 0)\n",
    "print(\"d/dx(2 sin(3x)) when x = 0 is\", dgdx)"
   ]
  },
  {
   "cell_type": "markdown",
   "metadata": {
    "slideshow": {
     "slide_type": "subslide"
    }
   },
   "source": [
    "### Summary\n",
    "\n",
    "Partial applications (or closures) are used to make a new funcion with a reduced number of parameters.\n",
    "\n",
    "Using closures we avoid having to use global variables.\n",
    "\n",
    "\n",
    "```python\n",
    "def make_function(...):\n",
    "    # possible code\n",
    "    def some_function(...):  # fewer parameters\n",
    "        # code accessing variables from the enclosing scope\n",
    "    return some_function\n",
    "```"
   ]
  },
  {
   "cell_type": "markdown",
   "metadata": {
    "slideshow": {
     "slide_type": "slide"
    }
   },
   "source": [
    "## Numerical integration\n",
    "\n",
    "The module `scipy.integrate` has a function `quad` that can be used to integrate a function over an interval.\n",
    "\n",
    "Use `quad(f, a, b)` to find\n",
    "\n",
    "$$\\int_a^b f(x) dx.$$\n",
    "\n",
    "`quad` returns the result of the integral and the estimated error (in a tuple)."
   ]
  },
  {
   "cell_type": "markdown",
   "metadata": {
    "slideshow": {
     "slide_type": "subslide"
    }
   },
   "source": [
    "### Plots with filled area between curves\n",
    "\n",
    "The `matplotlib.pyplot` method `filled_between` shows a filled area between two curves.\n",
    "\n",
    "If only one $y$-argument is used, the area is filled between the $y$-values and the $x$-axis."
   ]
  },
  {
   "cell_type": "code",
   "execution_count": 17,
   "metadata": {},
   "outputs": [
    {
     "data": {
      "image/png": "[encoded data removed]",
      "text/plain": [
       "<Figure size 432x288 with 1 Axes>"
      ]
     },
     "metadata": {
      "needs_background": "light"
     },
     "output_type": "display_data"
    }
   ],
   "source": [
    "x = linspace(-2*pi, 2*pi, 100)\n",
    "y = sin(x)\n",
    "\n",
    "plot(x, y)                       \n",
    "fill_between(x, y, alpha = 0.1)  # use semi transparent color for area\n",
    "grid()"
   ]
  },
  {
   "cell_type": "markdown",
   "metadata": {
    "slideshow": {
     "slide_type": "subslide"
    }
   },
   "source": [
    "### Fill area between two $x$-values\n",
    "\n",
    "To show filled area where $ -\\pi \\lt x \\lt \\pi/2$, use two $x$-arrays."
   ]
  },
  {
   "cell_type": "code",
   "execution_count": 18,
   "metadata": {},
   "outputs": [
    {
     "data": {
      "image/png": "[encoded data removed]",
      "text/plain": [
       "<Figure size 432x288 with 1 Axes>"
      ]
     },
     "metadata": {
      "needs_background": "light"
     },
     "output_type": "display_data"
    }
   ],
   "source": [
    "x = linspace(-2*pi, 2*pi, 100)  # for the graph\n",
    "\n",
    "x1 = linspace(-pi, pi/2, 50)    # for the filled area\n",
    "\n",
    "plot(x, sin(x))                       \n",
    "fill_between(x1, sin(x1), alpha = 0.2) \n",
    "grid() "
   ]
  },
  {
   "cell_type": "markdown",
   "metadata": {
    "slideshow": {
     "slide_type": "subslide"
    }
   },
   "source": [
    "### Fill area between two graphs"
   ]
  },
  {
   "cell_type": "code",
   "execution_count": 19,
   "metadata": {},
   "outputs": [
    {
     "data": {
      "text/plain": [
       "<matplotlib.collections.PolyCollection at 0x119bd07d0>"
      ]
     },
     "execution_count": 19,
     "metadata": {},
     "output_type": "execute_result"
    },
    {
     "data": {
      "image/png": "[encoded data removed]",
      "text/plain": [
       "<Figure size 432x288 with 1 Axes>"
      ]
     },
     "metadata": {
      "needs_background": "light"
     },
     "output_type": "display_data"
    }
   ],
   "source": [
    "x = linspace(-2*pi, 2*pi, 100)\n",
    "y1 = sin(x)\n",
    "y2 = cos(x)\n",
    "\n",
    "plot(x, y1, color='red')\n",
    "plot(x, y2, color='blue')\n",
    "fill_between(x, y1, y2, color='green', alpha=0.2)"
   ]
  },
  {
   "cell_type": "markdown",
   "metadata": {
    "slideshow": {
     "slide_type": "subslide"
    }
   },
   "source": [
    "### Fill area between two graphs using `where`"
   ]
  },
  {
   "cell_type": "code",
   "execution_count": 20,
   "metadata": {},
   "outputs": [
    {
     "data": {
      "text/plain": [
       "<matplotlib.collections.PolyCollection at 0x119d0cb50>"
      ]
     },
     "execution_count": 20,
     "metadata": {},
     "output_type": "execute_result"
    },
    {
     "data": {
      "image/png": "[encoded data removed]",
      "text/plain": [
       "<Figure size 432x288 with 1 Axes>"
      ]
     },
     "metadata": {
      "needs_background": "light"
     },
     "output_type": "display_data"
    }
   ],
   "source": [
    "x = linspace(-2*pi, 2*pi, 100)\n",
    "y1 = sin(x)\n",
    "y2 = cos(x)\n",
    "\n",
    "plot(x, y1, color='red')\n",
    "plot(x, y2, color='blue')\n",
    "fill_between(x, y1, y2, where=y1>y2, color='green', alpha=0.2)"
   ]
  },
  {
   "cell_type": "markdown",
   "metadata": {},
   "source": [
    "`where` results in a **Boolean array**, which we will talk about in lectures to come."
   ]
  },
  {
   "cell_type": "markdown",
   "metadata": {
    "slideshow": {
     "slide_type": "slide"
    }
   },
   "source": [
    "## More about the bisection method\n",
    "\n",
    "One approach using a list as parameter and changing the content of that list:"
   ]
  },
  {
   "cell_type": "code",
   "execution_count": 21,
   "metadata": {},
   "outputs": [],
   "source": [
    "def bisec1(f, interval, tol):\n",
    "    for i in range(100):\n",
    "        if interval[1]-interval[0] < tol:\n",
    "            break\n",
    "        mid = (interval[0]+interval[1])/2\n",
    "        if f(interval[0])*f(mid) < 0:\n",
    "            interval[1] = mid\n",
    "        else:\n",
    "            interval[0] = mid\n",
    "    return interval, mid"
   ]
  },
  {
   "cell_type": "markdown",
   "metadata": {
    "slideshow": {
     "slide_type": "subslide"
    }
   },
   "source": [
    "### Testing `bisec1` "
   ]
  },
  {
   "cell_type": "code",
   "execution_count": 22,
   "metadata": {},
   "outputs": [
    {
     "name": "stdout",
     "output_type": "stream",
     "text": [
      "mid =  -1.2909944480052218\n"
     ]
    },
    {
     "data": {
      "image/png": "[encoded data removed]",
      "text/plain": [
       "<Figure size 432x288 with 1 Axes>"
      ]
     },
     "metadata": {
      "needs_background": "light"
     },
     "output_type": "display_data"
    }
   ],
   "source": [
    "def f(x): return 3*x**2-5\n",
    "\n",
    "def make_plot(f, interval):\n",
    "    x = linspace(interval[0], interval[1], 50)\n",
    "    plot(x, f(x))\n",
    "    grid()  \n",
    "\n",
    "interval = [-3, 0.5]\n",
    "\n",
    "i, m = bisec1(f, interval, 1e-9)  \n",
    "print(\"mid = \", m)\n",
    "make_plot(f, interval)  # the plot must be made before bisec1 is called"
   ]
  },
  {
   "cell_type": "markdown",
   "metadata": {
    "slideshow": {
     "slide_type": "subslide"
    }
   },
   "source": [
    "### An approach not changing the content of `interval`"
   ]
  },
  {
   "cell_type": "code",
   "execution_count": 23,
   "metadata": {},
   "outputs": [],
   "source": [
    "def bisec2(f, interval, tol):\n",
    "    a = interval[0]          # all changes are made on a and b\n",
    "    b = interval[1]\n",
    "    for i in range(100):\n",
    "        if b-a < tol:\n",
    "            break\n",
    "        mid = (a+b)/2\n",
    "        if f(a)*f(mid) < 0:\n",
    "            b = mid\n",
    "        else:\n",
    "            a = mid\n",
    "    return [a, b], mid"
   ]
  },
  {
   "cell_type": "markdown",
   "metadata": {
    "slideshow": {
     "slide_type": "subslide"
    }
   },
   "source": [
    "### Testing `bisec2` "
   ]
  },
  {
   "cell_type": "code",
   "execution_count": 24,
   "metadata": {},
   "outputs": [
    {
     "name": "stdout",
     "output_type": "stream",
     "text": [
      "mid =  -1.2909944480052218\n"
     ]
    },
    {
     "data": {
      "image/png": "[encoded data removed]",
      "text/plain": [
       "<Figure size 432x288 with 1 Axes>"
      ]
     },
     "metadata": {
      "needs_background": "light"
     },
     "output_type": "display_data"
    }
   ],
   "source": [
    "def f(x): return 3*x**2-5\n",
    "\n",
    "def make_plot(f, interval):\n",
    "    x = linspace(interval[0], interval[1], 50)\n",
    "    plot(x, f(x))\n",
    "    grid()   \n",
    "\n",
    "interval = [-3, 0.5]\n",
    "i, m = bisec2(f, interval, 1e-9)  \n",
    "print(\"mid = \", m)\n",
    "make_plot(f, interval)        # works since interval is intact since creation"
   ]
  },
  {
   "cell_type": "markdown",
   "metadata": {
    "slideshow": {
     "slide_type": "subslide"
    }
   },
   "source": [
    "### An approach using the end points of `interval` "
   ]
  },
  {
   "cell_type": "code",
   "execution_count": 25,
   "metadata": {},
   "outputs": [],
   "source": [
    "def bisec3(f, a, b, tol):  # a and b are endpoints of the interval\n",
    "    for i in range(100):\n",
    "        if b-a < tol:\n",
    "            break\n",
    "        mid = (a+b)/2\n",
    "        if f(a)*f(mid) < 0:\n",
    "            b = mid\n",
    "        else:\n",
    "            a = mid\n",
    "    return [a, b], mid"
   ]
  },
  {
   "cell_type": "markdown",
   "metadata": {
    "slideshow": {
     "slide_type": "subslide"
    }
   },
   "source": [
    "### Testing `bisec3` "
   ]
  },
  {
   "cell_type": "code",
   "execution_count": 26,
   "metadata": {},
   "outputs": [
    {
     "name": "stdout",
     "output_type": "stream",
     "text": [
      "mid =  -1.2909944480052218\n"
     ]
    },
    {
     "data": {
      "image/png": "[encoded data removed]",
      "text/plain": [
       "<Figure size 432x288 with 1 Axes>"
      ]
     },
     "metadata": {
      "needs_background": "light"
     },
     "output_type": "display_data"
    }
   ],
   "source": [
    "def f(x): return 3*x**2-5\n",
    "\n",
    "def make_plot(f, interval):\n",
    "    x = linspace(interval[0], interval[1], 50)\n",
    "    plot(x, f(x))\n",
    "    grid()   \n",
    "\n",
    "interval = [-3, 0.5]\n",
    "i, m = bisec3(f, interval[0], interval[1], 1e-9)  # pass the end points as arguments\n",
    "print(\"mid = \", m)\n",
    "make_plot(f, interval) "
   ]
  },
  {
   "cell_type": "markdown",
   "metadata": {
    "slideshow": {
     "slide_type": "subslide"
    }
   },
   "source": [
    "### An approach using `return` to break"
   ]
  },
  {
   "cell_type": "code",
   "execution_count": 27,
   "metadata": {},
   "outputs": [
    {
     "name": "stdout",
     "output_type": "stream",
     "text": [
      "-1.2909944480052218\n"
     ]
    }
   ],
   "source": [
    "def bisec4(f, a, b, tol):  # a and b are endpoints of the interval\n",
    "    for i in range(100):\n",
    "        if b-a < tol:\n",
    "             return [a, b], mid\n",
    "        mid = (a+b)/2\n",
    "        if f(a)*f(mid) < 0:\n",
    "            b = mid\n",
    "        else:\n",
    "            a = mid\n",
    "\n",
    "i, m = bisec4(f, -3, 0.5, 1e-9)\n",
    "print(m)"
   ]
  },
  {
   "cell_type": "markdown",
   "metadata": {
    "slideshow": {
     "slide_type": "subslide"
    }
   },
   "source": [
    "## A recursive function"
   ]
  },
  {
   "cell_type": "code",
   "execution_count": 28,
   "metadata": {},
   "outputs": [
    {
     "name": "stdout",
     "output_type": "stream",
     "text": [
      "-1.2909944484126754\n"
     ]
    }
   ],
   "source": [
    "def bisec5(f, a, b, tol):\n",
    "    mid = (a+b)/2\n",
    "    if b-a <= tol:\n",
    "             return [a, b], mid\n",
    "    if f(a)*f(mid) < 0:\n",
    "        return bisec5(f, a, mid, tol)\n",
    "    else:\n",
    "        return bisec5(f, mid, b, tol)\n",
    "\n",
    "i, m = bisec5(f, -3, 0.5, 1e-9)\n",
    "print(m)"
   ]
  },
  {
   "cell_type": "markdown",
   "metadata": {},
   "source": [
    "In general, avoid recursive functions in Python."
   ]
  }
 ],
 "metadata": {
  "celltoolbar": "Slideshow",
  "kernelspec": {
   "display_name": "Python 3",
   "language": "python",
   "name": "python3"
  },
  "language_info": {
   "codemirror_mode": {
    "name": "ipython",
    "version": 3
   },
   "file_extension": ".py",
   "mimetype": "text/x-python",
   "name": "python",
   "nbconvert_exporter": "python",
   "pygments_lexer": "ipython3",
   "version": "3.8.3"
  },
  "rise": {
   "autolaunch": true,
   "footer": " ",
   "theme": "simple",
   "transition": "slide"
  }
 },
 "nbformat": 4,
 "nbformat_minor": 2
}
